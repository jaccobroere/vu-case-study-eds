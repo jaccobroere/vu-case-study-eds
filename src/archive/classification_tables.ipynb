{
 "cells": [
  {
   "attachments": {},
   "cell_type": "markdown",
   "metadata": {},
   "source": [
    "# VU Econometics and Data Science: Case Study\n",
    "```\n",
    "Author(s): Jacco Broere\n",
    "```\n",
    "\n",
    "\n",
    "### Setup\n",
    "- Setup config.ini file\n",
    "- Install necessary packages\n",
    "- Download and unpack data\n",
    "\n"
   ]
  },
  {
   "cell_type": "code",
   "execution_count": 1,
   "metadata": {},
   "outputs": [
    {
     "name": "stderr",
     "output_type": "stream",
     "text": [
      "/Users/jacco/Documents/repos/vu-case-study-eds/venv/lib/python3.10/site-packages/tqdm/auto.py:22: TqdmWarning: IProgress not found. Please update jupyter and ipywidgets. See https://ipywidgets.readthedocs.io/en/stable/user_install.html\n",
      "  from .autonotebook import tqdm as notebook_tqdm\n"
     ]
    }
   ],
   "source": [
    "# import utility modules\n",
    "import pandas as pd\n",
    "import numpy as np\n",
    "import configparser\n",
    "import os\n",
    "from joblib import dump, load\n",
    "import datetime as dt\n",
    "from tqdm import tqdm\n",
    "import json\n",
    "\n",
    "\n",
    "# import sweetviz\n",
    "import matplotlib.pyplot as plt\n",
    "\n",
    "# import optuna\n",
    "import optuna\n",
    "optuna.logging.set_verbosity(optuna.logging.ERROR)\n",
    "\n",
    "# helper functions\n",
    "from helpers.helper_functions import transform_data, add_actuals, get_pca_pipeline, get_model\n",
    "from helpers.helper_classes import AddFeatureNames, GeneSPCA, EnetSPCA\n",
    "from helpers.config.hyperparameters import OptunaOptimzation\n",
    "from helpers.config.hyperparameters import PCA_LGBM_CFG, SPCA_LGBM_CFG, GSPCA_LGBM_CFG, PCA_LR_CFG, SPCA_LR_CFG, GSPCA_LR_CFG\n",
    "\n",
    "\n",
    "# sklearn\n",
    "from sklearn.decomposition import PCA, SparsePCA\n",
    "from sklearn.preprocessing import StandardScaler\n",
    "from sklearn.pipeline import Pipeline\n",
    "from sklearn.linear_model import LogisticRegression\n",
    "from sklearn.model_selection import cross_val_score, train_test_split, ShuffleSplit\n",
    "from sklearn.metrics import confusion_matrix, classification_report, ConfusionMatrixDisplay, roc_auc_score, roc_curve, RocCurveDisplay, f1_score\n",
    "from sklearn.svm import SVC\n",
    "from sklearn.neighbors import KNeighborsClassifier\n",
    "from sklearn.metrics import accuracy_score\n",
    "\n",
    "\n",
    "# LightGBM\n",
    "from lightgbm import LGBMClassifier\n",
    "\n",
    "# feature_engine\n",
    "from feature_engine.selection import DropFeatures, DropConstantFeatures, DropDuplicateFeatures"
   ]
  },
  {
   "cell_type": "code",
   "execution_count": 23,
   "metadata": {},
   "outputs": [],
   "source": [
    "# Read config.ini file\n",
    "config = configparser.ConfigParser()\n",
    "config.read('config.ini')\n",
    "\n",
    "os.chdir(config['PATH']['ROOT_DIR'])\n",
    "\n",
    "DATA_DIR = config['PATH']['DATA_DIR']\n",
    "DATASETS = json.loads(config.get('PARAMS', 'DATASETS'))\n",
    "PIPE_DIR = config[\"LOGGING\"][\"PIPE_DIR\"]\n",
    "LOG_DIR = config[\"LOGGING\"][\"LOG_DIR\"]"
   ]
  },
  {
   "cell_type": "code",
   "execution_count": 4,
   "metadata": {},
   "outputs": [],
   "source": [
    "# Load data library\n",
    "data = load(DATA_DIR + '/microarray-data-dict.lib')\n",
    "fitted_pipelines = load(os.path.join(PIPE_DIR, 'fitted_pipelines.lib'))"
   ]
  },
  {
   "cell_type": "code",
   "execution_count": 21,
   "metadata": {},
   "outputs": [
    {
     "data": {
      "text/html": [
       "<div>\n",
       "<style scoped>\n",
       "    .dataframe tbody tr th:only-of-type {\n",
       "        vertical-align: middle;\n",
       "    }\n",
       "\n",
       "    .dataframe tbody tr th {\n",
       "        vertical-align: top;\n",
       "    }\n",
       "\n",
       "    .dataframe thead tr th {\n",
       "        text-align: left;\n",
       "    }\n",
       "</style>\n",
       "<table border=\"1\" class=\"dataframe\">\n",
       "  <thead>\n",
       "    <tr>\n",
       "      <th></th>\n",
       "      <th colspan=\"2\" halign=\"left\">PCA</th>\n",
       "      <th colspan=\"2\" halign=\"left\">SPCA</th>\n",
       "      <th colspan=\"2\" halign=\"left\">GSPCA</th>\n",
       "    </tr>\n",
       "    <tr>\n",
       "      <th></th>\n",
       "      <th>LGBM</th>\n",
       "      <th>LR</th>\n",
       "      <th>LGBM</th>\n",
       "      <th>LR</th>\n",
       "      <th>LGBM</th>\n",
       "      <th>LR</th>\n",
       "    </tr>\n",
       "  </thead>\n",
       "  <tbody>\n",
       "    <tr>\n",
       "      <th>sorlie</th>\n",
       "      <td>5</td>\n",
       "      <td>NaN</td>\n",
       "      <td>NaN</td>\n",
       "      <td>NaN</td>\n",
       "      <td>NaN</td>\n",
       "      <td>NaN</td>\n",
       "    </tr>\n",
       "    <tr>\n",
       "      <th>khan</th>\n",
       "      <td>NaN</td>\n",
       "      <td>NaN</td>\n",
       "      <td>NaN</td>\n",
       "      <td>NaN</td>\n",
       "      <td>NaN</td>\n",
       "      <td>NaN</td>\n",
       "    </tr>\n",
       "    <tr>\n",
       "      <th>gravier</th>\n",
       "      <td>NaN</td>\n",
       "      <td>NaN</td>\n",
       "      <td>NaN</td>\n",
       "      <td>NaN</td>\n",
       "      <td>NaN</td>\n",
       "      <td>NaN</td>\n",
       "    </tr>\n",
       "    <tr>\n",
       "      <th>christensen</th>\n",
       "      <td>NaN</td>\n",
       "      <td>NaN</td>\n",
       "      <td>NaN</td>\n",
       "      <td>NaN</td>\n",
       "      <td>NaN</td>\n",
       "      <td>NaN</td>\n",
       "    </tr>\n",
       "  </tbody>\n",
       "</table>\n",
       "</div>"
      ],
      "text/plain": [
       "             PCA      SPCA      GSPCA     \n",
       "            LGBM   LR LGBM   LR  LGBM   LR\n",
       "sorlie         5  NaN  NaN  NaN   NaN  NaN\n",
       "khan         NaN  NaN  NaN  NaN   NaN  NaN\n",
       "gravier      NaN  NaN  NaN  NaN   NaN  NaN\n",
       "christensen  NaN  NaN  NaN  NaN   NaN  NaN"
      ]
     },
     "execution_count": 21,
     "metadata": {},
     "output_type": "execute_result"
    }
   ],
   "source": [
    "multicolumn = pd.MultiIndex.from_product([['PCA', 'SPCA', 'GSPCA'], ['LGBM', 'LR']])\n",
    "res = pd.DataFrame(index=DATASETS, columns=multicolumn)\n",
    "\n",
    "res.loc['sorlie', ('PCA', 'LGBM')] = 5\n",
    "res"
   ]
  },
  {
   "cell_type": "code",
   "execution_count": 17,
   "metadata": {},
   "outputs": [
    {
     "ename": "NameError",
     "evalue": "name 'fitted_pipelines' is not defined",
     "output_type": "error",
     "traceback": [
      "\u001b[0;31m---------------------------------------------------------------------------\u001b[0m",
      "\u001b[0;31mNameError\u001b[0m                                 Traceback (most recent call last)",
      "Cell \u001b[0;32mIn[17], line 11\u001b[0m\n\u001b[1;32m      2\u001b[0m X_train, X_test \u001b[39m=\u001b[39m (\n\u001b[1;32m      3\u001b[0m         data[dataset][\u001b[39m\"\u001b[39m\u001b[39mnone\u001b[39m\u001b[39m\"\u001b[39m][\u001b[39m\"\u001b[39m\u001b[39mX_train\u001b[39m\u001b[39m\"\u001b[39m],\n\u001b[1;32m      4\u001b[0m         data[dataset][\u001b[39m\"\u001b[39m\u001b[39mnone\u001b[39m\u001b[39m\"\u001b[39m][\u001b[39m\"\u001b[39m\u001b[39mX_test\u001b[39m\u001b[39m\"\u001b[39m],\n\u001b[1;32m      5\u001b[0m )\n\u001b[1;32m      6\u001b[0m y_train, y_test \u001b[39m=\u001b[39m (\n\u001b[1;32m      7\u001b[0m         data[dataset][\u001b[39m\"\u001b[39m\u001b[39mnone\u001b[39m\u001b[39m\"\u001b[39m][\u001b[39m\"\u001b[39m\u001b[39my_train\u001b[39m\u001b[39m\"\u001b[39m],\n\u001b[1;32m      8\u001b[0m         data[dataset][\u001b[39m\"\u001b[39m\u001b[39mnone\u001b[39m\u001b[39m\"\u001b[39m][\u001b[39m\"\u001b[39m\u001b[39my_test\u001b[39m\u001b[39m\"\u001b[39m],\n\u001b[1;32m      9\u001b[0m )\n\u001b[0;32m---> 11\u001b[0m pipes \u001b[39m=\u001b[39m fitted_pipelines[dataset]\n\u001b[1;32m     13\u001b[0m \u001b[39mfor\u001b[39;00m name, pipe \u001b[39min\u001b[39;00m pipes\u001b[39m.\u001b[39mitems():\n\u001b[1;32m     14\u001b[0m     pca_name, model_name \u001b[39m=\u001b[39m name\u001b[39m.\u001b[39msplit(\u001b[39m\"\u001b[39m\u001b[39m_\u001b[39m\u001b[39m\"\u001b[39m)\n",
      "\u001b[0;31mNameError\u001b[0m: name 'fitted_pipelines' is not defined"
     ]
    }
   ],
   "source": [
    "for dataset in DATASETS:\n",
    "    X_train, X_test = (\n",
    "            data[dataset][\"none\"][\"X_train\"],\n",
    "            data[dataset][\"none\"][\"X_test\"],\n",
    "    )\n",
    "    y_train, y_test = (\n",
    "            data[dataset][\"none\"][\"y_train\"],\n",
    "            data[dataset][\"none\"][\"y_test\"],\n",
    "    )\n",
    "    \n",
    "    pipes = fitted_pipelines[dataset]\n",
    "    \n",
    "    for name, pipe in pipes.items():\n",
    "        pca_name, model_name = name.split(\"_\")\n",
    "        \n",
    "        score = pipe.score(X_test, y_test)\n",
    "        res.loc[dataset, (pca_name, model_name)] = score"
   ]
  },
  {
   "cell_type": "code",
   "execution_count": 27,
   "metadata": {},
   "outputs": [
    {
     "name": "stderr",
     "output_type": "stream",
     "text": [
      "/var/folders/4_/28dcxj4n59lcqwkzckn91gp40000gn/T/ipykernel_50577/101482198.py:1: FutureWarning: In future versions `DataFrame.to_latex` is expected to utilise the base implementation of `Styler.to_latex` for formatting and rendering. The arguments signature may therefore change. It is recommended instead to use `DataFrame.style.to_latex` which also contains additional functionality.\n",
      "  res.to_latex(os.path.join(LOG_DIR, 'latex_tables', 'classification_results.tex'), column_format='cccccc')\n"
     ]
    }
   ],
   "source": [
    "res.to_latex(os.path.join(LOG_DIR, 'latex_tables', 'classification_results.tex'))"
   ]
  }
 ],
 "metadata": {
  "kernelspec": {
   "display_name": "venv",
   "language": "python",
   "name": "python3"
  },
  "language_info": {
   "codemirror_mode": {
    "name": "ipython",
    "version": 3
   },
   "file_extension": ".py",
   "mimetype": "text/x-python",
   "name": "python",
   "nbconvert_exporter": "python",
   "pygments_lexer": "ipython3",
   "version": "3.10.9"
  },
  "orig_nbformat": 4,
  "vscode": {
   "interpreter": {
    "hash": "4fed3f540145570e7833937a1e1d68a988a44bb35475cfc6c2f4b4584646998d"
   }
  }
 },
 "nbformat": 4,
 "nbformat_minor": 2
}
