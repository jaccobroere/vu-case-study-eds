{
 "cells": [
  {
   "cell_type": "code",
   "execution_count": 23,
   "metadata": {},
   "outputs": [
    {
     "name": "stdout",
     "output_type": "stream",
     "text": [
      "dname: yeoh, classes: [1. 2. 3. 4. 5. 6.], percentage: [ 6.0483871  10.88709677 25.80645161  8.06451613 17.33870968 31.85483871]\n",
      "dname: nakayama, classes: [ 1.  2.  3.  4.  5.  6.  7.  8.  9. 10.], percentage: [14.28571429  3.80952381  5.71428571  2.85714286 20.          2.85714286\n",
      " 14.28571429 18.0952381  15.23809524  2.85714286]\n",
      "dname: golub, classes: [1. 2.], percentage: [65.27777778 34.72222222]\n",
      "dname: khan, classes: [1. 2. 3. 4.], percentage: [12.6984127  36.50793651 19.04761905 31.74603175]\n",
      "dname: west, classes: [1. 2.], percentage: [51.02040816 48.97959184]\n",
      "dname: alon, classes: [1. 2.], percentage: [35.48387097 64.51612903]\n",
      "dname: subramanian, classes: [1. 2.], percentage: [66. 34.]\n",
      "dname: burczynski, classes: [1. 2. 3.], percentage: [46.45669291 33.07086614 20.47244094]\n",
      "dname: chin, classes: [1. 2.], percentage: [36.44067797 63.55932203]\n",
      "dname: borovecki, classes: [1. 2.], percentage: [45.16129032 54.83870968]\n",
      "dname: shipp, classes: [1. 2.], percentage: [75.32467532 24.67532468]\n",
      "dname: tian, classes: [1. 2.], percentage: [79.19075145 20.80924855]\n",
      "dname: gordon, classes: [1. 2.], percentage: [82.87292818 17.12707182]\n",
      "dname: chiaretti, classes: [1. 2. 3. 4. 5. 6.], percentage: [ 7.8125  28.90625  3.90625 57.8125   0.78125  0.78125]\n",
      "dname: sorlie, classes: [1. 2. 3. 4. 5.], percentage: [16.47058824 12.94117647 15.29411765 17.64705882 37.64705882]\n",
      "dname: chowdary, classes: [1. 2.], percentage: [59.61538462 40.38461538]\n",
      "dname: sun, classes: [1. 2. 3. 4.], percentage: [14.44444444 45.         12.77777778 27.77777778]\n",
      "dname: pomeroy, classes: [1. 2.], percentage: [35. 65.]\n",
      "dname: gravier, classes: [1. 2.], percentage: [66.07142857 33.92857143]\n",
      "dname: su, classes: [1. 2. 3. 4.], percentage: [24.50980392 25.49019608 27.45098039 22.54901961]\n",
      "dname: christensen, classes: [1. 2. 3.], percentage: [52.07373272 39.17050691  8.75576037]\n",
      "dname: singh, classes: [1. 2.], percentage: [49.01960784 50.98039216]\n"
     ]
    }
   ],
   "source": [
    "# Imports\n",
    "\n",
    "# import utility modules\n",
    "import pandas as pd\n",
    "import numpy as np\n",
    "import configparser\n",
    "import os\n",
    "\n",
    "from joblib import dump, load\n",
    "\n",
    "# Read config.ini file\n",
    "config = configparser.ConfigParser()\n",
    "config.read('config.ini')\n",
    "os.chdir(config['PATH']['ROOT_DIR'])\n",
    "\n",
    "# Read data\n",
    "data = load(config['PATH']['DATA_DIR'] + '/microarray-data-dict.lib')\n",
    "\n",
    "colnames = ['Samples', 'Features', 'Classes']\n",
    "\n",
    "data_dict = {}\n",
    "for key, v in data.items():\n",
    "    samples = 0\n",
    "    output = []\n",
    "    y_full = []\n",
    "    for data_name, data_cur in v['none'].items():\n",
    "        \n",
    "        # Count samples in X_train, X_test, y_train, y_test, later on divide by 2\n",
    "        samples = samples + data_cur.shape[0]\n",
    "\n",
    "        # Count unique classes in y_train, y_test\n",
    "        if data_name == 'y_train' or data_name == 'y_test':\n",
    "            output = output + sorted(data_cur[0].unique())\n",
    "            y_full = y_full + list(data_cur[0])\n",
    "\n",
    "    # Get unique classes and counts for y_full\n",
    "    classes, counts = np.unique(y_full, return_counts=True)\n",
    "\n",
    "    # print(classes, counts / np.sum(counts) * 100)\n",
    "    # data_dict[key] = [int(samples), features, classes]\n",
    "    print(f\"dname: {key}, classes: {classes}, percentage: {counts / np.sum(counts) * 100}\")\n",
    "\n",
    "df = pd.DataFrame.from_dict(data_dict, columns=colnames, orient= 'index')\n",
    "# print(df.to_latex())"
   ]
  },
  {
   "cell_type": "code",
   "execution_count": 24,
   "metadata": {},
   "outputs": [
    {
     "data": {
      "text/plain": [
       "[1.0,\n",
       " 2.0,\n",
       " 1.0,\n",
       " 2.0,\n",
       " 1.0,\n",
       " 1.0,\n",
       " 1.0,\n",
       " 2.0,\n",
       " 2.0,\n",
       " 2.0,\n",
       " 2.0,\n",
       " 1.0,\n",
       " 1.0,\n",
       " 2.0,\n",
       " 2.0,\n",
       " 1.0,\n",
       " 2.0,\n",
       " 2.0,\n",
       " 2.0,\n",
       " 2.0,\n",
       " 1.0,\n",
       " 1.0,\n",
       " 2.0,\n",
       " 2.0,\n",
       " 2.0,\n",
       " 2.0,\n",
       " 1.0,\n",
       " 2.0,\n",
       " 1.0,\n",
       " 2.0,\n",
       " 2.0,\n",
       " 2.0,\n",
       " 1.0,\n",
       " 2.0,\n",
       " 9]"
      ]
     },
     "execution_count": 24,
     "metadata": {},
     "output_type": "execute_result"
    }
   ],
   "source": [
    "list(data_cur[0].values) + [9]"
   ]
  },
  {
   "cell_type": "code",
   "execution_count": 28,
   "metadata": {},
   "outputs": [
    {
     "ename": "NameError",
     "evalue": "name 'plt' is not defined",
     "output_type": "error",
     "traceback": [
      "\u001b[0;31m---------------------------------------------------------------------------\u001b[0m",
      "\u001b[0;31mNameError\u001b[0m                                 Traceback (most recent call last)",
      "Cell \u001b[0;32mIn[28], line 13\u001b[0m\n\u001b[1;32m     10\u001b[0m pca \u001b[39m=\u001b[39m PCA(n_components\u001b[39m=\u001b[39m\u001b[39m2\u001b[39m, whiten\u001b[39m=\u001b[39m\u001b[39mTrue\u001b[39;00m)\n\u001b[1;32m     11\u001b[0m pca\u001b[39m.\u001b[39mfit(X)\n\u001b[0;32m---> 13\u001b[0m fig, ax \u001b[39m=\u001b[39m plt\u001b[39m.\u001b[39msubplots(\u001b[39m1\u001b[39m, \u001b[39m2\u001b[39m, figsize\u001b[39m=\u001b[39m(\u001b[39m16\u001b[39m, \u001b[39m6\u001b[39m))\n\u001b[1;32m     14\u001b[0m fig\u001b[39m.\u001b[39msubplots_adjust(left\u001b[39m=\u001b[39m\u001b[39m0.0625\u001b[39m, right\u001b[39m=\u001b[39m\u001b[39m0.95\u001b[39m, wspace\u001b[39m=\u001b[39m\u001b[39m0.1\u001b[39m)\n\u001b[1;32m     16\u001b[0m \u001b[39m# plot data\u001b[39;00m\n",
      "\u001b[0;31mNameError\u001b[0m: name 'plt' is not defined"
     ]
    }
   ],
   "source": []
  },
  {
   "cell_type": "code",
   "execution_count": null,
   "metadata": {},
   "outputs": [],
   "source": []
  }
 ],
 "metadata": {
  "kernelspec": {
   "display_name": "venv",
   "language": "python",
   "name": "python3"
  },
  "language_info": {
   "codemirror_mode": {
    "name": "ipython",
    "version": 3
   },
   "file_extension": ".py",
   "mimetype": "text/x-python",
   "name": "python",
   "nbconvert_exporter": "python",
   "pygments_lexer": "ipython3",
   "version": "3.10.7"
  },
  "orig_nbformat": 4,
  "vscode": {
   "interpreter": {
    "hash": "5e6bfdc5e747882d0c1236e11db0a3029a2ad21f412da50d5656bcce3e752b4d"
   }
  }
 },
 "nbformat": 4,
 "nbformat_minor": 2
}
