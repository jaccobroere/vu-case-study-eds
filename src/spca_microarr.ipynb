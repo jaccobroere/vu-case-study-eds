{
 "cells": [
  {
   "cell_type": "code",
   "execution_count": 121,
   "metadata": {},
   "outputs": [],
   "source": [
    "import numpy as np\n",
    "import pandas as pd\n",
    "from scipy.optimize import minimize"
   ]
  },
  {
   "cell_type": "code",
   "execution_count": 113,
   "metadata": {},
   "outputs": [],
   "source": [
    "np.random.seed(2023)\n"
   ]
  },
  {
   "cell_type": "code",
   "execution_count": 109,
   "metadata": {},
   "outputs": [],
   "source": []
  },
  {
   "cell_type": "code",
   "execution_count": 110,
   "metadata": {},
   "outputs": [
    {
     "name": "stdout",
     "output_type": "stream",
     "text": [
      "[[-0.70710678  0.70710678]\n",
      " [ 0.70710678  0.70710678]]\n",
      "[[5.53957773e+00 0.00000000e+00 0.00000000e+00]\n",
      " [0.00000000e+00 8.88178420e-16 0.00000000e+00]]\n",
      "[[-0.24941099 -0.95617472 -0.15337557]\n",
      " [-0.78457054  0.10667465  0.61079423]\n",
      " [ 0.56766472 -0.27267275  0.77679234]]\n"
     ]
    }
   ],
   "source": [
    "print(U)\n",
    "print(D)\n",
    "print(Vt)"
   ]
  },
  {
   "cell_type": "code",
   "execution_count": 130,
   "metadata": {},
   "outputs": [],
   "source": [
    "# Pre step 1: get and center data\n",
    "\n",
    "X = np.random.random((100,50)) * 10\n",
    "mean_subtr = np.mean(X, axis = 0)\n",
    "\n",
    "# Important, center data\n",
    "X = X - mean_subtr"
   ]
  },
  {
   "attachments": {},
   "cell_type": "markdown",
   "metadata": {},
   "source": [
    "Algorithm 1. General SPCA algorithm\n",
    "1. let A start at V[,1:k], the loadings of the first k ordinary principal components\n",
    "2. given A = [$\\alpha_1, \\cdots, \\alpha_k$] solve\n"
   ]
  },
  {
   "cell_type": "code",
   "execution_count": 221,
   "metadata": {},
   "outputs": [],
   "source": [
    "# Step 1: Get first k loadings of ordinary principal components\n",
    "U, s, Vt = np.linalg.svd(X, full_matrices=True)\n",
    "D = np.zeros((U.shape[0], Vt.shape[0]))\n",
    "D[:s.size, :s.size] = np.diag(s)\n",
    "\n"
   ]
  },
  {
   "cell_type": "code",
   "execution_count": 225,
   "metadata": {},
   "outputs": [
    {
     "name": "stdout",
     "output_type": "stream",
     "text": [
      "[[  3.98736251   3.70614863   1.84110787   0.95884644   0.56813618\n",
      "   -4.88074095   0.80544925  -1.45708475  -5.75110992  -5.68230247\n",
      "    5.17553438  -0.04255997  -0.25651487  -7.18308915  -3.13205374\n",
      "    1.17402255   7.20843922  -0.80822661  -1.30016033  -3.63787939]\n",
      " [  2.01136308  -7.48053455  -1.87893094   2.31888582   0.69186919\n",
      "   -0.32984607 -10.96563357  -0.38720442   2.21103451  -0.83041705\n",
      "    2.17088125  -0.73653404   0.14132157   1.39258128   2.5818932\n",
      "   -2.25259584  -5.66733535  -3.78690189  -2.44059336  -0.62098823]\n",
      " [ -7.66729556  -2.04151692   3.4870533   -0.58675031  -4.17412628\n",
      "   -5.83435696  -3.21584894  -5.5912662    4.2399861    8.01800045\n",
      "    5.53483877   0.84527577  -3.25397113  -1.82668219   2.69762724\n",
      "    2.56378845   3.17049875   5.39780725   0.2874412   -1.42029407]\n",
      " [ -8.18841764  -0.9370256   -8.74270428   0.66691291  -3.29975551\n",
      "   -1.85893367   1.52176558  -0.92662723   3.08158902  -2.2081214\n",
      "   -3.24550504   0.90283651   3.82045149  -2.05786973  -0.09289423\n",
      "    3.34385708  -0.79954613   8.35324956   0.38115145  -2.15964872]\n",
      " [ -5.03988914   4.11130945  -7.46157043  -3.56226238   0.9965728\n",
      "    3.24796496  -0.10309184   0.85791455  -0.51567447   0.59686769\n",
      "    1.76198849  -7.42874033  -3.80592478   2.14384997   1.37458013\n",
      "   -4.84009587   3.66874645   4.35966296  -3.80417604   0.20236457]\n",
      " [ -9.00295482  -2.37231811   1.50985375   6.8754078   -2.25082441\n",
      "   -1.75715736  -0.80564456   3.08495689   1.19778336   2.08773579\n",
      "    2.08520685   1.32663824  -4.45708716   1.40109177   0.04631137\n",
      "    0.91225084  -1.93351096  -3.7858227    0.95036263   0.6269624 ]\n",
      " [  3.98498451   3.42775934   1.6553005   -6.13055371   3.56670777\n",
      "   -1.0320956   -0.22775705  -5.83132798   4.43575765  -3.44570886\n",
      "    2.34301338  -3.06353904  -7.99522464   2.6023885   -0.10809077\n",
      "   -0.07273945   0.82273623   1.70636356  -0.39250597   1.13574796]\n",
      " [ -5.13935933   0.22529964   7.11200649   1.57536327  -0.15101982\n",
      "    5.6169637    6.37882033  -4.2138492    9.05167004  -3.31663428\n",
      "    7.13788095  -5.16729691   3.69997135  -4.61455706   1.06142737\n",
      "   -1.48164919   0.69714013  -0.45531538  -3.11806361  -4.63550815]\n",
      " [  0.247709    -0.07703282   5.05971412  -0.81795896   1.70703318\n",
      "   -5.07490981   0.36668259  -9.23294532  -1.82134496  -5.38662641\n",
      "   -0.32026647  -1.7825435   -4.43186668  -0.52194929   4.05173866\n",
      "    3.2054193    1.20129441   2.59314502   0.9135005    3.10008937]\n",
      " [  5.13878725  -4.16435945   2.54379841  -0.94149083  -6.60123727\n",
      "    4.82538946  -2.65389808   2.34559104  -3.47756937   6.08827821\n",
      "    2.45276667  -8.87601473   4.25306821   5.29440803   1.00695462\n",
      "    3.75903598  -0.19549308   3.04441946   0.09838357   3.36257656]\n",
      " [ -0.82531985  -3.46460466   7.51628401   1.33550866   0.69909967\n",
      "    0.43318629   0.41948077  -1.42528089  -2.02627781   3.55910414\n",
      "    1.56184181  -0.16160429   2.54124807   1.38224496   3.08403202\n",
      "   -0.63543031  -1.33621156   3.52498112  -1.46759761   1.42272187]\n",
      " [  0.17449136  -3.56572424  -4.68460141  -2.0023343   -0.90988134\n",
      "  -10.76280061  -3.62797184  -3.75488     -0.24969806  -1.70829521\n",
      "    0.94749194   0.04125999   8.2590841   -2.09906525  -0.15327212\n",
      "   -0.62059323   1.45615644   0.0123408    2.75456989   1.66421744]\n",
      " [ -6.50537142   5.88146188   1.82557335   1.19906518   4.97060561\n",
      "   -2.96634887   5.23054134   0.68239877   3.73040311  -4.23574389\n",
      "   -0.78809925  -4.14833453  -0.6485       0.08317723  -0.96862244\n",
      "   -1.22069558   3.49913868  -7.57668764   1.72911307  -0.74719292]\n",
      " [  0.31008558   4.92018159   5.87778788   3.1305915   -3.47364255\n",
      "    3.14110176  -4.03713949   4.14118907  -4.62712349   1.635001\n",
      "   -4.14650936  -3.50877903   7.35392703  -2.70793672   2.48242261\n",
      "   -3.03824118  -4.29424266  -1.15690399  -2.61464521   2.86863887]\n",
      " [  1.39497118  -3.98265136   8.28314415  -0.05984719   0.92005668\n",
      "    3.56338099  -3.97637939   0.78687196   0.27271859   0.47389589\n",
      "    6.75172388  -0.32874751   1.27046872  -3.47382209  -4.82582959\n",
      "    4.31747648  -1.71862357  -5.73948552  -1.24177671  -2.42388806]\n",
      " [  6.60411588  -2.66962537  -8.89179577  10.93775184   0.20232226\n",
      "   -1.52043551   3.27312213  -1.03159251   5.40302786   4.97586135\n",
      "   -1.38423991  -1.03352097  -1.69952022  -4.68548892  -4.60705961\n",
      "    3.60911828   6.69993559   2.70328085   1.11315493  -0.92681771]\n",
      " [  1.0723264   10.59142588  -3.68152853   4.62382474  -2.39520133\n",
      "    1.61544058  -3.90431583  -0.60895467   0.649519    -4.32132939\n",
      "   -1.09090503   1.29505445   3.60334627   2.83606935   2.91141633\n",
      "   -2.46000311  -1.70256587   4.27145494  -4.13359809  -5.88250001]\n",
      " [ -0.86067165  -2.4874748    1.6381656    0.16708624  -7.14494596\n",
      "   -1.23687841  -0.46191503  -0.80743284  -6.27977405   1.68917699\n",
      "    5.57254554  -2.88607456  -7.07799583   3.55410927  -1.39708369\n",
      "    0.02358644  -1.93106194  -0.93251266   1.6863646   -9.09112371]\n",
      " [ -6.27153868   0.53321378   2.21993177   2.468505     4.37273583\n",
      "   -0.33057569  -1.67737542   4.23553478   3.21881584   0.07441789\n",
      "    2.85547059  -5.57951209   4.15675001   1.6577453   -3.52638668\n",
      "   -0.7297341    0.56411822  -0.6301882   -2.02811747   2.99112857]\n",
      " [  0.62478888  -5.11905408  -4.78472374   0.36503128  -1.18889168\n",
      "   -1.62586258   1.67674453  -2.1898311   -0.20888172   2.88784129\n",
      "    3.69558707  -2.02003281  -2.63714934   2.61352962   3.90003819\n",
      "   -2.39837368  -5.70640832  -3.29754877  -5.64048397  -2.74083282]]\n"
     ]
    }
   ],
   "source": [
    "print((U @ D)[:20, :20])"
   ]
  },
  {
   "cell_type": "code",
   "execution_count": 197,
   "metadata": {},
   "outputs": [],
   "source": [
    "# Step 2: solve elastic net problem for j in 1 ... k\n",
    "\n",
    "def objective_elastic_net(beta, alpha, X, l, l2):\n",
    "    assert len(beta) == len(alpha), \"shape of principal comp. vector alpha does not coincide with beta\"\n",
    "    return (alpha - beta).T @ X.T @ X @ (alpha - beta) + l * np.linalg.norm(beta) ** 2 + l2 * np.linalg.norm(beta)\n",
    "\n"
   ]
  },
  {
   "cell_type": "code",
   "execution_count": 227,
   "metadata": {},
   "outputs": [
    {
     "name": "stdout",
     "output_type": "stream",
     "text": [
      "0.44897796836077214\n",
      "0.3282464608358238\n",
      "0.2402377826006819\n",
      "0.18151984237309254\n",
      "0.1431514320242255\n",
      "0.11732044658659939\n",
      "0.0990708883498555\n",
      "0.08551665609292775\n",
      "0.07499757757616592\n",
      "0.06654897195006329\n",
      "0.05959628884230117\n",
      "0.05378206087643788\n",
      "0.04886942884735598\n",
      "0.04468975924937062\n",
      "0.04111503642700163\n",
      "0.03804362293640763\n"
     ]
    },
    {
     "ename": "KeyboardInterrupt",
     "evalue": "",
     "output_type": "error",
     "traceback": [
      "\u001b[1;31m---------------------------------------------------------------------------\u001b[0m",
      "\u001b[1;31mKeyboardInterrupt\u001b[0m                         Traceback (most recent call last)",
      "Cell \u001b[1;32mIn[227], line 8\u001b[0m\n\u001b[0;32m      6\u001b[0m \u001b[39mfor\u001b[39;00m \u001b[39miter\u001b[39m \u001b[39min\u001b[39;00m \u001b[39mrange\u001b[39m(\u001b[39m100\u001b[39m):\n\u001b[0;32m      7\u001b[0m     \u001b[39mfor\u001b[39;00m i \u001b[39min\u001b[39;00m \u001b[39mrange\u001b[39m(k):\n\u001b[1;32m----> 8\u001b[0m         B[:,i] \u001b[39m=\u001b[39m minimize(objective_elastic_net, np\u001b[39m.\u001b[39;49mzeros(A[:,\u001b[39m0\u001b[39;49m]\u001b[39m.\u001b[39;49mshape[\u001b[39m0\u001b[39;49m]), args \u001b[39m=\u001b[39;49m (A[:,i], X, \u001b[39m1\u001b[39;49m, \u001b[39m1\u001b[39;49m))\u001b[39m.\u001b[39mx\n\u001b[0;32m     10\u001b[0m     \u001b[39m# Step 3:\u001b[39;00m\n\u001b[0;32m     11\u001b[0m     U, s, V_temp \u001b[39m=\u001b[39m np\u001b[39m.\u001b[39mlinalg\u001b[39m.\u001b[39msvd(X\u001b[39m.\u001b[39mT \u001b[39m@\u001b[39m X \u001b[39m@\u001b[39m B)\n",
      "File \u001b[1;32mc:\\Users\\caspa\\Desktop\\VU_git\\vu-case-study-eds\\.venv\\Lib\\site-packages\\scipy\\optimize\\_minimize.py:691\u001b[0m, in \u001b[0;36mminimize\u001b[1;34m(fun, x0, args, method, jac, hess, hessp, bounds, constraints, tol, callback, options)\u001b[0m\n\u001b[0;32m    689\u001b[0m     res \u001b[39m=\u001b[39m _minimize_cg(fun, x0, args, jac, callback, \u001b[39m*\u001b[39m\u001b[39m*\u001b[39moptions)\n\u001b[0;32m    690\u001b[0m \u001b[39melif\u001b[39;00m meth \u001b[39m==\u001b[39m \u001b[39m'\u001b[39m\u001b[39mbfgs\u001b[39m\u001b[39m'\u001b[39m:\n\u001b[1;32m--> 691\u001b[0m     res \u001b[39m=\u001b[39m _minimize_bfgs(fun, x0, args, jac, callback, \u001b[39m*\u001b[39;49m\u001b[39m*\u001b[39;49moptions)\n\u001b[0;32m    692\u001b[0m \u001b[39melif\u001b[39;00m meth \u001b[39m==\u001b[39m \u001b[39m'\u001b[39m\u001b[39mnewton-cg\u001b[39m\u001b[39m'\u001b[39m:\n\u001b[0;32m    693\u001b[0m     res \u001b[39m=\u001b[39m _minimize_newtoncg(fun, x0, args, jac, hess, hessp, callback,\n\u001b[0;32m    694\u001b[0m                              \u001b[39m*\u001b[39m\u001b[39m*\u001b[39moptions)\n",
      "File \u001b[1;32mc:\\Users\\caspa\\Desktop\\VU_git\\vu-case-study-eds\\.venv\\Lib\\site-packages\\scipy\\optimize\\_optimize.py:1388\u001b[0m, in \u001b[0;36m_minimize_bfgs\u001b[1;34m(fun, x0, args, jac, callback, gtol, norm, eps, maxiter, disp, return_all, finite_diff_rel_step, xrtol, **unknown_options)\u001b[0m\n\u001b[0;32m   1385\u001b[0m pk \u001b[39m=\u001b[39m \u001b[39m-\u001b[39mnp\u001b[39m.\u001b[39mdot(Hk, gfk)\n\u001b[0;32m   1386\u001b[0m \u001b[39mtry\u001b[39;00m:\n\u001b[0;32m   1387\u001b[0m     alpha_k, fc, gc, old_fval, old_old_fval, gfkp1 \u001b[39m=\u001b[39m \\\n\u001b[1;32m-> 1388\u001b[0m              _line_search_wolfe12(f, myfprime, xk, pk, gfk,\n\u001b[0;32m   1389\u001b[0m                                   old_fval, old_old_fval, amin\u001b[39m=\u001b[39;49m\u001b[39m1e-100\u001b[39;49m, amax\u001b[39m=\u001b[39;49m\u001b[39m1e100\u001b[39;49m)\n\u001b[0;32m   1390\u001b[0m \u001b[39mexcept\u001b[39;00m _LineSearchError:\n\u001b[0;32m   1391\u001b[0m     \u001b[39m# Line search failed to find a better solution.\u001b[39;00m\n\u001b[0;32m   1392\u001b[0m     warnflag \u001b[39m=\u001b[39m \u001b[39m2\u001b[39m\n",
      "File \u001b[1;32mc:\\Users\\caspa\\Desktop\\VU_git\\vu-case-study-eds\\.venv\\Lib\\site-packages\\scipy\\optimize\\_optimize.py:1160\u001b[0m, in \u001b[0;36m_line_search_wolfe12\u001b[1;34m(f, fprime, xk, pk, gfk, old_fval, old_old_fval, **kwargs)\u001b[0m\n\u001b[0;32m   1146\u001b[0m \u001b[39m\u001b[39m\u001b[39m\"\"\"\u001b[39;00m\n\u001b[0;32m   1147\u001b[0m \u001b[39mSame as line_search_wolfe1, but fall back to line_search_wolfe2 if\u001b[39;00m\n\u001b[0;32m   1148\u001b[0m \u001b[39msuitable step length is not found, and raise an exception if a\u001b[39;00m\n\u001b[1;32m   (...)\u001b[0m\n\u001b[0;32m   1155\u001b[0m \n\u001b[0;32m   1156\u001b[0m \u001b[39m\"\"\"\u001b[39;00m\n\u001b[0;32m   1158\u001b[0m extra_condition \u001b[39m=\u001b[39m kwargs\u001b[39m.\u001b[39mpop(\u001b[39m'\u001b[39m\u001b[39mextra_condition\u001b[39m\u001b[39m'\u001b[39m, \u001b[39mNone\u001b[39;00m)\n\u001b[1;32m-> 1160\u001b[0m ret \u001b[39m=\u001b[39m line_search_wolfe1(f, fprime, xk, pk, gfk,\n\u001b[0;32m   1161\u001b[0m                          old_fval, old_old_fval,\n\u001b[0;32m   1162\u001b[0m                          \u001b[39m*\u001b[39;49m\u001b[39m*\u001b[39;49mkwargs)\n\u001b[0;32m   1164\u001b[0m \u001b[39mif\u001b[39;00m ret[\u001b[39m0\u001b[39m] \u001b[39mis\u001b[39;00m \u001b[39mnot\u001b[39;00m \u001b[39mNone\u001b[39;00m \u001b[39mand\u001b[39;00m extra_condition \u001b[39mis\u001b[39;00m \u001b[39mnot\u001b[39;00m \u001b[39mNone\u001b[39;00m:\n\u001b[0;32m   1165\u001b[0m     xp1 \u001b[39m=\u001b[39m xk \u001b[39m+\u001b[39m ret[\u001b[39m0\u001b[39m] \u001b[39m*\u001b[39m pk\n",
      "File \u001b[1;32mc:\\Users\\caspa\\Desktop\\VU_git\\vu-case-study-eds\\.venv\\Lib\\site-packages\\scipy\\optimize\\_linesearch.py:84\u001b[0m, in \u001b[0;36mline_search_wolfe1\u001b[1;34m(f, fprime, xk, pk, gfk, old_fval, old_old_fval, args, c1, c2, amax, amin, xtol)\u001b[0m\n\u001b[0;32m     80\u001b[0m     \u001b[39mreturn\u001b[39;00m np\u001b[39m.\u001b[39mdot(gval[\u001b[39m0\u001b[39m], pk)\n\u001b[0;32m     82\u001b[0m derphi0 \u001b[39m=\u001b[39m np\u001b[39m.\u001b[39mdot(gfk, pk)\n\u001b[1;32m---> 84\u001b[0m stp, fval, old_fval \u001b[39m=\u001b[39m scalar_search_wolfe1(\n\u001b[0;32m     85\u001b[0m         phi, derphi, old_fval, old_old_fval, derphi0,\n\u001b[0;32m     86\u001b[0m         c1\u001b[39m=\u001b[39;49mc1, c2\u001b[39m=\u001b[39;49mc2, amax\u001b[39m=\u001b[39;49mamax, amin\u001b[39m=\u001b[39;49mamin, xtol\u001b[39m=\u001b[39;49mxtol)\n\u001b[0;32m     88\u001b[0m \u001b[39mreturn\u001b[39;00m stp, fc[\u001b[39m0\u001b[39m], gc[\u001b[39m0\u001b[39m], fval, old_fval, gval[\u001b[39m0\u001b[39m]\n",
      "File \u001b[1;32mc:\\Users\\caspa\\Desktop\\VU_git\\vu-case-study-eds\\.venv\\Lib\\site-packages\\scipy\\optimize\\_linesearch.py:161\u001b[0m, in \u001b[0;36mscalar_search_wolfe1\u001b[1;34m(phi, derphi, phi0, old_phi0, derphi0, c1, c2, amax, amin, xtol)\u001b[0m\n\u001b[0;32m    159\u001b[0m     alpha1 \u001b[39m=\u001b[39m stp\n\u001b[0;32m    160\u001b[0m     phi1 \u001b[39m=\u001b[39m phi(stp)\n\u001b[1;32m--> 161\u001b[0m     derphi1 \u001b[39m=\u001b[39m derphi(stp)\n\u001b[0;32m    162\u001b[0m \u001b[39melse\u001b[39;00m:\n\u001b[0;32m    163\u001b[0m     \u001b[39mbreak\u001b[39;00m\n",
      "File \u001b[1;32mc:\\Users\\caspa\\Desktop\\VU_git\\vu-case-study-eds\\.venv\\Lib\\site-packages\\scipy\\optimize\\_linesearch.py:78\u001b[0m, in \u001b[0;36mline_search_wolfe1.<locals>.derphi\u001b[1;34m(s)\u001b[0m\n\u001b[0;32m     77\u001b[0m \u001b[39mdef\u001b[39;00m \u001b[39mderphi\u001b[39m(s):\n\u001b[1;32m---> 78\u001b[0m     gval[\u001b[39m0\u001b[39m] \u001b[39m=\u001b[39m fprime(xk \u001b[39m+\u001b[39;49m s\u001b[39m*\u001b[39;49mpk, \u001b[39m*\u001b[39;49margs)\n\u001b[0;32m     79\u001b[0m     gc[\u001b[39m0\u001b[39m] \u001b[39m+\u001b[39m\u001b[39m=\u001b[39m \u001b[39m1\u001b[39m\n\u001b[0;32m     80\u001b[0m     \u001b[39mreturn\u001b[39;00m np\u001b[39m.\u001b[39mdot(gval[\u001b[39m0\u001b[39m], pk)\n",
      "File \u001b[1;32mc:\\Users\\caspa\\Desktop\\VU_git\\vu-case-study-eds\\.venv\\Lib\\site-packages\\scipy\\optimize\\_differentiable_functions.py:273\u001b[0m, in \u001b[0;36mScalarFunction.grad\u001b[1;34m(self, x)\u001b[0m\n\u001b[0;32m    271\u001b[0m \u001b[39mif\u001b[39;00m \u001b[39mnot\u001b[39;00m np\u001b[39m.\u001b[39marray_equal(x, \u001b[39mself\u001b[39m\u001b[39m.\u001b[39mx):\n\u001b[0;32m    272\u001b[0m     \u001b[39mself\u001b[39m\u001b[39m.\u001b[39m_update_x_impl(x)\n\u001b[1;32m--> 273\u001b[0m \u001b[39mself\u001b[39;49m\u001b[39m.\u001b[39;49m_update_grad()\n\u001b[0;32m    274\u001b[0m \u001b[39mreturn\u001b[39;00m \u001b[39mself\u001b[39m\u001b[39m.\u001b[39mg\n",
      "File \u001b[1;32mc:\\Users\\caspa\\Desktop\\VU_git\\vu-case-study-eds\\.venv\\Lib\\site-packages\\scipy\\optimize\\_differentiable_functions.py:256\u001b[0m, in \u001b[0;36mScalarFunction._update_grad\u001b[1;34m(self)\u001b[0m\n\u001b[0;32m    254\u001b[0m \u001b[39mdef\u001b[39;00m \u001b[39m_update_grad\u001b[39m(\u001b[39mself\u001b[39m):\n\u001b[0;32m    255\u001b[0m     \u001b[39mif\u001b[39;00m \u001b[39mnot\u001b[39;00m \u001b[39mself\u001b[39m\u001b[39m.\u001b[39mg_updated:\n\u001b[1;32m--> 256\u001b[0m         \u001b[39mself\u001b[39;49m\u001b[39m.\u001b[39;49m_update_grad_impl()\n\u001b[0;32m    257\u001b[0m         \u001b[39mself\u001b[39m\u001b[39m.\u001b[39mg_updated \u001b[39m=\u001b[39m \u001b[39mTrue\u001b[39;00m\n",
      "File \u001b[1;32mc:\\Users\\caspa\\Desktop\\VU_git\\vu-case-study-eds\\.venv\\Lib\\site-packages\\scipy\\optimize\\_differentiable_functions.py:173\u001b[0m, in \u001b[0;36mScalarFunction.__init__.<locals>.update_grad\u001b[1;34m()\u001b[0m\n\u001b[0;32m    171\u001b[0m \u001b[39mself\u001b[39m\u001b[39m.\u001b[39m_update_fun()\n\u001b[0;32m    172\u001b[0m \u001b[39mself\u001b[39m\u001b[39m.\u001b[39mngev \u001b[39m+\u001b[39m\u001b[39m=\u001b[39m \u001b[39m1\u001b[39m\n\u001b[1;32m--> 173\u001b[0m \u001b[39mself\u001b[39m\u001b[39m.\u001b[39mg \u001b[39m=\u001b[39m approx_derivative(fun_wrapped, \u001b[39mself\u001b[39;49m\u001b[39m.\u001b[39;49mx, f0\u001b[39m=\u001b[39;49m\u001b[39mself\u001b[39;49m\u001b[39m.\u001b[39;49mf,\n\u001b[0;32m    174\u001b[0m                            \u001b[39m*\u001b[39;49m\u001b[39m*\u001b[39;49mfinite_diff_options)\n",
      "File \u001b[1;32mc:\\Users\\caspa\\Desktop\\VU_git\\vu-case-study-eds\\.venv\\Lib\\site-packages\\scipy\\optimize\\_numdiff.py:505\u001b[0m, in \u001b[0;36mapprox_derivative\u001b[1;34m(fun, x0, method, rel_step, abs_step, f0, bounds, sparsity, as_linear_operator, args, kwargs)\u001b[0m\n\u001b[0;32m    502\u001b[0m     use_one_sided \u001b[39m=\u001b[39m \u001b[39mFalse\u001b[39;00m\n\u001b[0;32m    504\u001b[0m \u001b[39mif\u001b[39;00m sparsity \u001b[39mis\u001b[39;00m \u001b[39mNone\u001b[39;00m:\n\u001b[1;32m--> 505\u001b[0m     \u001b[39mreturn\u001b[39;00m _dense_difference(fun_wrapped, x0, f0, h,\n\u001b[0;32m    506\u001b[0m                              use_one_sided, method)\n\u001b[0;32m    507\u001b[0m \u001b[39melse\u001b[39;00m:\n\u001b[0;32m    508\u001b[0m     \u001b[39mif\u001b[39;00m \u001b[39mnot\u001b[39;00m issparse(sparsity) \u001b[39mand\u001b[39;00m \u001b[39mlen\u001b[39m(sparsity) \u001b[39m==\u001b[39m \u001b[39m2\u001b[39m:\n",
      "File \u001b[1;32mc:\\Users\\caspa\\Desktop\\VU_git\\vu-case-study-eds\\.venv\\Lib\\site-packages\\scipy\\optimize\\_numdiff.py:576\u001b[0m, in \u001b[0;36m_dense_difference\u001b[1;34m(fun, x0, f0, h, use_one_sided, method)\u001b[0m\n\u001b[0;32m    574\u001b[0m     x \u001b[39m=\u001b[39m x0 \u001b[39m+\u001b[39m h_vecs[i]\n\u001b[0;32m    575\u001b[0m     dx \u001b[39m=\u001b[39m x[i] \u001b[39m-\u001b[39m x0[i]  \u001b[39m# Recompute dx as exactly representable number.\u001b[39;00m\n\u001b[1;32m--> 576\u001b[0m     df \u001b[39m=\u001b[39m fun(x) \u001b[39m-\u001b[39m f0\n\u001b[0;32m    577\u001b[0m \u001b[39melif\u001b[39;00m method \u001b[39m==\u001b[39m \u001b[39m'\u001b[39m\u001b[39m3-point\u001b[39m\u001b[39m'\u001b[39m \u001b[39mand\u001b[39;00m use_one_sided[i]:\n\u001b[0;32m    578\u001b[0m     x1 \u001b[39m=\u001b[39m x0 \u001b[39m+\u001b[39m h_vecs[i]\n",
      "File \u001b[1;32mc:\\Users\\caspa\\Desktop\\VU_git\\vu-case-study-eds\\.venv\\Lib\\site-packages\\scipy\\optimize\\_numdiff.py:456\u001b[0m, in \u001b[0;36mapprox_derivative.<locals>.fun_wrapped\u001b[1;34m(x)\u001b[0m\n\u001b[0;32m    455\u001b[0m \u001b[39mdef\u001b[39;00m \u001b[39mfun_wrapped\u001b[39m(x):\n\u001b[1;32m--> 456\u001b[0m     f \u001b[39m=\u001b[39m np\u001b[39m.\u001b[39matleast_1d(fun(x, \u001b[39m*\u001b[39;49margs, \u001b[39m*\u001b[39;49m\u001b[39m*\u001b[39;49mkwargs))\n\u001b[0;32m    457\u001b[0m     \u001b[39mif\u001b[39;00m f\u001b[39m.\u001b[39mndim \u001b[39m>\u001b[39m \u001b[39m1\u001b[39m:\n\u001b[0;32m    458\u001b[0m         \u001b[39mraise\u001b[39;00m \u001b[39mRuntimeError\u001b[39;00m(\u001b[39m\"\u001b[39m\u001b[39m`fun` return value has \u001b[39m\u001b[39m\"\u001b[39m\n\u001b[0;32m    459\u001b[0m                            \u001b[39m\"\u001b[39m\u001b[39mmore than 1 dimension.\u001b[39m\u001b[39m\"\u001b[39m)\n",
      "File \u001b[1;32mc:\\Users\\caspa\\Desktop\\VU_git\\vu-case-study-eds\\.venv\\Lib\\site-packages\\scipy\\optimize\\_differentiable_functions.py:137\u001b[0m, in \u001b[0;36mScalarFunction.__init__.<locals>.fun_wrapped\u001b[1;34m(x)\u001b[0m\n\u001b[0;32m    133\u001b[0m \u001b[39mself\u001b[39m\u001b[39m.\u001b[39mnfev \u001b[39m+\u001b[39m\u001b[39m=\u001b[39m \u001b[39m1\u001b[39m\n\u001b[0;32m    134\u001b[0m \u001b[39m# Send a copy because the user may overwrite it.\u001b[39;00m\n\u001b[0;32m    135\u001b[0m \u001b[39m# Overwriting results in undefined behaviour because\u001b[39;00m\n\u001b[0;32m    136\u001b[0m \u001b[39m# fun(self.x) will change self.x, with the two no longer linked.\u001b[39;00m\n\u001b[1;32m--> 137\u001b[0m fx \u001b[39m=\u001b[39m fun(np\u001b[39m.\u001b[39;49mcopy(x), \u001b[39m*\u001b[39;49margs)\n\u001b[0;32m    138\u001b[0m \u001b[39m# Make sure the function returns a true scalar\u001b[39;00m\n\u001b[0;32m    139\u001b[0m \u001b[39mif\u001b[39;00m \u001b[39mnot\u001b[39;00m np\u001b[39m.\u001b[39misscalar(fx):\n",
      "Cell \u001b[1;32mIn[197], line 7\u001b[0m, in \u001b[0;36mobjective_elastic_net\u001b[1;34m(beta, alpha, X, l, l2)\u001b[0m\n\u001b[0;32m      5\u001b[0m \u001b[39mdef\u001b[39;00m \u001b[39mobjective_elastic_net\u001b[39m(beta, alpha, X, l, l2):\n\u001b[0;32m      6\u001b[0m     \u001b[39massert\u001b[39;00m \u001b[39mlen\u001b[39m(beta) \u001b[39m==\u001b[39m \u001b[39mlen\u001b[39m(alpha), \u001b[39m\"\u001b[39m\u001b[39mshape of principal comp. vector alpha does not coincide with beta\u001b[39m\u001b[39m\"\u001b[39m\n\u001b[1;32m----> 7\u001b[0m     \u001b[39mreturn\u001b[39;00m (alpha \u001b[39m-\u001b[39m beta)\u001b[39m.\u001b[39mT \u001b[39m@\u001b[39m X\u001b[39m.\u001b[39mT \u001b[39m@\u001b[39m X \u001b[39m@\u001b[39m (alpha \u001b[39m-\u001b[39m beta) \u001b[39m+\u001b[39m l \u001b[39m*\u001b[39m np\u001b[39m.\u001b[39mlinalg\u001b[39m.\u001b[39mnorm(beta) \u001b[39m*\u001b[39m\u001b[39m*\u001b[39m \u001b[39m2\u001b[39m \u001b[39m+\u001b[39m l2 \u001b[39m*\u001b[39m np\u001b[39m.\u001b[39;49mlinalg\u001b[39m.\u001b[39;49mnorm(beta)\n",
      "File \u001b[1;32m<__array_function__ internals>:200\u001b[0m, in \u001b[0;36mnorm\u001b[1;34m(*args, **kwargs)\u001b[0m\n",
      "File \u001b[1;32mc:\\Users\\caspa\\Desktop\\VU_git\\vu-case-study-eds\\.venv\\Lib\\site-packages\\numpy\\linalg\\linalg.py:2511\u001b[0m, in \u001b[0;36mnorm\u001b[1;34m(x, ord, axis, keepdims)\u001b[0m\n\u001b[0;32m   2509\u001b[0m     sqnorm \u001b[39m=\u001b[39m x_real\u001b[39m.\u001b[39mdot(x_real) \u001b[39m+\u001b[39m x_imag\u001b[39m.\u001b[39mdot(x_imag)\n\u001b[0;32m   2510\u001b[0m \u001b[39melse\u001b[39;00m:\n\u001b[1;32m-> 2511\u001b[0m     sqnorm \u001b[39m=\u001b[39m x\u001b[39m.\u001b[39mdot(x)\n\u001b[0;32m   2512\u001b[0m ret \u001b[39m=\u001b[39m sqrt(sqnorm)\n\u001b[0;32m   2513\u001b[0m \u001b[39mif\u001b[39;00m keepdims:\n",
      "\u001b[1;31mKeyboardInterrupt\u001b[0m: "
     ]
    }
   ],
   "source": [
    "from scipy.linalg import sqrtm\n",
    "k = 10\n",
    "A = Vt.T[:,:k]\n",
    "B = np.zeros((A[:,0].shape[0], k))\n",
    "\n",
    "for iter in range(100):\n",
    "    for i in range(k):\n",
    "        B[:,i] = minimize(objective_elastic_net, np.zeros(A[:,0].shape[0]), args = (A[:,i], X, 1, 1)).x\n",
    "    \n",
    "    # Step 3:\n",
    "    U, s, V_temp = np.linalg.svd(X.T @ X @ B)\n",
    "    Vt = np.zeros((U.shape[0], U.shape[0]))\n",
    "    Vt[:V_temp.shape[0], :V_temp.shape[0]] = V_temp\n",
    "\n",
    "    A_old = A\n",
    "    A = X.T @ X @ B @ np.linalg.inv(sqrtm(B.T @ X.T @ X @ X.T @ X @ B))\n",
    "    if iter > 2:\n",
    "        print(np.linalg.norm(A - A_old))\n",
    "\n"
   ]
  },
  {
   "cell_type": "code",
   "execution_count": 192,
   "metadata": {},
   "outputs": [
    {
     "data": {
      "text/plain": [
       "(50, 50)"
      ]
     },
     "execution_count": 192,
     "metadata": {},
     "output_type": "execute_result"
    }
   ],
   "source": [
    "A.shape"
   ]
  },
  {
   "cell_type": "code",
   "execution_count": 220,
   "metadata": {},
   "outputs": [
    {
     "data": {
      "text/plain": [
       "array([[ 0.2645956 ,  0.16380297, -0.41964405, -0.07131232, -0.49030115,\n",
       "        -0.28905728, -0.41528587,  0.23142141,  0.3611361 , -0.20392238,\n",
       "         0.        ,  0.        ,  0.        ,  0.        ,  0.        ,\n",
       "         0.        ,  0.        ,  0.        ,  0.        ,  0.        ],\n",
       "       [-0.59388305, -0.49690187, -0.44785562,  0.11759463, -0.0080129 ,\n",
       "        -0.40996557,  0.06211579, -0.09172226, -0.06564013, -0.03566999,\n",
       "         0.        ,  0.        ,  0.        ,  0.        ,  0.        ,\n",
       "         0.        ,  0.        ,  0.        ,  0.        ,  0.        ],\n",
       "       [-0.1518803 ,  0.072964  , -0.25497264, -0.4662443 ,  0.59158334,\n",
       "         0.13657008,  0.03315592,  0.20817758,  0.52458485,  0.03106621,\n",
       "         0.        ,  0.        ,  0.        ,  0.        ,  0.        ,\n",
       "         0.        ,  0.        ,  0.        ,  0.        ,  0.        ],\n",
       "       [-0.06363074,  0.08105702, -0.11658051,  0.66052161, -0.10807036,\n",
       "         0.27269522,  0.266139  , -0.12630266,  0.57334683,  0.19480829,\n",
       "         0.        ,  0.        ,  0.        ,  0.        ,  0.        ,\n",
       "         0.        ,  0.        ,  0.        ,  0.        ,  0.        ],\n",
       "       [ 0.53041431, -0.32283173, -0.38383637,  0.29036927,  0.43426937,\n",
       "         0.17381024, -0.20599189, -0.17640301, -0.16716925, -0.24999907,\n",
       "         0.        ,  0.        ,  0.        ,  0.        ,  0.        ,\n",
       "         0.        ,  0.        ,  0.        ,  0.        ,  0.        ],\n",
       "       [-0.20337571,  0.53328364, -0.14259519,  0.39907002,  0.33328621,\n",
       "        -0.18061587, -0.30539539,  0.33230198, -0.30302046,  0.23546223,\n",
       "         0.        ,  0.        ,  0.        ,  0.        ,  0.        ,\n",
       "         0.        ,  0.        ,  0.        ,  0.        ,  0.        ],\n",
       "       [-0.2431245 , -0.00305504,  0.1318775 , -0.07799271,  0.00270974,\n",
       "         0.17104023, -0.70312254, -0.57456189,  0.13714114,  0.21174073,\n",
       "         0.        ,  0.        ,  0.        ,  0.        ,  0.        ,\n",
       "         0.        ,  0.        ,  0.        ,  0.        ,  0.        ],\n",
       "       [-0.26470222,  0.47347003, -0.35777332, -0.10593672, -0.12358169,\n",
       "         0.34871644,  0.18122834, -0.31356019, -0.21934893, -0.50038114,\n",
       "         0.        ,  0.        ,  0.        ,  0.        ,  0.        ,\n",
       "         0.        ,  0.        ,  0.        ,  0.        ,  0.        ],\n",
       "       [-0.02815901,  0.15752522,  0.41235398,  0.18965054,  0.27986802,\n",
       "        -0.49659396,  0.00474276, -0.21671853,  0.2719259 , -0.56791281,\n",
       "         0.        ,  0.        ,  0.        ,  0.        ,  0.        ,\n",
       "         0.        ,  0.        ,  0.        ,  0.        ,  0.        ],\n",
       "       [ 0.31225767,  0.27704505, -0.24825224, -0.17484144,  0.06793414,\n",
       "        -0.44166104,  0.29799912, -0.51165416, -0.02690615,  0.42725351,\n",
       "         0.        ,  0.        ,  0.        ,  0.        ,  0.        ,\n",
       "         0.        ,  0.        ,  0.        ,  0.        ,  0.        ],\n",
       "       [ 0.        ,  0.        ,  0.        ,  0.        ,  0.        ,\n",
       "         0.        ,  0.        ,  0.        ,  0.        ,  0.        ,\n",
       "         0.        ,  0.        ,  0.        ,  0.        ,  0.        ,\n",
       "         0.        ,  0.        ,  0.        ,  0.        ,  0.        ],\n",
       "       [ 0.        ,  0.        ,  0.        ,  0.        ,  0.        ,\n",
       "         0.        ,  0.        ,  0.        ,  0.        ,  0.        ,\n",
       "         0.        ,  0.        ,  0.        ,  0.        ,  0.        ,\n",
       "         0.        ,  0.        ,  0.        ,  0.        ,  0.        ],\n",
       "       [ 0.        ,  0.        ,  0.        ,  0.        ,  0.        ,\n",
       "         0.        ,  0.        ,  0.        ,  0.        ,  0.        ,\n",
       "         0.        ,  0.        ,  0.        ,  0.        ,  0.        ,\n",
       "         0.        ,  0.        ,  0.        ,  0.        ,  0.        ],\n",
       "       [ 0.        ,  0.        ,  0.        ,  0.        ,  0.        ,\n",
       "         0.        ,  0.        ,  0.        ,  0.        ,  0.        ,\n",
       "         0.        ,  0.        ,  0.        ,  0.        ,  0.        ,\n",
       "         0.        ,  0.        ,  0.        ,  0.        ,  0.        ],\n",
       "       [ 0.        ,  0.        ,  0.        ,  0.        ,  0.        ,\n",
       "         0.        ,  0.        ,  0.        ,  0.        ,  0.        ,\n",
       "         0.        ,  0.        ,  0.        ,  0.        ,  0.        ,\n",
       "         0.        ,  0.        ,  0.        ,  0.        ,  0.        ],\n",
       "       [ 0.        ,  0.        ,  0.        ,  0.        ,  0.        ,\n",
       "         0.        ,  0.        ,  0.        ,  0.        ,  0.        ,\n",
       "         0.        ,  0.        ,  0.        ,  0.        ,  0.        ,\n",
       "         0.        ,  0.        ,  0.        ,  0.        ,  0.        ],\n",
       "       [ 0.        ,  0.        ,  0.        ,  0.        ,  0.        ,\n",
       "         0.        ,  0.        ,  0.        ,  0.        ,  0.        ,\n",
       "         0.        ,  0.        ,  0.        ,  0.        ,  0.        ,\n",
       "         0.        ,  0.        ,  0.        ,  0.        ,  0.        ],\n",
       "       [ 0.        ,  0.        ,  0.        ,  0.        ,  0.        ,\n",
       "         0.        ,  0.        ,  0.        ,  0.        ,  0.        ,\n",
       "         0.        ,  0.        ,  0.        ,  0.        ,  0.        ,\n",
       "         0.        ,  0.        ,  0.        ,  0.        ,  0.        ],\n",
       "       [ 0.        ,  0.        ,  0.        ,  0.        ,  0.        ,\n",
       "         0.        ,  0.        ,  0.        ,  0.        ,  0.        ,\n",
       "         0.        ,  0.        ,  0.        ,  0.        ,  0.        ,\n",
       "         0.        ,  0.        ,  0.        ,  0.        ,  0.        ],\n",
       "       [ 0.        ,  0.        ,  0.        ,  0.        ,  0.        ,\n",
       "         0.        ,  0.        ,  0.        ,  0.        ,  0.        ,\n",
       "         0.        ,  0.        ,  0.        ,  0.        ,  0.        ,\n",
       "         0.        ,  0.        ,  0.        ,  0.        ,  0.        ]])"
      ]
     },
     "execution_count": 220,
     "metadata": {},
     "output_type": "execute_result"
    }
   ],
   "source": [
    "Vt[:20, :10]"
   ]
  },
  {
   "cell_type": "code",
   "execution_count": 211,
   "metadata": {},
   "outputs": [
    {
     "data": {
      "text/plain": [
       "4.713041188430437"
      ]
     },
     "execution_count": 211,
     "metadata": {},
     "output_type": "execute_result"
    }
   ],
   "source": [
    "np.linalg.norm(Vt - A)"
   ]
  },
  {
   "cell_type": "code",
   "execution_count": null,
   "metadata": {},
   "outputs": [],
   "source": []
  }
 ],
 "metadata": {
  "kernelspec": {
   "display_name": ".venv",
   "language": "python",
   "name": "python3"
  },
  "language_info": {
   "codemirror_mode": {
    "name": "ipython",
    "version": 3
   },
   "file_extension": ".py",
   "mimetype": "text/x-python",
   "name": "python",
   "nbconvert_exporter": "python",
   "pygments_lexer": "ipython3",
   "version": "3.11.1"
  },
  "orig_nbformat": 4,
  "vscode": {
   "interpreter": {
    "hash": "798b358ac2319934761a0de4f13ee9d5cebfbe5f460487494742ce99d4b4f7bd"
   }
  }
 },
 "nbformat": 4,
 "nbformat_minor": 2
}
