{
 "cells": [
  {
   "attachments": {},
   "cell_type": "markdown",
   "metadata": {},
   "source": [
    "# VU Econometics and Data Science: Case Study\n",
    "```\n",
    "Author(s): Jacco Broere\n",
    "```\n",
    "\n",
    "\n",
    "### Setup\n",
    "- Setup config.ini file\n",
    "- Install necessary packages\n",
    "- Download and unpack data\n",
    "\n"
   ]
  },
  {
   "cell_type": "code",
   "execution_count": 1,
   "metadata": {},
   "outputs": [
    {
     "name": "stderr",
     "output_type": "stream",
     "text": [
      "/Users/jacco/Documents/repos/vu-case-study-eds/venv/lib/python3.10/site-packages/tqdm/auto.py:22: TqdmWarning: IProgress not found. Please update jupyter and ipywidgets. See https://ipywidgets.readthedocs.io/en/stable/user_install.html\n",
      "  from .autonotebook import tqdm as notebook_tqdm\n"
     ]
    }
   ],
   "source": [
    "# import utility modules\n",
    "import pandas as pd\n",
    "import numpy as np\n",
    "import configparser\n",
    "import os\n",
    "from joblib import dump, load\n",
    "import datetime as dt\n",
    "\n",
    "\n",
    "# import sweetviz\n",
    "import matplotlib.pyplot as plt\n",
    "\n",
    "# import optuna\n",
    "import optuna\n",
    "optuna.logging.set_verbosity(optuna.logging.WARNING)\n",
    "\n",
    "# helper functions\n",
    "from helpers.helper_functions import transform_data, add_actuals, get_pca_pipeline, get_model\n",
    "from helpers.helper_classes import AddFeatureNames, GeneSPCA\n",
    "from helpers.config.hyperparameters import OptunaOptimzation\n",
    "from helpers.config.hyperparameters import PCA_LGBM_CFG, SPCA_LGBM_CFG, GSPCA_LGBM_CFG, PCA_LR_CFG, SPCA_LR_CFG, GSPCA_LR_CFG\n",
    "\n",
    "\n",
    "# sklearn\n",
    "from sklearn.decomposition import PCA, SparsePCA\n",
    "from sklearn.preprocessing import StandardScaler\n",
    "from sklearn.pipeline import Pipeline\n",
    "from sklearn.linear_model import LogisticRegression\n",
    "from sklearn.model_selection import cross_val_score, train_test_split, ShuffleSplit\n",
    "from sklearn.metrics import confusion_matrix, classification_report, ConfusionMatrixDisplay, roc_auc_score, roc_curve, RocCurveDisplay, f1_score\n",
    "from sklearn.svm import SVC\n",
    "from sklearn.neighbors import KNeighborsClassifier\n",
    "\n",
    "\n",
    "# LightGBM\n",
    "from lightgbm import LGBMClassifier\n",
    "\n",
    "# feature_engine\n",
    "from feature_engine.selection import DropFeatures, DropConstantFeatures, DropDuplicateFeatures"
   ]
  },
  {
   "cell_type": "code",
   "execution_count": 2,
   "metadata": {},
   "outputs": [],
   "source": [
    "# Read config.ini file\n",
    "config = configparser.ConfigParser()\n",
    "config.read('config.ini')\n",
    "\n",
    "os.chdir(config['PATH']['ROOT_DIR'])"
   ]
  },
  {
   "cell_type": "code",
   "execution_count": 3,
   "metadata": {},
   "outputs": [],
   "source": [
    "# Read data\n",
    "raw_train = pd.read_csv(config['PATH']['RAW_TRAIN_DATA'])\n",
    "raw_test = pd.read_csv(config['PATH']['RAW_TEST_DATA'])\n",
    "actuals = pd.read_csv(config['PATH']['ACTUALS'])\n",
    "\n",
    "# Read parameters\n",
    "SEED = config.getint('PARAMS', 'SEED')\n",
    "N_COMPONENTS = config.getint('PARAMS', 'N_COMPONENTS')\n",
    "OPTUNA_DIR = config.get('LOGGING','OPTUNA_DIR')"
   ]
  },
  {
   "attachments": {},
   "cell_type": "markdown",
   "metadata": {},
   "source": [
    "### Setup preprocessing, PCA, and SparsePCA"
   ]
  },
  {
   "cell_type": "code",
   "execution_count": 4,
   "metadata": {},
   "outputs": [],
   "source": [
    "preprocessing_pipe = Pipeline([\n",
    "    # Step 0:\n",
    "        # Drop constant and duplicate features\n",
    "        ('drop_features', DropFeatures(features_to_drop=[\"cancer\"])),\n",
    "        ('drop_constant', DropConstantFeatures(tol=0.98)),\n",
    "\n",
    "    # Step 1:\n",
    "        # Apply scaling to data as it is a requirement for the variance maximization procedure of PCA\n",
    "        ('scaler', StandardScaler()),\n",
    "])"
   ]
  },
  {
   "attachments": {},
   "cell_type": "markdown",
   "metadata": {},
   "source": [
    "### Optuna objects"
   ]
  },
  {
   "cell_type": "code",
   "execution_count": 5,
   "metadata": {},
   "outputs": [],
   "source": [
    "# Transform data to accesible format and add actuals\n",
    "train = transform_data(raw_train)\n",
    "train = add_actuals(train, actuals)\n",
    "test = transform_data(raw_test)\n",
    "test = add_actuals(test, actuals)\n",
    "\n",
    "# Data with 80/20 split\n",
    "full_df = pd.concat([train, test])\n",
    "train80, test20 = train_test_split(full_df, test_size=0.2, random_state=SEED)\n",
    "\n",
    "# Get target for 80/20 split\n",
    "X_train, X_test = preprocessing_pipe.fit_transform(train80), preprocessing_pipe.transform(test20)\n",
    "y_train, y_test = train80['cancer'], test20['cancer']"
   ]
  },
  {
   "attachments": {},
   "cell_type": "markdown",
   "metadata": {},
   "source": [
    "# Hyperparameter Optimization\n",
    "\n",
    "## Logistic Regression"
   ]
  },
  {
   "cell_type": "code",
   "execution_count": 6,
   "metadata": {},
   "outputs": [],
   "source": [
    "# Create dictionary of all Hyperparameter configurations\n",
    "hyperparameter_configs = {\n",
    "    'PCA_LGBM': PCA_LGBM_CFG(),\n",
    "    'SPCA_LGBM': SPCA_LGBM_CFG(),\n",
    "    'GSPCA_LGBM': GSPCA_LGBM_CFG(),\n",
    "    'PCA_LR': PCA_LR_CFG(),\n",
    "    'SPCA_LR': SPCA_LR_CFG(),\n",
    "    'GSPCA_LR': GSPCA_LR_CFG(),\n",
    "}\n",
    "\n",
    "def run_all_optimizations(X_train, y_train, hyperparameter_configs, n_trials=50):\n",
    "    study_dict = {}\n",
    "    timestamp = dt.datetime.now().strftime(\"%Y%m%d_%H%M\")\n",
    "    \n",
    "    for name, cfg in hyperparameter_configs.items():\n",
    "        optimizer = OptunaOptimzation(\n",
    "            X_train,\n",
    "            y_train,\n",
    "            n_trials=n_trials,\n",
    "            hyperparameter_config=cfg,\n",
    "            name=name,\n",
    "        )\n",
    "        optimizer.run()\n",
    "        \n",
    "        # Save study object\n",
    "        optimizer.save_study(path=f\"{OPTUNA_DIR}{timestamp}_{name}_optuna_run.csv\")\n",
    "        study_dict[name] = optimizer.study\n",
    "        \n",
    "    return study_dict"
   ]
  },
  {
   "cell_type": "code",
   "execution_count": 7,
   "metadata": {},
   "outputs": [
    {
     "name": "stdout",
     "output_type": "stream",
     "text": [
      "[LightGBM] [Warning] min_data_in_leaf is set=2800, min_child_samples=20 will be ignored. Current value: min_data_in_leaf=2800\n",
      "[LightGBM] [Warning] min_gain_to_split is set=4.127711096539998, min_split_gain=0.0 will be ignored. Current value: min_gain_to_split=4.127711096539998\n",
      "[LightGBM] [Warning] min_data_in_leaf is set=2800, min_child_samples=20 will be ignored. Current value: min_data_in_leaf=2800\n",
      "[LightGBM] [Warning] min_gain_to_split is set=4.127711096539998, min_split_gain=0.0 will be ignored. Current value: min_gain_to_split=4.127711096539998\n",
      "[LightGBM] [Warning] min_data_in_leaf is set=2800, min_child_samples=20 will be ignored. Current value: min_data_in_leaf=2800\n",
      "[LightGBM] [Warning] min_gain_to_split is set=4.127711096539998, min_split_gain=0.0 will be ignored. Current value: min_gain_to_split=4.127711096539998\n",
      "[LightGBM] [Warning] min_data_in_leaf is set=2800, min_child_samples=20 will be ignored. Current value: min_data_in_leaf=2800\n",
      "[LightGBM] [Warning] min_gain_to_split is set=4.127711096539998, min_split_gain=0.0 will be ignored. Current value: min_gain_to_split=4.127711096539998\n",
      "[LightGBM] [Warning] min_data_in_leaf is set=2800, min_child_samples=20 will be ignored. Current value: min_data_in_leaf=2800\n",
      "[LightGBM] [Warning] min_gain_to_split is set=4.127711096539998, min_split_gain=0.0 will be ignored. Current value: min_gain_to_split=4.127711096539998\n",
      "[LightGBM] [Warning] min_data_in_leaf is set=10000, min_child_samples=20 will be ignored. Current value: min_data_in_leaf=10000\n",
      "[LightGBM] [Warning] min_gain_to_split is set=13.90041254195304, min_split_gain=0.0 will be ignored. Current value: min_gain_to_split=13.90041254195304\n",
      "[LightGBM] [Warning] min_data_in_leaf is set=10000, min_child_samples=20 will be ignored. Current value: min_data_in_leaf=10000\n",
      "[LightGBM] [Warning] min_gain_to_split is set=13.90041254195304, min_split_gain=0.0 will be ignored. Current value: min_gain_to_split=13.90041254195304\n",
      "[LightGBM] [Warning] min_data_in_leaf is set=10000, min_child_samples=20 will be ignored. Current value: min_data_in_leaf=10000\n",
      "[LightGBM] [Warning] min_gain_to_split is set=13.90041254195304, min_split_gain=0.0 will be ignored. Current value: min_gain_to_split=13.90041254195304\n",
      "[LightGBM] [Warning] min_data_in_leaf is set=10000, min_child_samples=20 will be ignored. Current value: min_data_in_leaf=10000\n",
      "[LightGBM] [Warning] min_gain_to_split is set=13.90041254195304, min_split_gain=0.0 will be ignored. Current value: min_gain_to_split=13.90041254195304\n",
      "[LightGBM] [Warning] min_data_in_leaf is set=10000, min_child_samples=20 will be ignored. Current value: min_data_in_leaf=10000\n",
      "[LightGBM] [Warning] min_gain_to_split is set=13.90041254195304, min_split_gain=0.0 will be ignored. Current value: min_gain_to_split=13.90041254195304\n",
      "[LightGBM] [Warning] min_data_in_leaf is set=1700, min_child_samples=20 will be ignored. Current value: min_data_in_leaf=1700\n",
      "[LightGBM] [Warning] min_gain_to_split is set=9.879205094441598, min_split_gain=0.0 will be ignored. Current value: min_gain_to_split=9.879205094441598\n",
      "[LightGBM] [Warning] min_data_in_leaf is set=1700, min_child_samples=20 will be ignored. Current value: min_data_in_leaf=1700\n",
      "[LightGBM] [Warning] min_gain_to_split is set=9.879205094441598, min_split_gain=0.0 will be ignored. Current value: min_gain_to_split=9.879205094441598\n",
      "[LightGBM] [Warning] min_data_in_leaf is set=1700, min_child_samples=20 will be ignored. Current value: min_data_in_leaf=1700\n",
      "[LightGBM] [Warning] min_gain_to_split is set=9.879205094441598, min_split_gain=0.0 will be ignored. Current value: min_gain_to_split=9.879205094441598\n",
      "[LightGBM] [Warning] min_data_in_leaf is set=1700, min_child_samples=20 will be ignored. Current value: min_data_in_leaf=1700\n",
      "[LightGBM] [Warning] min_gain_to_split is set=9.879205094441598, min_split_gain=0.0 will be ignored. Current value: min_gain_to_split=9.879205094441598\n",
      "[LightGBM] [Warning] min_data_in_leaf is set=1700, min_child_samples=20 will be ignored. Current value: min_data_in_leaf=1700\n",
      "[LightGBM] [Warning] min_gain_to_split is set=9.879205094441598, min_split_gain=0.0 will be ignored. Current value: min_gain_to_split=9.879205094441598\n"
     ]
    }
   ],
   "source": [
    "run_all_optimizations(X_train, y_train, hyperparameter_configs, n_trials=3)"
   ]
  },
  {
   "cell_type": "code",
   "execution_count": null,
   "metadata": {},
   "outputs": [
    {
     "data": {
      "text/plain": [
       "1.0"
      ]
     },
     "execution_count": 10,
     "metadata": {},
     "output_type": "execute_result"
    }
   ],
   "source": [
    "# pipe = Pipeline([\n",
    "#     (\"pca\", get_pca_pipeline(cfg.get_params()[\"pca\"][\"method\"], **best_params)),\n",
    "#     (\"model\", get_model(cfg.get_model(), **cfg.get_params()[\"static\"], **best_params)),\n",
    "# ])\n",
    "\n",
    "# pipe.fit(X_train, y_train)\n",
    "# pipe.score(X_test, y_test)"
   ]
  }
 ],
 "metadata": {
  "kernelspec": {
   "display_name": "venv",
   "language": "python",
   "name": "python3"
  },
  "language_info": {
   "codemirror_mode": {
    "name": "ipython",
    "version": 3
   },
   "file_extension": ".py",
   "mimetype": "text/x-python",
   "name": "python",
   "nbconvert_exporter": "python",
   "pygments_lexer": "ipython3",
   "version": "3.10.9"
  },
  "orig_nbformat": 4,
  "vscode": {
   "interpreter": {
    "hash": "4fed3f540145570e7833937a1e1d68a988a44bb35475cfc6c2f4b4584646998d"
   }
  }
 },
 "nbformat": 4,
 "nbformat_minor": 2
}
