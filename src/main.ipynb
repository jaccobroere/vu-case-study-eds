{
 "cells": [
  {
   "attachments": {},
   "cell_type": "markdown",
   "metadata": {},
   "source": [
    "# VU Econometics and Data Science: Case Study\n",
    "```\n",
    "Author(s): Jacco Broere\n",
    "```\n",
    "\n",
    "\n",
    "### Setup\n",
    "- Setup config.ini file\n",
    "- Install necessary packages\n",
    "- Download and unpack data\n",
    "\n"
   ]
  },
  {
   "cell_type": "code",
   "execution_count": 2,
   "metadata": {},
   "outputs": [
    {
     "name": "stderr",
     "output_type": "stream",
     "text": [
      "c:\\Users\\caspa\\Desktop\\VU_git\\vu-case-study-eds\\.venv\\Lib\\site-packages\\tqdm\\auto.py:22: TqdmWarning: IProgress not found. Please update jupyter and ipywidgets. See https://ipywidgets.readthedocs.io/en/stable/user_install.html\n",
      "  from .autonotebook import tqdm as notebook_tqdm\n"
     ]
    }
   ],
   "source": [
    "# import utility modules\n",
    "import pandas as pd\n",
    "import numpy as np\n",
    "import configparser\n",
    "import os\n",
    "\n",
    "# import sweetviz\n",
    "\n",
    "import matplotlib.pyplot as plt\n",
    "\n",
    "# import optuna\n",
    "import optuna\n",
    "optuna.logging.set_verbosity(optuna.logging.WARNING)\n",
    "\n",
    "# helper functions\n",
    "from helpers.helper_functions import transform_data, add_actuals\n",
    "from helpers.helper_classes import AddFeatureNames\n",
    "\n",
    "# sklearn\n",
    "from sklearn.decomposition import PCA, SparsePCA\n",
    "from sklearn.preprocessing import StandardScaler\n",
    "from sklearn.pipeline import Pipeline\n",
    "from sklearn.linear_model import LogisticRegression\n",
    "from sklearn.model_selection import cross_val_score, train_test_split\n",
    "from sklearn.metrics import confusion_matrix, classification_report, ConfusionMatrixDisplay, roc_auc_score, roc_curve, RocCurveDisplay, f1_score\n",
    "from sklearn.svm import SVC\n",
    "from sklearn.neighbors import KNeighborsClassifier\n",
    "\n",
    "# LightGBM\n",
    "from lightgbm import LGBMClassifier\n",
    "\n",
    "from joblib import dump, load\n",
    "\n",
    "\n",
    "# feature_engine\n",
    "from feature_engine.selection import DropFeatures, DropConstantFeatures, DropDuplicateFeatures"
   ]
  },
  {
   "cell_type": "code",
   "execution_count": 3,
   "metadata": {},
   "outputs": [],
   "source": [
    "# Read config.ini file\n",
    "config = configparser.ConfigParser()\n",
    "config.read('config.ini')\n",
    "\n",
    "os.chdir(config['PATH']['ROOT_DIR'])"
   ]
  },
  {
   "cell_type": "code",
   "execution_count": 4,
   "metadata": {},
   "outputs": [],
   "source": [
    "# Read data\n",
    "raw_train = pd.read_csv(config['PATH']['RAW_TRAIN_DATA'])\n",
    "raw_test = pd.read_csv(config['PATH']['RAW_TEST_DATA'])\n",
    "actuals = pd.read_csv(config['PATH']['ACTUALS'])\n",
    "\n",
    "# Read parameters\n",
    "SEED = config.getint('PARAMS', 'SEED')\n",
    "N_COMPONENTS = config.getint('PARAMS', 'N_COMPONENTS')"
   ]
  },
  {
   "attachments": {},
   "cell_type": "markdown",
   "metadata": {},
   "source": [
    "### Data exploration"
   ]
  },
  {
   "cell_type": "code",
   "execution_count": 5,
   "metadata": {},
   "outputs": [
    {
     "name": "stdout",
     "output_type": "stream",
     "text": [
      "Missing values in training set: 0\n",
      "Missing values in test set: 0\n",
      "Missing values in actuals: 0\n"
     ]
    }
   ],
   "source": [
    "# Check total missing values\n",
    "print(f\"Missing values in training set: {raw_train.isna().sum().sum()}\")\n",
    "print(f\"Missing values in test set: {raw_test.isna().sum().sum()}\")\n",
    "print(f\"Missing values in actuals: {actuals.isna().sum().sum()}\")"
   ]
  },
  {
   "attachments": {},
   "cell_type": "markdown",
   "metadata": {},
   "source": [
    "### Setup preprocessing, PCA, and SparsePCA"
   ]
  },
  {
   "cell_type": "code",
   "execution_count": 6,
   "metadata": {},
   "outputs": [],
   "source": [
    "def get_pca_pipe(n_comps = N_COMPONENTS):\n",
    "    return Pipeline([    \n",
    "    # Step 1:\n",
    "        # Apply PCA\n",
    "        ('pca', PCA(n_components=n_comps, random_state=SEED)),\n",
    "    # Step 2:\n",
    "        # Add feature names\n",
    "        ('add_features_names', AddFeatureNames(prefix=\"cmpnt_\"))\n",
    "    ])\n",
    "\n",
    "def get_spca_pipeline(n_comps = N_COMPONENTS):\n",
    "    return Pipeline([\n",
    "        # Step 1:\n",
    "            # Apply SPCA\n",
    "            ('spca', SparsePCA(n_components=n_comps, random_state=SEED, alpha=1, max_iter=400, n_jobs = -1)),\n",
    "        # Step 2:\n",
    "            # Add feature names\n",
    "            ('add_features_names', AddFeatureNames(prefix=\"cmpnt_\"))\n",
    "    ])\n",
    "\n",
    "preprocessing_pipe = Pipeline([\n",
    "    # Step 0:\n",
    "        # Drop constant and duplicate features\n",
    "        ('drop_features', DropFeatures(features_to_drop=[\"cancer\"])),\n",
    "        ('drop_constant', DropConstantFeatures(tol=0.98)),\n",
    "\n",
    "    # Step 1:\n",
    "        # Apply scaling to data as it is a requirement for the variance maximization procedure of PCA\n",
    "        ('scaler', StandardScaler()),\n",
    "])"
   ]
  },
  {
   "cell_type": "code",
   "execution_count": 23,
   "metadata": {},
   "outputs": [],
   "source": [
    "# Transform data to accesible format and add actuals\n",
    "train = transform_data(raw_train)\n",
    "train = add_actuals(train, actuals)\n",
    "test = transform_data(raw_test)\n",
    "test = add_actuals(test, actuals)\n",
    "\n",
    "# Data with 80/20 split\n",
    "full_df = pd.concat([train, test])\n",
    "train80, test20 = train_test_split(full_df, test_size=0.2, random_state=SEED)\n",
    "\n",
    "# Get target for 80/20 split\n",
    "X_train, X_test = preprocessing_pipe.fit_transform(train80), preprocessing_pipe.transform(test20)\n",
    "y_train, y_test = train80['cancer'], test20['cancer']"
   ]
  },
  {
   "cell_type": "code",
   "execution_count": 24,
   "metadata": {},
   "outputs": [],
   "source": [
    "## Fit and save SPCA pipelines\n",
    "# Normal data, spca, 30 features\n",
    "# spca_pipe_30.fit(train)\n",
    "# spca_filename_30 = config['LOGGING']['PIPE_DIR'] + 'spca_pipe_' + str(N_COMPONENTS) +  'comp.lib'\n",
    "# dump(spca_pipe30, spca_filename)\n",
    "# spca_pipe_30 = load(spca_filename_30)\n",
    "\n",
    "# spca_pipe_50 = get_spca_pipeline(n_comps = 50)\n",
    "# spca_pipe_50.fit(X_train)\n",
    "spca_filename = config['LOGGING']['PIPE_DIR'] + 'spca_pipe_8020_' + str(50) +  'comp.lib'\n",
    "spca_pipe_50 = load(spca_filename)\n",
    "\n",
    "## Load SPCA pipeline from save\n",
    "spca_pipe = spca_pipe_50\n",
    "X_train_spca = spca_pipe.transform(X_train)\n",
    "X_test_spca = spca_pipe.transform(X_test)\n",
    "\n",
    "## Fit PCA pipeline\n",
    "pca_pipe = get_pca_pipe(n_comps = 50)\n",
    "pca_pipe.fit(X_train)\n",
    "\n",
    "X_train_pca = pca_pipe.transform(X_train)\n",
    "X_test_pca = pca_pipe.transform(X_test)"
   ]
  },
  {
   "attachments": {},
   "cell_type": "markdown",
   "metadata": {},
   "source": [
    "### Model fitting\n",
    "#### Implemented models\n",
    "- Logistic regression\n",
    "- LightGBM (Gradient Tree Boosting)\n",
    "- SVC (Support Vector Classifier)\n",
    "- KNN (K Nearest Neighbours Classifier)"
   ]
  },
  {
   "cell_type": "code",
   "execution_count": 25,
   "metadata": {},
   "outputs": [],
   "source": [
    "pipelines = {}"
   ]
  },
  {
   "attachments": {},
   "cell_type": "markdown",
   "metadata": {},
   "source": [
    "#### Logistic Regression"
   ]
  },
  {
   "cell_type": "code",
   "execution_count": 26,
   "metadata": {},
   "outputs": [],
   "source": [
    "def construct_lr_pipe():\n",
    "        return Pipeline([\n",
    "                # Apply logistic regression\n",
    "                ('logistic_regression', LogisticRegression(random_state=SEED))\n",
    "        ])"
   ]
  },
  {
   "cell_type": "code",
   "execution_count": 27,
   "metadata": {},
   "outputs": [
    {
     "name": "stdout",
     "output_type": "stream",
     "text": [
      "Score with Logistic Regression and PCA:            1.0\n",
      "Score with Logistic Regression and SPCA:           1.0\n"
     ]
    }
   ],
   "source": [
    "# Fit and score PCA with Logistic Regression\n",
    "lr_pca = construct_lr_pipe()\n",
    "lr_pca.fit(X_train_pca, y_train)\n",
    "print(f\"{'Score with Logistic Regression and PCA:':<50} {lr_pca.score(X_test_pca, y_test)}\")\n",
    "\n",
    "# Fit and score SPCA with Logistic Regression\n",
    "lr_spca = construct_lr_pipe()\n",
    "lr_spca.fit(X_train_spca, y_train)\n",
    "print(f\"{'Score with Logistic Regression and SPCA:':<50} {lr_spca.score(X_test_spca, y_test)}\")\n",
    "\n",
    "pipelines[\"lr\"] = {\"spca\":lr_spca, \"pca\":lr_pca}"
   ]
  },
  {
   "attachments": {},
   "cell_type": "markdown",
   "metadata": {},
   "source": [
    "### LightGBM (Gradient Tree Boosting)"
   ]
  },
  {
   "cell_type": "code",
   "execution_count": 28,
   "metadata": {},
   "outputs": [],
   "source": [
    "def construct_lgbm_pipe():\n",
    "    return Pipeline([\n",
    "        # Step 4:\n",
    "            # Apply LGBM\n",
    "            ('lgbm_classifier', LGBMClassifier(random_state=SEED))\n",
    "    ])"
   ]
  },
  {
   "cell_type": "code",
   "execution_count": 29,
   "metadata": {},
   "outputs": [
    {
     "name": "stdout",
     "output_type": "stream",
     "text": [
      "Score with LGBM and PCA:                           0.8666666666666667\n",
      "Score with LGBM and SPCA:                          0.8\n"
     ]
    }
   ],
   "source": [
    "# Fit and score PCA with Logistic Regression\n",
    "lgbm_pca = construct_lgbm_pipe()\n",
    "lgbm_pca.fit(X_train_pca, y_train)\n",
    "print(f\"{'Score with LGBM and PCA:':<50} {lgbm_pca.score(X_test_pca, y_test)}\")\n",
    "\n",
    "# Fit and score SPCA with Logistic Regression\n",
    "lgbm_spca = construct_lgbm_pipe()\n",
    "lgbm_spca.fit(X_train_spca, y_train)\n",
    "print(f\"{'Score with LGBM and SPCA:':<50} {lgbm_spca.score(X_test_spca, y_test)}\")\n",
    "\n",
    "pipelines[\"lgbm\"] = {'spca':lgbm_spca, 'pca':lgbm_pca}"
   ]
  },
  {
   "attachments": {},
   "cell_type": "markdown",
   "metadata": {},
   "source": [
    "#### LightGBM tuning with optuna"
   ]
  },
  {
   "cell_type": "code",
   "execution_count": 30,
   "metadata": {},
   "outputs": [],
   "source": [
    "def objective(trial):\n",
    "    boost_type = trial.suggest_categorical(\"boosting_type\", [\"gbdt\", \"dart\"])\n",
    "    dataset = trial.suggest_categorical(\"data\", [\"spca\", \"pca\"])\n",
    "    if dataset == 'spca':\n",
    "        data_cur = X_train_spca\n",
    "    else:\n",
    "        data_cur = X_train_pca\n",
    "\n",
    "    n_leaves = trial.suggest_int('num_leaves', 3, 40)\n",
    "    n_est = trial.suggest_int('n_estimators', 30, 400)\n",
    "    max_d = trial.suggest_int('max_depth', 2, 50)\n",
    "\n",
    "    clf = LGBMClassifier(random_state=SEED,\n",
    "                        boosting_type = boost_type, \n",
    "                        num_leaves = n_leaves,\n",
    "                        n_estimators = n_est,\n",
    "                        max_depth = max_d)\n",
    "\n",
    "    score = cross_val_score(clf, data_cur, y_train, n_jobs = -1, cv = 3)\n",
    "    f1 = score.mean()\n",
    "    return f1"
   ]
  },
  {
   "cell_type": "code",
   "execution_count": 31,
   "metadata": {},
   "outputs": [
    {
     "name": "stdout",
     "output_type": "stream",
     "text": [
      "FrozenTrial(number=0, values=[0.631578947368421], datetime_start=datetime.datetime(2023, 1, 21, 18, 2, 48, 308154), datetime_complete=datetime.datetime(2023, 1, 21, 18, 2, 48, 327174), params={'boosting_type': 'gbdt', 'data': 'pca', 'num_leaves': 22, 'n_estimators': 245, 'max_depth': 41}, distributions={'boosting_type': CategoricalDistribution(choices=('gbdt', 'dart')), 'data': CategoricalDistribution(choices=('spca', 'pca')), 'num_leaves': IntUniformDistribution(high=40, low=3, step=1), 'n_estimators': IntUniformDistribution(high=400, low=30, step=1), 'max_depth': IntUniformDistribution(high=50, low=2, step=1)}, user_attrs={}, system_attrs={}, intermediate_values={}, trial_id=0, state=TrialState.COMPLETE, value=None)\n"
     ]
    }
   ],
   "source": [
    "study = optuna.create_study(direction = 'maximize')\n",
    "study.optimize(objective, n_trials = 100)\n",
    "print(study.best_trial)"
   ]
  },
  {
   "attachments": {},
   "cell_type": "markdown",
   "metadata": {},
   "source": [
    "No difference between the trials, might be due to a very small training set (score is calculated using cross validation). TODO: change train/test to 80/20 split."
   ]
  },
  {
   "attachments": {},
   "cell_type": "markdown",
   "metadata": {},
   "source": [
    "### Support Vector Classifier\n"
   ]
  },
  {
   "cell_type": "code",
   "execution_count": 32,
   "metadata": {},
   "outputs": [],
   "source": [
    "def construct_svc_pipe():\n",
    "    return Pipeline([\n",
    "        # Step 4:\n",
    "            # Apply LGBM\n",
    "            ('SVC', SVC(random_state=SEED))\n",
    "    ])\n"
   ]
  },
  {
   "cell_type": "code",
   "execution_count": 33,
   "metadata": {},
   "outputs": [
    {
     "name": "stdout",
     "output_type": "stream",
     "text": [
      "SVC PCA score: 0.9333333333333333\n",
      "SVC SPCA score: 1.0\n"
     ]
    }
   ],
   "source": [
    "svc_pca = construct_svc_pipe()\n",
    "svc_pca.fit(X_train_pca, y_train)\n",
    "print(f\"SVC PCA score: {svc_pca.score(X_test_pca, y_test)}\")\n",
    "\n",
    "svc_spca = construct_svc_pipe()\n",
    "svc_spca.fit(X_train_spca, y_train)\n",
    "print(f\"SVC SPCA score: {svc_spca.score(X_test_spca, y_test)}\")"
   ]
  },
  {
   "attachments": {},
   "cell_type": "markdown",
   "metadata": {},
   "source": [
    "### KNeighbours Classifier"
   ]
  },
  {
   "cell_type": "code",
   "execution_count": 34,
   "metadata": {},
   "outputs": [],
   "source": [
    "def construct_knn_pipe():\n",
    "    return Pipeline([\n",
    "        # Step 4:\n",
    "            # Apply LGBM\n",
    "            ('KNN', KNeighborsClassifier())\n",
    "    ])\n"
   ]
  },
  {
   "cell_type": "code",
   "execution_count": 35,
   "metadata": {},
   "outputs": [
    {
     "name": "stdout",
     "output_type": "stream",
     "text": [
      "KNN PCA score: 0.8666666666666667\n",
      "KNN SPCA score: 0.8666666666666667\n"
     ]
    }
   ],
   "source": [
    "knn_pca = construct_knn_pipe()\n",
    "knn_pca.fit(X_train_pca, y_train)\n",
    "print(f\"KNN PCA score: {knn_pca.score(X_test_pca, y_test)}\")\n",
    "\n",
    "knn_spca = construct_knn_pipe()\n",
    "knn_spca.fit(X_train_spca, y_train)\n",
    "print(f\"KNN SPCA score: {knn_spca.score(X_test_spca, y_test)}\")"
   ]
  },
  {
   "attachments": {},
   "cell_type": "markdown",
   "metadata": {},
   "source": [
    "### Evaluation\n",
    "bit rough around the edges still."
   ]
  },
  {
   "cell_type": "code",
   "execution_count": 36,
   "metadata": {},
   "outputs": [],
   "source": [
    "def classification_report_extensive(classifier, X_test, y_true):\n",
    "    y_pred = classifier.predict(X_test)\n",
    "    print(classification_report(y_true, y_pred))\n",
    "    print(f\"ROC_AUC score: {roc_auc_score(y_true, classifier.predict_proba(X_test)[:, 1])}\")\n",
    "    conf_mat = confusion_matrix(y_true, y_pred)\n",
    "    disp = ConfusionMatrixDisplay(conf_mat)\n",
    "    disp.plot()"
   ]
  },
  {
   "cell_type": "code",
   "execution_count": 37,
   "metadata": {},
   "outputs": [
    {
     "data": {
      "text/plain": [
       "<sklearn.metrics._plot.roc_curve.RocCurveDisplay at 0x2955ba91790>"
      ]
     },
     "execution_count": 37,
     "metadata": {},
     "output_type": "execute_result"
    },
    {
     "data": {
      "image/png": "[encoded data removed]",
      "text/plain": [
       "<Figure size 640x480 with 1 Axes>"
      ]
     },
     "metadata": {},
     "output_type": "display_data"
    }
   ],
   "source": [
    "RocCurveDisplay.from_estimator(lr_spca, X_test_spca, y_test)"
   ]
  },
  {
   "cell_type": "code",
   "execution_count": 38,
   "metadata": {},
   "outputs": [
    {
     "name": "stdout",
     "output_type": "stream",
     "text": [
      "Dataset: leukemia\n",
      "--------------------------------------------------------------------------------\n",
      "\n",
      "Transform: none\n",
      "----------------------------------------\n",
      "lr:\n",
      "accuracy: 1.0\n",
      "f1-score: 1.0\n",
      "lgbm:\n",
      "accuracy: 1.0\n",
      "f1-score: 1.0\n",
      "svc:\n",
      "accuracy: 0.8666666666666667\n",
      "f1-score: 0.9166666666666666\n",
      "knn:\n",
      "accuracy: 0.8666666666666667\n",
      "f1-score: 0.9166666666666666\n",
      "\n",
      "Transform: pca \n",
      "----------------------------------------\n",
      "lr:\n",
      "accuracy: 1.0\n",
      "f1-score: 1.0\n",
      "lgbm:\n",
      "accuracy: 0.8666666666666667\n",
      "f1-score: 0.9166666666666666\n",
      "svc:\n",
      "accuracy: 0.9333333333333333\n",
      "f1-score: 0.9565217391304348\n",
      "knn:\n",
      "accuracy: 0.8666666666666667\n",
      "f1-score: 0.9166666666666666\n",
      "\n",
      "Transform: spca\n",
      "----------------------------------------\n",
      "lr:\n",
      "accuracy: 1.0\n",
      "f1-score: 1.0\n",
      "lgbm:\n",
      "accuracy: 0.8\n",
      "f1-score: 0.8695652173913043\n",
      "svc:\n",
      "accuracy: 1.0\n",
      "f1-score: 1.0\n",
      "knn:\n",
      "accuracy: 0.8666666666666667\n",
      "f1-score: 0.9166666666666666\n"
     ]
    }
   ],
   "source": [
    "data = {}\n",
    "data['leukemia'] = {'none':{'X_train': X_train,'y_train': y_train, 'X_test': X_test, 'y_test': y_test},\n",
    "                    'pca ': {'X_train': X_train_pca,'y_train': y_train, 'X_test': X_test_pca, 'y_test': y_test},\n",
    "                    'spca': {'X_train': X_train_spca,'y_train': y_train, 'X_test': X_test_spca, 'y_test': y_test}}\n",
    "clf_dict = {'lr': LogisticRegression(random_state=SEED),\n",
    "            'lgbm': LGBMClassifier(random_state=SEED),\n",
    "            'svc': SVC(random_state=SEED),\n",
    "            'knn':KNeighborsClassifier()}\n",
    "\n",
    "for data_name, data_dict in data.items():\n",
    "    print(f\"Dataset: {data_name}\")\n",
    "    print('-'*80)\n",
    "    for transform_name, data_cur in data_dict.items():\n",
    "        print()\n",
    "        print(f\"Transform: {transform_name}\")\n",
    "        print('-' * 40)\n",
    "        for clf_name, clf in clf_dict.items():\n",
    "            # print(f\"Classifier: {clf_name}\")\n",
    "            clf.fit(data_cur['X_train'], data_cur[\"y_train\"])\n",
    "            y_pred = clf.predict(data_cur['X_test'])\n",
    "            f1 = f1_score(data_cur['y_test'], y_pred)\n",
    "            print(f\"{clf_name}:\\naccuracy: {clf.score(data_cur['X_test'], data_cur['y_test'])}\\nf1-score: {f1}\")\n",
    "            # print(f\"f1-score: {clf.score(data_cur['X_test'], data_cur['y_test'], scoring = 'f1_score')}\")\n",
    "            # print(f\"accuracy: {clf.score(data_cur['X_test'], data_cur['y_test'], scoring = 'roc_auc')}\")\n"
   ]
  },
  {
   "cell_type": "code",
   "execution_count": null,
   "metadata": {},
   "outputs": [],
   "source": []
  }
 ],
 "metadata": {
  "kernelspec": {
   "display_name": ".venv",
   "language": "python",
   "name": "python3"
  },
  "language_info": {
   "codemirror_mode": {
    "name": "ipython",
    "version": 3
   },
   "file_extension": ".py",
   "mimetype": "text/x-python",
   "name": "python",
   "nbconvert_exporter": "python",
   "pygments_lexer": "ipython3",
   "version": "3.11.1"
  },
  "orig_nbformat": 4,
  "vscode": {
   "interpreter": {
    "hash": "798b358ac2319934761a0de4f13ee9d5cebfbe5f460487494742ce99d4b4f7bd"
   }
  }
 },
 "nbformat": 4,
 "nbformat_minor": 2
}
