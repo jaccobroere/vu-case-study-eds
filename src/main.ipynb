{
 "cells": [
  {
   "attachments": {},
   "cell_type": "markdown",
   "metadata": {},
   "source": [
    "# VU Econometics and Data Science: Case Study\n",
    "```\n",
    "Author(s): Jacco Broere\n",
    "```\n",
    "\n",
    "\n",
    "### Setup\n",
    "- Setup config.ini file\n",
    "- Install necessary packages\n",
    "- Download and unpack data\n",
    "\n"
   ]
  },
  {
   "cell_type": "code",
   "execution_count": 1,
   "metadata": {},
   "outputs": [
    {
     "name": "stderr",
     "output_type": "stream",
     "text": [
      "c:\\Users\\jacbr\\AppData\\Local\\Programs\\Python\\Python310\\lib\\site-packages\\tqdm\\auto.py:22: TqdmWarning: IProgress not found. Please update jupyter and ipywidgets. See https://ipywidgets.readthedocs.io/en/stable/user_install.html\n",
      "  from .autonotebook import tqdm as notebook_tqdm\n"
     ]
    }
   ],
   "source": [
    "# import packages\n",
    "import pandas as pd\n",
    "import numpy as np\n",
    "import configparser\n",
    "import os\n",
    "import sweetviz\n",
    "\n",
    "# helper functions\n",
    "from helpers.helper_functions import transform_data, add_actuals\n",
    "\n",
    "# sklearn\n",
    "from sklearn.decomposition import PCA, SparsePCA\n",
    "from sklearn.preprocessing import StandardScaler\n",
    "from sklearn.pipeline import Pipeline\n",
    "\n",
    "# feature_engine\n",
    "from feature_engine.selection import DropFeatures, DropConstantFeatures, DropDuplicateFeatures"
   ]
  },
  {
   "cell_type": "code",
   "execution_count": 2,
   "metadata": {},
   "outputs": [],
   "source": [
    "# Read config.ini file\n",
    "config = configparser.ConfigParser()\n",
    "config.read('src/config.ini')\n",
    "os.chdir(config['PATH']['ROOT_DIR'])"
   ]
  },
  {
   "cell_type": "code",
   "execution_count": 12,
   "metadata": {},
   "outputs": [],
   "source": [
    "# Read data\n",
    "raw_train = pd.read_csv(config['PATH']['RAW_TRAIN_DATA'])\n",
    "raw_test = pd.read_csv(config['PATH']['RAW_TEST_DATA'])\n",
    "actuals = pd.read_csv(config['PATH']['ACTUALS'])\n",
    "\n",
    "# Read parameters\n",
    "SEED = config.getint('PARAMS', 'SEED')"
   ]
  },
  {
   "attachments": {},
   "cell_type": "markdown",
   "metadata": {},
   "source": [
    "### Data exploration"
   ]
  },
  {
   "cell_type": "code",
   "execution_count": 4,
   "metadata": {},
   "outputs": [
    {
     "name": "stdout",
     "output_type": "stream",
     "text": [
      "Missing values in training set: 0\n",
      "Missing values in test set: 0\n",
      "Missing values in actuals: 0\n"
     ]
    }
   ],
   "source": [
    "# Check total missing values\n",
    "print(f\"Missing values in training set: {raw_train.isna().sum().sum()}\")\n",
    "print(f\"Missing values in test set: {raw_test.isna().sum().sum()}\")\n",
    "print(f\"Missing values in actuals: {actuals.isna().sum().sum()}\")"
   ]
  },
  {
   "attachments": {},
   "cell_type": "markdown",
   "metadata": {},
   "source": [
    "### Preprocessing"
   ]
  },
  {
   "cell_type": "code",
   "execution_count": 5,
   "metadata": {},
   "outputs": [],
   "source": [
    "# Transform data to accesible format and add actuals\n",
    "train = transform_data(raw_train)\n",
    "train = add_actuals(train, actuals)\n",
    "test = transform_data(raw_test)\n",
    "test = add_actuals(test, actuals)\n",
    "\n",
    "# get target variable\n",
    "y_train = train[\"cancer\"]\n",
    "y_test = test[\"cancer\"]"
   ]
  },
  {
   "cell_type": "code",
   "execution_count": 10,
   "metadata": {},
   "outputs": [],
   "source": [
    "preprocessing_pipe = Pipeline([\n",
    "    # Step 0:\n",
    "        # Drop constant and duplicate features\n",
    "        ('drop_features', DropFeatures(features_to_drop=[\"cancer\"])),\n",
    "        ('drop_constant', DropConstantFeatures(tol=0.98)),\n",
    "    \n",
    "    # Step 1:\n",
    "        # Apply scaling to data as it is a requirement for the variance maximization procedure of PCA\n",
    "        ('scaler', StandardScaler()),\n",
    "])\n",
    "\n",
    "X_train = preprocessing_pipe.fit_transform(train)\n",
    "X_test = preprocessing_pipe.fit_transform(test)"
   ]
  },
  {
   "attachments": {},
   "cell_type": "markdown",
   "metadata": {},
   "source": [
    "### PCA and SparsePCA"
   ]
  },
  {
   "cell_type": "code",
   "execution_count": 13,
   "metadata": {},
   "outputs": [],
   "source": [
    "pca_pipe = Pipeline([\n",
    "    # Step 0 & 1:\n",
    "        # Preprocessing\n",
    "        ('preprocessing', preprocessing_pipe),\n",
    "    # Step 2:\n",
    "        # Apply PCA\n",
    "        ('pca', PCA(n_components=20, random_state=SEED)),\n",
    "])\n",
    "\n",
    "X_train_pca = pca_pipe.fit_transform(train)\n",
    "X_test_pca = pca_pipe.fit_transform(test)"
   ]
  },
  {
   "cell_type": "code",
   "execution_count": 14,
   "metadata": {},
   "outputs": [],
   "source": [
    "spca_pipe = Pipeline([\n",
    "    # Step 0 & 1:\n",
    "        # Preprocessing\n",
    "        ('preprocessing', preprocessing_pipe),\n",
    "    # Step 2:\n",
    "        # Apply SPCA\n",
    "        ('pca', SparsePCA(n_components=20, random_state=SEED)),\n",
    "])\n",
    "\n",
    "X_train_spca = spca_pipe.fit_transform(train)\n",
    "X_test_pca = pca_pipe.fit_transform(test)"
   ]
  },
  {
   "cell_type": "code",
   "execution_count": null,
   "metadata": {},
   "outputs": [],
   "source": []
  }
 ],
 "metadata": {
  "kernelspec": {
   "display_name": "Python 3",
   "language": "python",
   "name": "python3"
  },
  "language_info": {
   "codemirror_mode": {
    "name": "ipython",
    "version": 3
   },
   "file_extension": ".py",
   "mimetype": "text/x-python",
   "name": "python",
   "nbconvert_exporter": "python",
   "pygments_lexer": "ipython3",
   "version": "3.10.4"
  },
  "orig_nbformat": 4,
  "vscode": {
   "interpreter": {
    "hash": "92d3ca18b4289e5a59092b5e555528d322048c59e12087c1ad117261a9f3261c"
   }
  }
 },
 "nbformat": 4,
 "nbformat_minor": 2
}
