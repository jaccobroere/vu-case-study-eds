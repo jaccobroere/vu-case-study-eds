{
 "cells": [
  {
   "attachments": {},
   "cell_type": "markdown",
   "metadata": {},
   "source": [
    "# VU Econometics and Data Science: Case Study\n",
    "```\n",
    "Author(s): Jacco Broere\n",
    "```\n",
    "\n",
    "\n",
    "### Setup\n",
    "- Setup config.ini file\n",
    "- Install necessary packages\n",
    "- Download and unpack data\n",
    "\n"
   ]
  },
  {
   "cell_type": "code",
   "execution_count": 107,
   "metadata": {},
   "outputs": [],
   "source": [
    "# import utility modules\n",
    "import pandas as pd\n",
    "import numpy as np\n",
    "import configparser\n",
    "import os\n",
    "\n",
    "# import sweetviz\n",
    "\n",
    "# import optuna\n",
    "import optuna\n",
    "\n",
    "# helper functions\n",
    "from helpers.helper_functions import transform_data, add_actuals\n",
    "from helpers.helper_classes import AddFeatureNames\n",
    "\n",
    "# sklearn\n",
    "from sklearn.decomposition import PCA, SparsePCA\n",
    "from sklearn.preprocessing import StandardScaler\n",
    "from sklearn.pipeline import Pipeline\n",
    "from sklearn.linear_model import LogisticRegression\n",
    "from sklearn.model_selection import cross_val_score, train_test_split\n",
    "\n",
    "# LightGBM\n",
    "from lightgbm import LGBMClassifier\n",
    "\n",
    "# Joblib\n",
    "from joblib import dump, load\n",
    "\n",
    "# feature_engine\n",
    "from feature_engine.selection import DropFeatures, DropConstantFeatures, DropDuplicateFeatures"
   ]
  },
  {
   "cell_type": "code",
   "execution_count": 45,
   "metadata": {},
   "outputs": [],
   "source": [
    "# Read config.ini file\n",
    "config = configparser.ConfigParser()\n",
    "config.read('src/config.ini')\n",
    "\n",
    "os.chdir(config['PATH']['ROOT_DIR'])"
   ]
  },
  {
   "cell_type": "code",
   "execution_count": 46,
   "metadata": {},
   "outputs": [],
   "source": [
    "# Read data\n",
    "raw_train = pd.read_csv(config['PATH']['RAW_TRAIN_DATA'])\n",
    "raw_test = pd.read_csv(config['PATH']['RAW_TEST_DATA'])\n",
    "actuals = pd.read_csv(config['PATH']['ACTUALS'])\n",
    "\n",
    "# Read parameters\n",
    "SEED = config.getint('PARAMS', 'SEED')\n",
    "N_COMPONENTS = config.getint('PARAMS', 'N_COMPONENTS')"
   ]
  },
  {
   "attachments": {},
   "cell_type": "markdown",
   "metadata": {},
   "source": [
    "### Data exploration"
   ]
  },
  {
   "cell_type": "code",
   "execution_count": 47,
   "metadata": {},
   "outputs": [
    {
     "name": "stdout",
     "output_type": "stream",
     "text": [
      "Missing values in training set: 0\n",
      "Missing values in test set: 0\n",
      "Missing values in actuals: 0\n"
     ]
    }
   ],
   "source": [
    "# Check total missing values\n",
    "print(f\"Missing values in training set: {raw_train.isna().sum().sum()}\")\n",
    "print(f\"Missing values in test set: {raw_test.isna().sum().sum()}\")\n",
    "print(f\"Missing values in actuals: {actuals.isna().sum().sum()}\")"
   ]
  },
  {
   "attachments": {},
   "cell_type": "markdown",
   "metadata": {},
   "source": [
    "### Preprocessing"
   ]
  },
  {
   "cell_type": "code",
   "execution_count": 120,
   "metadata": {},
   "outputs": [],
   "source": [
    "# Transform data to accesible format and add actuals\n",
    "train = transform_data(raw_train)\n",
    "train = add_actuals(train, actuals)\n",
    "test = transform_data(raw_test)\n",
    "test = add_actuals(test, actuals)\n",
    "\n",
    "# get target variable\n",
    "y_train = train[\"cancer\"]\n",
    "y_test = test[\"cancer\"]\n",
    "\n",
    "# Data with 80/20 split\n",
    "full_df = pd.concat([train, test])\n",
    "train80, test20 = train_test_split(full_df, test_size=0.2, random_state=SEED)\n",
    "\n",
    "# Get target for 80/20 split\n",
    "y_train_80, y_test_20 = train80['cancer'], test20['cancer']"
   ]
  },
  {
   "cell_type": "code",
   "execution_count": 87,
   "metadata": {},
   "outputs": [],
   "source": [
    "preprocessing_pipe = Pipeline([\n",
    "    # Step 0:\n",
    "        # Drop constant and duplicate features\n",
    "        ('drop_features', DropFeatures(features_to_drop=[\"cancer\"])),\n",
    "        ('drop_constant', DropConstantFeatures(tol=0.98)),\n",
    "    \n",
    "    # Step 1:\n",
    "        # Apply scaling to data as it is a requirement for the variance maximization procedure of PCA\n",
    "        ('scaler', StandardScaler()),\n",
    "])\n",
    "\n",
    "X_train = preprocessing_pipe.fit_transform(train)\n",
    "X_test = preprocessing_pipe.fit_transform(test)\n",
    "\n",
    "X_train_80 = preprocessing_pipe.fit_transform(train80)\n",
    "X_test_20 = preprocessing_pipe.fit_transform(test20)"
   ]
  },
  {
   "attachments": {},
   "cell_type": "markdown",
   "metadata": {},
   "source": [
    "### PCA and SparsePCA"
   ]
  },
  {
   "cell_type": "code",
   "execution_count": 121,
   "metadata": {},
   "outputs": [],
   "source": [
    "pca_pipe = Pipeline([\n",
    "    # Step 0:\n",
    "        # Drop constant and duplicate features\n",
    "        ('drop_features', DropFeatures(features_to_drop=[\"cancer\"])),\n",
    "        ('drop_constant', DropConstantFeatures(tol=0.98)),\n",
    "    \n",
    "    # Step 1:\n",
    "        # Apply scaling to data as it is a requirement for the variance maximization procedure of PCA\n",
    "        ('scaler', StandardScaler()),\n",
    "    # Step 2:\n",
    "        # Apply PCA\n",
    "        ('pca', PCA(n_components=N_COMPONENTS, random_state=SEED)),\n",
    "    # Step 3:\n",
    "        # Add feature names\n",
    "        ('add_features_names', AddFeatureNames(prefix=\"cmpnt_\"))\n",
    "])\n",
    "\n",
    "def get_spca_pipeline(n_comps = N_COMPONENTS):\n",
    "    return Pipeline([\n",
    "        # Step 0:\n",
    "            # Drop constant and duplicate features\n",
    "            ('drop_features', DropFeatures(features_to_drop=[\"cancer\"])),\n",
    "            ('drop_constant', DropConstantFeatures(tol=0.98)),\n",
    "        \n",
    "        # Step 1:\n",
    "            # Apply scaling to data as it is a requirement for the variance maximization procedure of PCA\n",
    "            ('scaler', StandardScaler()),\n",
    "        # Step 2:\n",
    "            # Apply SPCA\n",
    "            ('spca', SparsePCA(n_components=n_comps, random_state=SEED, alpha=1, max_iter=1000)),\n",
    "        # Step 3:\n",
    "            # Add feature names\n",
    "            ('add_features_names', AddFeatureNames(prefix=\"cmpnt_\"))\n",
    "    ])\n",
    "\n",
    "spca_pipe_30 = get_spca_pipeline()\n",
    "spca_pipe_50 = get_spca_pipeline(n_comps=50)"
   ]
  },
  {
   "cell_type": "code",
   "execution_count": 55,
   "metadata": {},
   "outputs": [
    {
     "data": {
      "text/plain": [
       "['./logs/pipelines/spca_pipe_30comp.lib']"
      ]
     },
     "execution_count": 55,
     "metadata": {},
     "output_type": "execute_result"
    }
   ],
   "source": [
    "# Fit and save SPCA pipelines\n",
    "# Normal data, spca, 30 features\n",
    "spca_pipe_30.fit(train)\n",
    "spca_filename = config['LOGGING']['PIPE_DIR'] + 'spca_pipe_' + str(N_COMPONENTS) +  'comp.lib'\n",
    "dump(spca_pipe30, spca_filename)"
   ]
  },
  {
   "cell_type": "code",
   "execution_count": 123,
   "metadata": {},
   "outputs": [],
   "source": [
    "spca_pipe_50.fit(train80)\n",
    "spca_filename = config['LOGGING']['PIPE_DIR'] + 'spca_pipe_8020_' + str(50) +  'comp.lib'\n",
    "dump(spca_pipe_50.fit(train80)\n",
    ", spca_filename)"
   ]
  },
  {
   "cell_type": "code",
   "execution_count": 56,
   "metadata": {},
   "outputs": [],
   "source": [
    "X_train_pca = pca_pipe.fit_transform(train)\n",
    "X_train_spca = spca_pipe.transform(train)\n",
    "\n",
    "X_test_pca = pca_pipe.transform(test)\n",
    "X_test_spca = spca_pipe.transform(test)"
   ]
  },
  {
   "attachments": {},
   "cell_type": "markdown",
   "metadata": {},
   "source": [
    "### Model fitting\n",
    "#### Implemented models\n",
    "- Logistic regression\n",
    "- LightGBM (Gradient Tree Boosting)\n",
    "- SVC (Support Vector Classifier)"
   ]
  },
  {
   "attachments": {},
   "cell_type": "markdown",
   "metadata": {},
   "source": [
    "#### Logistic Regression"
   ]
  },
  {
   "cell_type": "code",
   "execution_count": 61,
   "metadata": {},
   "outputs": [],
   "source": [
    "lr_pipe = Pipeline([\n",
    "        # Apply logistic regression\n",
    "        ('logistic_regression', LogisticRegression(random_state=SEED))\n",
    "])"
   ]
  },
  {
   "cell_type": "code",
   "execution_count": 62,
   "metadata": {},
   "outputs": [
    {
     "name": "stdout",
     "output_type": "stream",
     "text": [
      "Score with Logistic Regression and PCA:            0.8235294117647058\n",
      "Score with Logistic Regression and SPCA:           0.8529411764705882\n"
     ]
    }
   ],
   "source": [
    "# Fit and score PCA with Logistic Regression\n",
    "lr_pipe.fit(X_train_pca, y_train)\n",
    "print(f\"{'Score with Logistic Regression and PCA:':<50} {lr_pipe.score(X_test_pca, y_test)}\")\n",
    "\n",
    "# Fit and score SPCA with Logistic Regression\n",
    "lr_pipe.fit(X_train_spca, y_train)\n",
    "print(f\"{'Score with Logistic Regression and SPCA:':<50} {lr_pipe.score(X_test_spca, y_test)}\")"
   ]
  },
  {
   "attachments": {},
   "cell_type": "markdown",
   "metadata": {},
   "source": [
    "#### LightGBM (Gradient Tree Boosting)"
   ]
  },
  {
   "cell_type": "code",
   "execution_count": 64,
   "metadata": {},
   "outputs": [],
   "source": [
    "lgbm_pipe = Pipeline([\n",
    "    # Step 4:\n",
    "        # Apply LGBM\n",
    "        ('lgbm_classifier', LGBMClassifier(random_state=SEED))\n",
    "\n",
    "])"
   ]
  },
  {
   "cell_type": "code",
   "execution_count": 65,
   "metadata": {},
   "outputs": [
    {
     "name": "stdout",
     "output_type": "stream",
     "text": [
      "Score with LGBM and PCA:                           0.7058823529411765\n",
      "Score with LGBM and SPCA:                          0.8529411764705882\n"
     ]
    }
   ],
   "source": [
    "# Fit and score PCA with Logistic Regression\n",
    "lgbm_pipe.fit(X_train_pca, y_train)\n",
    "print(f\"{'Score with LGBM and PCA:':<50} {lr_pipe.score(X_test_pca, y_test)}\")\n",
    "\n",
    "# Fit and score SPCA with Logistic Regression\n",
    "lgbm_pipe.fit(X_train_spca, y_train)\n",
    "print(f\"{'Score with LGBM and SPCA:':<50} {lr_pipe.score(X_test_spca, y_test)}\")"
   ]
  },
  {
   "cell_type": "code",
   "execution_count": 93,
   "metadata": {},
   "outputs": [],
   "source": [
    "def objective(trial):\n",
    "    boost_type = trial.suggest_categorical(\"boosting_type\", [\"gbdt\", \"dart\"])\n",
    "    dataset = trial.suggest_categorical(\"data\", [\"spca\", \"pca\"])\n",
    "    if dataset == 'spca':\n",
    "        data_cur = X_train_spca\n",
    "    else:\n",
    "        data_cur = X_train_pca\n",
    "\n",
    "    n_leaves = trial.suggest_int('num_leaves', 3, 40)\n",
    "    n_est = trial.suggest_int('n_estimators', 30, 400)\n",
    "    max_d = trial.suggest_int('max_depth', 2, 50)\n",
    "\n",
    "    clf = LGBMClassifier(random_state=SEED,\n",
    "                        boosting_type = boost_type, \n",
    "                        num_leaves = n_leaves,\n",
    "                        n_estimators = n_est,\n",
    "                        max_depth = max_d)\n",
    "\n",
    "    score = cross_val_score(clf, data_cur, y_train, n_jobs = -1, cv = 3)\n",
    "    f1 = score.mean()\n",
    "    return f1"
   ]
  },
  {
   "cell_type": "code",
   "execution_count": 94,
   "metadata": {},
   "outputs": [
    {
     "name": "stderr",
     "output_type": "stream",
     "text": [
      "\u001b[32m[I 2023-01-17 14:29:49,796]\u001b[0m A new study created in memory with name: no-name-3048374c-691e-44bf-b5c5-d72bcd8b1231\u001b[0m\n",
      "\u001b[32m[I 2023-01-17 14:29:49,818]\u001b[0m Trial 0 finished with value: 0.7115384615384616 and parameters: {'boosting_type': 'dart', 'data': 'pca', 'num_leaves': 5, 'n_estimators': 309, 'max_depth': 34}. Best is trial 0 with value: 0.7115384615384616.\u001b[0m\n",
      "\u001b[32m[I 2023-01-17 14:29:49,835]\u001b[0m Trial 1 finished with value: 0.7115384615384616 and parameters: {'boosting_type': 'dart', 'data': 'pca', 'num_leaves': 38, 'n_estimators': 167, 'max_depth': 46}. Best is trial 0 with value: 0.7115384615384616.\u001b[0m\n",
      "\u001b[32m[I 2023-01-17 14:29:49,850]\u001b[0m Trial 2 finished with value: 0.7115384615384616 and parameters: {'boosting_type': 'dart', 'data': 'spca', 'num_leaves': 6, 'n_estimators': 68, 'max_depth': 48}. Best is trial 0 with value: 0.7115384615384616.\u001b[0m\n",
      "\u001b[32m[I 2023-01-17 14:29:49,866]\u001b[0m Trial 3 finished with value: 0.7115384615384616 and parameters: {'boosting_type': 'gbdt', 'data': 'spca', 'num_leaves': 18, 'n_estimators': 35, 'max_depth': 48}. Best is trial 0 with value: 0.7115384615384616.\u001b[0m\n",
      "\u001b[32m[I 2023-01-17 14:29:49,882]\u001b[0m Trial 4 finished with value: 0.7115384615384616 and parameters: {'boosting_type': 'dart', 'data': 'pca', 'num_leaves': 33, 'n_estimators': 295, 'max_depth': 39}. Best is trial 0 with value: 0.7115384615384616.\u001b[0m\n",
      "\u001b[32m[I 2023-01-17 14:29:49,900]\u001b[0m Trial 5 finished with value: 0.7115384615384616 and parameters: {'boosting_type': 'gbdt', 'data': 'pca', 'num_leaves': 24, 'n_estimators': 317, 'max_depth': 24}. Best is trial 0 with value: 0.7115384615384616.\u001b[0m\n",
      "\u001b[32m[I 2023-01-17 14:29:49,920]\u001b[0m Trial 6 finished with value: 0.7115384615384616 and parameters: {'boosting_type': 'gbdt', 'data': 'pca', 'num_leaves': 23, 'n_estimators': 30, 'max_depth': 31}. Best is trial 0 with value: 0.7115384615384616.\u001b[0m\n",
      "\u001b[32m[I 2023-01-17 14:29:49,935]\u001b[0m Trial 7 finished with value: 0.7115384615384616 and parameters: {'boosting_type': 'gbdt', 'data': 'pca', 'num_leaves': 28, 'n_estimators': 60, 'max_depth': 37}. Best is trial 0 with value: 0.7115384615384616.\u001b[0m\n",
      "\u001b[32m[I 2023-01-17 14:29:49,955]\u001b[0m Trial 8 finished with value: 0.7115384615384616 and parameters: {'boosting_type': 'dart', 'data': 'pca', 'num_leaves': 33, 'n_estimators': 133, 'max_depth': 2}. Best is trial 0 with value: 0.7115384615384616.\u001b[0m\n",
      "\u001b[32m[I 2023-01-17 14:29:49,970]\u001b[0m Trial 9 finished with value: 0.7115384615384616 and parameters: {'boosting_type': 'gbdt', 'data': 'spca', 'num_leaves': 34, 'n_estimators': 38, 'max_depth': 12}. Best is trial 0 with value: 0.7115384615384616.\u001b[0m\n",
      "\u001b[32m[I 2023-01-17 14:29:50,001]\u001b[0m Trial 10 finished with value: 0.7115384615384616 and parameters: {'boosting_type': 'dart', 'data': 'pca', 'num_leaves': 4, 'n_estimators': 394, 'max_depth': 22}. Best is trial 0 with value: 0.7115384615384616.\u001b[0m\n",
      "\u001b[32m[I 2023-01-17 14:29:50,026]\u001b[0m Trial 11 finished with value: 0.7115384615384616 and parameters: {'boosting_type': 'dart', 'data': 'pca', 'num_leaves': 13, 'n_estimators': 204, 'max_depth': 41}. Best is trial 0 with value: 0.7115384615384616.\u001b[0m\n",
      "\u001b[32m[I 2023-01-17 14:29:50,053]\u001b[0m Trial 12 finished with value: 0.7115384615384616 and parameters: {'boosting_type': 'dart', 'data': 'pca', 'num_leaves': 39, 'n_estimators': 207, 'max_depth': 32}. Best is trial 0 with value: 0.7115384615384616.\u001b[0m\n",
      "\u001b[32m[I 2023-01-17 14:29:50,077]\u001b[0m Trial 13 finished with value: 0.7115384615384616 and parameters: {'boosting_type': 'dart', 'data': 'pca', 'num_leaves': 13, 'n_estimators': 265, 'max_depth': 44}. Best is trial 0 with value: 0.7115384615384616.\u001b[0m\n",
      "\u001b[32m[I 2023-01-17 14:29:50,097]\u001b[0m Trial 14 finished with value: 0.7115384615384616 and parameters: {'boosting_type': 'dart', 'data': 'pca', 'num_leaves': 11, 'n_estimators': 148, 'max_depth': 32}. Best is trial 0 with value: 0.7115384615384616.\u001b[0m\n",
      "\u001b[32m[I 2023-01-17 14:29:50,123]\u001b[0m Trial 15 finished with value: 0.7115384615384616 and parameters: {'boosting_type': 'dart', 'data': 'spca', 'num_leaves': 18, 'n_estimators': 376, 'max_depth': 15}. Best is trial 0 with value: 0.7115384615384616.\u001b[0m\n",
      "\u001b[32m[I 2023-01-17 14:29:50,154]\u001b[0m Trial 16 finished with value: 0.7115384615384616 and parameters: {'boosting_type': 'dart', 'data': 'pca', 'num_leaves': 39, 'n_estimators': 259, 'max_depth': 50}. Best is trial 0 with value: 0.7115384615384616.\u001b[0m\n",
      "\u001b[32m[I 2023-01-17 14:29:50,174]\u001b[0m Trial 17 finished with value: 0.7115384615384616 and parameters: {'boosting_type': 'dart', 'data': 'pca', 'num_leaves': 9, 'n_estimators': 117, 'max_depth': 31}. Best is trial 0 with value: 0.7115384615384616.\u001b[0m\n",
      "\u001b[32m[I 2023-01-17 14:29:50,199]\u001b[0m Trial 18 finished with value: 0.7115384615384616 and parameters: {'boosting_type': 'dart', 'data': 'spca', 'num_leaves': 16, 'n_estimators': 396, 'max_depth': 17}. Best is trial 0 with value: 0.7115384615384616.\u001b[0m\n",
      "\u001b[32m[I 2023-01-17 14:29:50,222]\u001b[0m Trial 19 finished with value: 0.7115384615384616 and parameters: {'boosting_type': 'dart', 'data': 'pca', 'num_leaves': 28, 'n_estimators': 254, 'max_depth': 37}. Best is trial 0 with value: 0.7115384615384616.\u001b[0m\n",
      "\u001b[32m[I 2023-01-17 14:29:50,250]\u001b[0m Trial 20 finished with value: 0.7115384615384616 and parameters: {'boosting_type': 'dart', 'data': 'pca', 'num_leaves': 8, 'n_estimators': 342, 'max_depth': 30}. Best is trial 0 with value: 0.7115384615384616.\u001b[0m\n",
      "\u001b[32m[I 2023-01-17 14:29:50,272]\u001b[0m Trial 21 finished with value: 0.7115384615384616 and parameters: {'boosting_type': 'dart', 'data': 'spca', 'num_leaves': 3, 'n_estimators': 353, 'max_depth': 18}. Best is trial 0 with value: 0.7115384615384616.\u001b[0m\n",
      "\u001b[32m[I 2023-01-17 14:29:50,295]\u001b[0m Trial 22 finished with value: 0.7115384615384616 and parameters: {'boosting_type': 'dart', 'data': 'spca', 'num_leaves': 27, 'n_estimators': 251, 'max_depth': 9}. Best is trial 0 with value: 0.7115384615384616.\u001b[0m\n",
      "\u001b[32m[I 2023-01-17 14:29:50,321]\u001b[0m Trial 23 finished with value: 0.7115384615384616 and parameters: {'boosting_type': 'dart', 'data': 'pca', 'num_leaves': 7, 'n_estimators': 325, 'max_depth': 35}. Best is trial 0 with value: 0.7115384615384616.\u001b[0m\n",
      "\u001b[32m[I 2023-01-17 14:29:50,343]\u001b[0m Trial 24 finished with value: 0.7115384615384616 and parameters: {'boosting_type': 'dart', 'data': 'spca', 'num_leaves': 4, 'n_estimators': 359, 'max_depth': 27}. Best is trial 0 with value: 0.7115384615384616.\u001b[0m\n",
      "\u001b[32m[I 2023-01-17 14:29:50,370]\u001b[0m Trial 25 finished with value: 0.7115384615384616 and parameters: {'boosting_type': 'dart', 'data': 'spca', 'num_leaves': 26, 'n_estimators': 293, 'max_depth': 5}. Best is trial 0 with value: 0.7115384615384616.\u001b[0m\n",
      "\u001b[32m[I 2023-01-17 14:29:50,397]\u001b[0m Trial 26 finished with value: 0.7115384615384616 and parameters: {'boosting_type': 'gbdt', 'data': 'spca', 'num_leaves': 20, 'n_estimators': 317, 'max_depth': 10}. Best is trial 0 with value: 0.7115384615384616.\u001b[0m\n",
      "\u001b[32m[I 2023-01-17 14:29:50,424]\u001b[0m Trial 27 finished with value: 0.7115384615384616 and parameters: {'boosting_type': 'dart', 'data': 'spca', 'num_leaves': 6, 'n_estimators': 355, 'max_depth': 26}. Best is trial 0 with value: 0.7115384615384616.\u001b[0m\n",
      "\u001b[32m[I 2023-01-17 14:29:50,453]\u001b[0m Trial 28 finished with value: 0.7115384615384616 and parameters: {'boosting_type': 'dart', 'data': 'spca', 'num_leaves': 15, 'n_estimators': 280, 'max_depth': 4}. Best is trial 0 with value: 0.7115384615384616.\u001b[0m\n",
      "\u001b[32m[I 2023-01-17 14:29:50,475]\u001b[0m Trial 29 finished with value: 0.7115384615384616 and parameters: {'boosting_type': 'gbdt', 'data': 'spca', 'num_leaves': 21, 'n_estimators': 300, 'max_depth': 7}. Best is trial 0 with value: 0.7115384615384616.\u001b[0m\n",
      "\u001b[32m[I 2023-01-17 14:29:50,498]\u001b[0m Trial 30 finished with value: 0.7115384615384616 and parameters: {'boosting_type': 'gbdt', 'data': 'spca', 'num_leaves': 10, 'n_estimators': 229, 'max_depth': 21}. Best is trial 0 with value: 0.7115384615384616.\u001b[0m\n",
      "\u001b[32m[I 2023-01-17 14:29:50,522]\u001b[0m Trial 31 finished with value: 0.7115384615384616 and parameters: {'boosting_type': 'gbdt', 'data': 'spca', 'num_leaves': 15, 'n_estimators': 334, 'max_depth': 11}. Best is trial 0 with value: 0.7115384615384616.\u001b[0m\n",
      "\u001b[32m[I 2023-01-17 14:29:50,544]\u001b[0m Trial 32 finished with value: 0.7115384615384616 and parameters: {'boosting_type': 'gbdt', 'data': 'spca', 'num_leaves': 6, 'n_estimators': 293, 'max_depth': 6}. Best is trial 0 with value: 0.7115384615384616.\u001b[0m\n",
      "\u001b[32m[I 2023-01-17 14:29:50,565]\u001b[0m Trial 33 finished with value: 0.7115384615384616 and parameters: {'boosting_type': 'gbdt', 'data': 'spca', 'num_leaves': 10, 'n_estimators': 223, 'max_depth': 2}. Best is trial 0 with value: 0.7115384615384616.\u001b[0m\n",
      "\u001b[32m[I 2023-01-17 14:29:50,587]\u001b[0m Trial 34 finished with value: 0.7115384615384616 and parameters: {'boosting_type': 'gbdt', 'data': 'spca', 'num_leaves': 20, 'n_estimators': 181, 'max_depth': 12}. Best is trial 0 with value: 0.7115384615384616.\u001b[0m\n",
      "\u001b[32m[I 2023-01-17 14:29:50,610]\u001b[0m Trial 35 finished with value: 0.7115384615384616 and parameters: {'boosting_type': 'dart', 'data': 'pca', 'num_leaves': 29, 'n_estimators': 349, 'max_depth': 42}. Best is trial 0 with value: 0.7115384615384616.\u001b[0m\n",
      "\u001b[32m[I 2023-01-17 14:29:50,635]\u001b[0m Trial 36 finished with value: 0.7115384615384616 and parameters: {'boosting_type': 'dart', 'data': 'pca', 'num_leaves': 3, 'n_estimators': 370, 'max_depth': 17}. Best is trial 0 with value: 0.7115384615384616.\u001b[0m\n",
      "\u001b[32m[I 2023-01-17 14:29:50,658]\u001b[0m Trial 37 finished with value: 0.7115384615384616 and parameters: {'boosting_type': 'dart', 'data': 'spca', 'num_leaves': 8, 'n_estimators': 338, 'max_depth': 19}. Best is trial 0 with value: 0.7115384615384616.\u001b[0m\n",
      "\u001b[32m[I 2023-01-17 14:29:50,683]\u001b[0m Trial 38 finished with value: 0.7115384615384616 and parameters: {'boosting_type': 'dart', 'data': 'pca', 'num_leaves': 6, 'n_estimators': 318, 'max_depth': 34}. Best is trial 0 with value: 0.7115384615384616.\u001b[0m\n",
      "\u001b[32m[I 2023-01-17 14:29:50,709]\u001b[0m Trial 39 finished with value: 0.7115384615384616 and parameters: {'boosting_type': 'dart', 'data': 'pca', 'num_leaves': 3, 'n_estimators': 277, 'max_depth': 26}. Best is trial 0 with value: 0.7115384615384616.\u001b[0m\n",
      "\u001b[32m[I 2023-01-17 14:29:50,741]\u001b[0m Trial 40 finished with value: 0.7115384615384616 and parameters: {'boosting_type': 'dart', 'data': 'spca', 'num_leaves': 36, 'n_estimators': 241, 'max_depth': 28}. Best is trial 0 with value: 0.7115384615384616.\u001b[0m\n",
      "\u001b[32m[I 2023-01-17 14:29:50,775]\u001b[0m Trial 41 finished with value: 0.7115384615384616 and parameters: {'boosting_type': 'dart', 'data': 'spca', 'num_leaves': 25, 'n_estimators': 320, 'max_depth': 36}. Best is trial 0 with value: 0.7115384615384616.\u001b[0m\n",
      "\u001b[32m[I 2023-01-17 14:29:50,797]\u001b[0m Trial 42 finished with value: 0.7115384615384616 and parameters: {'boosting_type': 'gbdt', 'data': 'spca', 'num_leaves': 31, 'n_estimators': 304, 'max_depth': 34}. Best is trial 0 with value: 0.7115384615384616.\u001b[0m\n",
      "\u001b[32m[I 2023-01-17 14:29:50,819]\u001b[0m Trial 43 finished with value: 0.7115384615384616 and parameters: {'boosting_type': 'gbdt', 'data': 'spca', 'num_leaves': 23, 'n_estimators': 381, 'max_depth': 23}. Best is trial 0 with value: 0.7115384615384616.\u001b[0m\n",
      "\u001b[32m[I 2023-01-17 14:29:50,842]\u001b[0m Trial 44 finished with value: 0.7115384615384616 and parameters: {'boosting_type': 'dart', 'data': 'spca', 'num_leaves': 5, 'n_estimators': 360, 'max_depth': 26}. Best is trial 0 with value: 0.7115384615384616.\u001b[0m\n",
      "\u001b[32m[I 2023-01-17 14:29:50,883]\u001b[0m Trial 45 finished with value: 0.7115384615384616 and parameters: {'boosting_type': 'dart', 'data': 'spca', 'num_leaves': 12, 'n_estimators': 307, 'max_depth': 14}. Best is trial 0 with value: 0.7115384615384616.\u001b[0m\n",
      "\u001b[32m[I 2023-01-17 14:29:50,906]\u001b[0m Trial 46 finished with value: 0.7115384615384616 and parameters: {'boosting_type': 'gbdt', 'data': 'spca', 'num_leaves': 18, 'n_estimators': 282, 'max_depth': 4}. Best is trial 0 with value: 0.7115384615384616.\u001b[0m\n",
      "\u001b[32m[I 2023-01-17 14:29:50,931]\u001b[0m Trial 47 finished with value: 0.7115384615384616 and parameters: {'boosting_type': 'dart', 'data': 'spca', 'num_leaves': 25, 'n_estimators': 277, 'max_depth': 8}. Best is trial 0 with value: 0.7115384615384616.\u001b[0m\n",
      "\u001b[32m[I 2023-01-17 14:29:50,953]\u001b[0m Trial 48 finished with value: 0.7115384615384616 and parameters: {'boosting_type': 'gbdt', 'data': 'spca', 'num_leaves': 21, 'n_estimators': 306, 'max_depth': 10}. Best is trial 0 with value: 0.7115384615384616.\u001b[0m\n",
      "\u001b[32m[I 2023-01-17 14:29:50,977]\u001b[0m Trial 49 finished with value: 0.7115384615384616 and parameters: {'boosting_type': 'gbdt', 'data': 'spca', 'num_leaves': 19, 'n_estimators': 189, 'max_depth': 7}. Best is trial 0 with value: 0.7115384615384616.\u001b[0m\n",
      "\u001b[32m[I 2023-01-17 14:29:51,001]\u001b[0m Trial 50 finished with value: 0.7115384615384616 and parameters: {'boosting_type': 'gbdt', 'data': 'spca', 'num_leaves': 15, 'n_estimators': 238, 'max_depth': 21}. Best is trial 0 with value: 0.7115384615384616.\u001b[0m\n",
      "\u001b[32m[I 2023-01-17 14:29:51,024]\u001b[0m Trial 51 finished with value: 0.7115384615384616 and parameters: {'boosting_type': 'gbdt', 'data': 'spca', 'num_leaves': 16, 'n_estimators': 332, 'max_depth': 3}. Best is trial 0 with value: 0.7115384615384616.\u001b[0m\n",
      "\u001b[32m[I 2023-01-17 14:29:51,050]\u001b[0m Trial 52 finished with value: 0.7115384615384616 and parameters: {'boosting_type': 'gbdt', 'data': 'spca', 'num_leaves': 14, 'n_estimators': 290, 'max_depth': 6}. Best is trial 0 with value: 0.7115384615384616.\u001b[0m\n",
      "\u001b[32m[I 2023-01-17 14:29:51,073]\u001b[0m Trial 53 finished with value: 0.7115384615384616 and parameters: {'boosting_type': 'gbdt', 'data': 'spca', 'num_leaves': 11, 'n_estimators': 272, 'max_depth': 12}. Best is trial 0 with value: 0.7115384615384616.\u001b[0m\n",
      "\u001b[32m[I 2023-01-17 14:29:51,097]\u001b[0m Trial 54 finished with value: 0.7115384615384616 and parameters: {'boosting_type': 'gbdt', 'data': 'spca', 'num_leaves': 10, 'n_estimators': 213, 'max_depth': 2}. Best is trial 0 with value: 0.7115384615384616.\u001b[0m\n",
      "\u001b[32m[I 2023-01-17 14:29:51,119]\u001b[0m Trial 55 finished with value: 0.7115384615384616 and parameters: {'boosting_type': 'gbdt', 'data': 'spca', 'num_leaves': 10, 'n_estimators': 227, 'max_depth': 6}. Best is trial 0 with value: 0.7115384615384616.\u001b[0m\n",
      "\u001b[32m[I 2023-01-17 14:29:51,142]\u001b[0m Trial 56 finished with value: 0.7115384615384616 and parameters: {'boosting_type': 'gbdt', 'data': 'spca', 'num_leaves': 8, 'n_estimators': 176, 'max_depth': 14}. Best is trial 0 with value: 0.7115384615384616.\u001b[0m\n",
      "\u001b[32m[I 2023-01-17 14:29:51,164]\u001b[0m Trial 57 finished with value: 0.7115384615384616 and parameters: {'boosting_type': 'gbdt', 'data': 'spca', 'num_leaves': 13, 'n_estimators': 130, 'max_depth': 12}. Best is trial 0 with value: 0.7115384615384616.\u001b[0m\n",
      "\u001b[32m[I 2023-01-17 14:29:51,187]\u001b[0m Trial 58 finished with value: 0.7115384615384616 and parameters: {'boosting_type': 'gbdt', 'data': 'pca', 'num_leaves': 5, 'n_estimators': 84, 'max_depth': 43}. Best is trial 0 with value: 0.7115384615384616.\u001b[0m\n",
      "\u001b[32m[I 2023-01-17 14:29:51,213]\u001b[0m Trial 59 finished with value: 0.7115384615384616 and parameters: {'boosting_type': 'gbdt', 'data': 'pca', 'num_leaves': 31, 'n_estimators': 198, 'max_depth': 42}. Best is trial 0 with value: 0.7115384615384616.\u001b[0m\n",
      "\u001b[32m[I 2023-01-17 14:29:51,238]\u001b[0m Trial 60 finished with value: 0.7115384615384616 and parameters: {'boosting_type': 'gbdt', 'data': 'pca', 'num_leaves': 30, 'n_estimators': 159, 'max_depth': 40}. Best is trial 0 with value: 0.7115384615384616.\u001b[0m\n",
      "\u001b[32m[I 2023-01-17 14:29:51,263]\u001b[0m Trial 61 finished with value: 0.7115384615384616 and parameters: {'boosting_type': 'dart', 'data': 'pca', 'num_leaves': 8, 'n_estimators': 368, 'max_depth': 18}. Best is trial 0 with value: 0.7115384615384616.\u001b[0m\n",
      "\u001b[32m[I 2023-01-17 14:29:51,286]\u001b[0m Trial 62 finished with value: 0.7115384615384616 and parameters: {'boosting_type': 'dart', 'data': 'pca', 'num_leaves': 7, 'n_estimators': 381, 'max_depth': 46}. Best is trial 0 with value: 0.7115384615384616.\u001b[0m\n",
      "\u001b[32m[I 2023-01-17 14:29:51,312]\u001b[0m Trial 63 finished with value: 0.7115384615384616 and parameters: {'boosting_type': 'dart', 'data': 'pca', 'num_leaves': 4, 'n_estimators': 348, 'max_depth': 20}. Best is trial 0 with value: 0.7115384615384616.\u001b[0m\n",
      "\u001b[32m[I 2023-01-17 14:29:51,336]\u001b[0m Trial 64 finished with value: 0.7115384615384616 and parameters: {'boosting_type': 'dart', 'data': 'pca', 'num_leaves': 3, 'n_estimators': 345, 'max_depth': 39}. Best is trial 0 with value: 0.7115384615384616.\u001b[0m\n",
      "\u001b[32m[I 2023-01-17 14:29:51,359]\u001b[0m Trial 65 finished with value: 0.7115384615384616 and parameters: {'boosting_type': 'dart', 'data': 'pca', 'num_leaves': 3, 'n_estimators': 335, 'max_depth': 29}. Best is trial 0 with value: 0.7115384615384616.\u001b[0m\n",
      "\u001b[32m[I 2023-01-17 14:29:51,386]\u001b[0m Trial 66 finished with value: 0.7115384615384616 and parameters: {'boosting_type': 'dart', 'data': 'pca', 'num_leaves': 37, 'n_estimators': 391, 'max_depth': 33}. Best is trial 0 with value: 0.7115384615384616.\u001b[0m\n",
      "\u001b[32m[I 2023-01-17 14:29:51,411]\u001b[0m Trial 67 finished with value: 0.7115384615384616 and parameters: {'boosting_type': 'dart', 'data': 'pca', 'num_leaves': 36, 'n_estimators': 369, 'max_depth': 28}. Best is trial 0 with value: 0.7115384615384616.\u001b[0m\n",
      "\u001b[32m[I 2023-01-17 14:29:51,443]\u001b[0m Trial 68 finished with value: 0.7115384615384616 and parameters: {'boosting_type': 'dart', 'data': 'pca', 'num_leaves': 5, 'n_estimators': 317, 'max_depth': 37}. Best is trial 0 with value: 0.7115384615384616.\u001b[0m\n",
      "\u001b[32m[I 2023-01-17 14:29:51,467]\u001b[0m Trial 69 finished with value: 0.7115384615384616 and parameters: {'boosting_type': 'dart', 'data': 'pca', 'num_leaves': 35, 'n_estimators': 263, 'max_depth': 25}. Best is trial 0 with value: 0.7115384615384616.\u001b[0m\n",
      "\u001b[32m[I 2023-01-17 14:29:51,489]\u001b[0m Trial 70 finished with value: 0.7115384615384616 and parameters: {'boosting_type': 'dart', 'data': 'pca', 'num_leaves': 32, 'n_estimators': 248, 'max_depth': 34}. Best is trial 0 with value: 0.7115384615384616.\u001b[0m\n",
      "\u001b[32m[I 2023-01-17 14:29:51,511]\u001b[0m Trial 71 finished with value: 0.7115384615384616 and parameters: {'boosting_type': 'gbdt', 'data': 'spca', 'num_leaves': 18, 'n_estimators': 304, 'max_depth': 8}. Best is trial 0 with value: 0.7115384615384616.\u001b[0m\n",
      "\u001b[32m[I 2023-01-17 14:29:51,534]\u001b[0m Trial 72 finished with value: 0.7115384615384616 and parameters: {'boosting_type': 'gbdt', 'data': 'spca', 'num_leaves': 17, 'n_estimators': 281, 'max_depth': 4}. Best is trial 0 with value: 0.7115384615384616.\u001b[0m\n",
      "\u001b[32m[I 2023-01-17 14:29:51,556]\u001b[0m Trial 73 finished with value: 0.7115384615384616 and parameters: {'boosting_type': 'gbdt', 'data': 'spca', 'num_leaves': 22, 'n_estimators': 288, 'max_depth': 9}. Best is trial 0 with value: 0.7115384615384616.\u001b[0m\n",
      "\u001b[32m[I 2023-01-17 14:29:51,580]\u001b[0m Trial 74 finished with value: 0.7115384615384616 and parameters: {'boosting_type': 'gbdt', 'data': 'spca', 'num_leaves': 14, 'n_estimators': 268, 'max_depth': 8}. Best is trial 0 with value: 0.7115384615384616.\u001b[0m\n",
      "\u001b[32m[I 2023-01-17 14:29:51,602]\u001b[0m Trial 75 finished with value: 0.7115384615384616 and parameters: {'boosting_type': 'gbdt', 'data': 'spca', 'num_leaves': 19, 'n_estimators': 240, 'max_depth': 11}. Best is trial 0 with value: 0.7115384615384616.\u001b[0m\n",
      "\u001b[32m[I 2023-01-17 14:29:51,623]\u001b[0m Trial 76 finished with value: 0.7115384615384616 and parameters: {'boosting_type': 'gbdt', 'data': 'spca', 'num_leaves': 15, 'n_estimators': 212, 'max_depth': 2}. Best is trial 0 with value: 0.7115384615384616.\u001b[0m\n",
      "\u001b[32m[I 2023-01-17 14:29:51,644]\u001b[0m Trial 77 finished with value: 0.7115384615384616 and parameters: {'boosting_type': 'gbdt', 'data': 'spca', 'num_leaves': 12, 'n_estimators': 193, 'max_depth': 3}. Best is trial 0 with value: 0.7115384615384616.\u001b[0m\n",
      "\u001b[32m[I 2023-01-17 14:29:51,669]\u001b[0m Trial 78 finished with value: 0.7115384615384616 and parameters: {'boosting_type': 'gbdt', 'data': 'spca', 'num_leaves': 10, 'n_estimators': 223, 'max_depth': 6}. Best is trial 0 with value: 0.7115384615384616.\u001b[0m\n",
      "\u001b[32m[I 2023-01-17 14:29:51,691]\u001b[0m Trial 79 finished with value: 0.7115384615384616 and parameters: {'boosting_type': 'gbdt', 'data': 'spca', 'num_leaves': 11, 'n_estimators': 176, 'max_depth': 15}. Best is trial 0 with value: 0.7115384615384616.\u001b[0m\n",
      "\u001b[32m[I 2023-01-17 14:29:51,715]\u001b[0m Trial 80 finished with value: 0.7115384615384616 and parameters: {'boosting_type': 'gbdt', 'data': 'spca', 'num_leaves': 13, 'n_estimators': 140, 'max_depth': 13}. Best is trial 0 with value: 0.7115384615384616.\u001b[0m\n",
      "\u001b[32m[I 2023-01-17 14:29:51,736]\u001b[0m Trial 81 finished with value: 0.7115384615384616 and parameters: {'boosting_type': 'gbdt', 'data': 'spca', 'num_leaves': 9, 'n_estimators': 106, 'max_depth': 5}. Best is trial 0 with value: 0.7115384615384616.\u001b[0m\n",
      "\u001b[32m[I 2023-01-17 14:29:51,758]\u001b[0m Trial 82 finished with value: 0.7115384615384616 and parameters: {'boosting_type': 'gbdt', 'data': 'pca', 'num_leaves': 9, 'n_estimators': 81, 'max_depth': 43}. Best is trial 0 with value: 0.7115384615384616.\u001b[0m\n",
      "\u001b[32m[I 2023-01-17 14:29:51,783]\u001b[0m Trial 83 finished with value: 0.7115384615384616 and parameters: {'boosting_type': 'gbdt', 'data': 'spca', 'num_leaves': 7, 'n_estimators': 115, 'max_depth': 48}. Best is trial 0 with value: 0.7115384615384616.\u001b[0m\n",
      "\u001b[32m[I 2023-01-17 14:29:51,810]\u001b[0m Trial 84 finished with value: 0.7115384615384616 and parameters: {'boosting_type': 'gbdt', 'data': 'pca', 'num_leaves': 30, 'n_estimators': 163, 'max_depth': 40}. Best is trial 0 with value: 0.7115384615384616.\u001b[0m\n",
      "\u001b[32m[I 2023-01-17 14:29:51,833]\u001b[0m Trial 85 finished with value: 0.7115384615384616 and parameters: {'boosting_type': 'gbdt', 'data': 'pca', 'num_leaves': 33, 'n_estimators': 163, 'max_depth': 44}. Best is trial 0 with value: 0.7115384615384616.\u001b[0m\n",
      "\u001b[32m[I 2023-01-17 14:29:51,855]\u001b[0m Trial 86 finished with value: 0.7115384615384616 and parameters: {'boosting_type': 'gbdt', 'data': 'pca', 'num_leaves': 8, 'n_estimators': 132, 'max_depth': 39}. Best is trial 0 with value: 0.7115384615384616.\u001b[0m\n",
      "\u001b[32m[I 2023-01-17 14:29:51,880]\u001b[0m Trial 87 finished with value: 0.7115384615384616 and parameters: {'boosting_type': 'gbdt', 'data': 'pca', 'num_leaves': 7, 'n_estimators': 154, 'max_depth': 46}. Best is trial 0 with value: 0.7115384615384616.\u001b[0m\n",
      "\u001b[32m[I 2023-01-17 14:29:51,905]\u001b[0m Trial 88 finished with value: 0.7115384615384616 and parameters: {'boosting_type': 'dart', 'data': 'pca', 'num_leaves': 4, 'n_estimators': 67, 'max_depth': 46}. Best is trial 0 with value: 0.7115384615384616.\u001b[0m\n",
      "\u001b[32m[I 2023-01-17 14:29:51,927]\u001b[0m Trial 89 finished with value: 0.7115384615384616 and parameters: {'boosting_type': 'dart', 'data': 'pca', 'num_leaves': 5, 'n_estimators': 82, 'max_depth': 46}. Best is trial 0 with value: 0.7115384615384616.\u001b[0m\n",
      "\u001b[32m[I 2023-01-17 14:29:51,955]\u001b[0m Trial 90 finished with value: 0.7115384615384616 and parameters: {'boosting_type': 'dart', 'data': 'pca', 'num_leaves': 4, 'n_estimators': 41, 'max_depth': 50}. Best is trial 0 with value: 0.7115384615384616.\u001b[0m\n",
      "\u001b[32m[I 2023-01-17 14:29:51,984]\u001b[0m Trial 91 finished with value: 0.7115384615384616 and parameters: {'boosting_type': 'dart', 'data': 'pca', 'num_leaves': 3, 'n_estimators': 347, 'max_depth': 41}. Best is trial 0 with value: 0.7115384615384616.\u001b[0m\n",
      "\u001b[32m[I 2023-01-17 14:29:52,009]\u001b[0m Trial 92 finished with value: 0.7115384615384616 and parameters: {'boosting_type': 'dart', 'data': 'pca', 'num_leaves': 37, 'n_estimators': 386, 'max_depth': 39}. Best is trial 0 with value: 0.7115384615384616.\u001b[0m\n",
      "\u001b[32m[I 2023-01-17 14:29:52,039]\u001b[0m Trial 93 finished with value: 0.7115384615384616 and parameters: {'boosting_type': 'dart', 'data': 'pca', 'num_leaves': 6, 'n_estimators': 388, 'max_depth': 32}. Best is trial 0 with value: 0.7115384615384616.\u001b[0m\n",
      "\u001b[32m[I 2023-01-17 14:29:52,067]\u001b[0m Trial 94 finished with value: 0.7115384615384616 and parameters: {'boosting_type': 'dart', 'data': 'pca', 'num_leaves': 34, 'n_estimators': 369, 'max_depth': 30}. Best is trial 0 with value: 0.7115384615384616.\u001b[0m\n",
      "\u001b[32m[I 2023-01-17 14:29:52,092]\u001b[0m Trial 95 finished with value: 0.7115384615384616 and parameters: {'boosting_type': 'dart', 'data': 'pca', 'num_leaves': 40, 'n_estimators': 365, 'max_depth': 38}. Best is trial 0 with value: 0.7115384615384616.\u001b[0m\n",
      "\u001b[32m[I 2023-01-17 14:29:52,118]\u001b[0m Trial 96 finished with value: 0.7115384615384616 and parameters: {'boosting_type': 'dart', 'data': 'pca', 'num_leaves': 36, 'n_estimators': 377, 'max_depth': 28}. Best is trial 0 with value: 0.7115384615384616.\u001b[0m\n",
      "\u001b[32m[I 2023-01-17 14:29:52,143]\u001b[0m Trial 97 finished with value: 0.7115384615384616 and parameters: {'boosting_type': 'dart', 'data': 'pca', 'num_leaves': 37, 'n_estimators': 394, 'max_depth': 24}. Best is trial 0 with value: 0.7115384615384616.\u001b[0m\n",
      "\u001b[32m[I 2023-01-17 14:29:52,170]\u001b[0m Trial 98 finished with value: 0.7115384615384616 and parameters: {'boosting_type': 'dart', 'data': 'pca', 'num_leaves': 35, 'n_estimators': 325, 'max_depth': 35}. Best is trial 0 with value: 0.7115384615384616.\u001b[0m\n",
      "\u001b[32m[I 2023-01-17 14:29:52,194]\u001b[0m Trial 99 finished with value: 0.7115384615384616 and parameters: {'boosting_type': 'dart', 'data': 'pca', 'num_leaves': 38, 'n_estimators': 312, 'max_depth': 30}. Best is trial 0 with value: 0.7115384615384616.\u001b[0m\n"
     ]
    },
    {
     "name": "stdout",
     "output_type": "stream",
     "text": [
      "FrozenTrial(number=0, values=[0.7115384615384616], datetime_start=datetime.datetime(2023, 1, 17, 14, 29, 49, 798139), datetime_complete=datetime.datetime(2023, 1, 17, 14, 29, 49, 817139), params={'boosting_type': 'dart', 'data': 'pca', 'num_leaves': 5, 'n_estimators': 309, 'max_depth': 34}, distributions={'boosting_type': CategoricalDistribution(choices=('gbdt', 'dart')), 'data': CategoricalDistribution(choices=('spca', 'pca')), 'num_leaves': IntUniformDistribution(high=40, low=3, step=1), 'n_estimators': IntUniformDistribution(high=400, low=30, step=1), 'max_depth': IntUniformDistribution(high=50, low=2, step=1)}, user_attrs={}, system_attrs={}, intermediate_values={}, trial_id=0, state=TrialState.COMPLETE, value=None)\n"
     ]
    }
   ],
   "source": [
    "study = optuna.create_study(direction = 'maximize')\n",
    "study.optimize(objective, n_trials = 100)\n",
    "print(study.best_trial)"
   ]
  },
  {
   "cell_type": "code",
   "execution_count": null,
   "metadata": {},
   "outputs": [],
   "source": []
  }
 ],
 "metadata": {
  "kernelspec": {
   "display_name": ".venv",
   "language": "python",
   "name": "python3"
  },
  "language_info": {
   "codemirror_mode": {
    "name": "ipython",
    "version": 3
   },
   "file_extension": ".py",
   "mimetype": "text/x-python",
   "name": "python",
   "nbconvert_exporter": "python",
   "pygments_lexer": "ipython3",
   "version": "3.11.1"
  },
  "orig_nbformat": 4,
  "vscode": {
   "interpreter": {
    "hash": "798b358ac2319934761a0de4f13ee9d5cebfbe5f460487494742ce99d4b4f7bd"
   }
  }
 },
 "nbformat": 4,
 "nbformat_minor": 2
}
