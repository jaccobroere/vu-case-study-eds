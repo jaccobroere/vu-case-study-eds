{
 "cells": [
  {
   "attachments": {},
   "cell_type": "markdown",
   "metadata": {},
   "source": [
    "# VU Econometics and Data Science: Case Study\n",
    "```\n",
    "Author(s): Jacco Broere\n",
    "```\n",
    "\n",
    "\n",
    "### Setup\n",
    "- Setup config.ini file\n",
    "- Install necessary packages\n",
    "- Download and unpack data\n",
    "\n"
   ]
  },
  {
   "cell_type": "code",
   "execution_count": 57,
   "metadata": {},
   "outputs": [],
   "source": [
    "# import utility modules\n",
    "import pandas as pd\n",
    "import numpy as np\n",
    "import configparser\n",
    "import os\n",
    "\n",
    "# import sweetviz\n",
    "\n",
    "\n",
    "# import optuna\n",
    "import optuna\n",
    "optuna.logging.set_verbosity(optuna.logging.WARNING)\n",
    "\n",
    "# helper functions\n",
    "from helpers.helper_functions import transform_data, add_actuals\n",
    "from helpers.helper_classes import AddFeatureNames\n",
    "\n",
    "# sklearn\n",
    "from sklearn.decomposition import PCA, SparsePCA\n",
    "from sklearn.preprocessing import StandardScaler\n",
    "from sklearn.pipeline import Pipeline\n",
    "from sklearn.linear_model import LogisticRegression\n",
    "from sklearn.model_selection import cross_val_score, train_test_split\n",
    "from sklearn.metrics import confusion_matrix, classification_report, ConfusionMatrixDisplay\n",
    "\n",
    "# LightGBM\n",
    "from lightgbm import LGBMClassifier\n",
    "\n",
    "# Joblib\n",
    "from joblib import dump, load\n",
    "\n",
    "# feature_engine\n",
    "from feature_engine.selection import DropFeatures, DropConstantFeatures, DropDuplicateFeatures"
   ]
  },
  {
   "cell_type": "code",
   "execution_count": 7,
   "metadata": {},
   "outputs": [],
   "source": [
    "# Read config.ini file\n",
    "\n",
    "#TODO: make it work on first try\n",
    "config = configparser.ConfigParser()\n",
    "config.read('src/config.ini')\n",
    "\n",
    "os.chdir(config['PATH']['ROOT_DIR'])"
   ]
  },
  {
   "cell_type": "code",
   "execution_count": 8,
   "metadata": {},
   "outputs": [],
   "source": [
    "# Read data\n",
    "raw_train = pd.read_csv(config['PATH']['RAW_TRAIN_DATA'])\n",
    "raw_test = pd.read_csv(config['PATH']['RAW_TEST_DATA'])\n",
    "actuals = pd.read_csv(config['PATH']['ACTUALS'])\n",
    "\n",
    "# Read parameters\n",
    "SEED = config.getint('PARAMS', 'SEED')\n",
    "N_COMPONENTS = config.getint('PARAMS', 'N_COMPONENTS')"
   ]
  },
  {
   "attachments": {},
   "cell_type": "markdown",
   "metadata": {},
   "source": [
    "### Data exploration"
   ]
  },
  {
   "cell_type": "code",
   "execution_count": 9,
   "metadata": {},
   "outputs": [
    {
     "name": "stdout",
     "output_type": "stream",
     "text": [
      "Missing values in training set: 0\n",
      "Missing values in test set: 0\n",
      "Missing values in actuals: 0\n"
     ]
    }
   ],
   "source": [
    "# Check total missing values\n",
    "print(f\"Missing values in training set: {raw_train.isna().sum().sum()}\")\n",
    "print(f\"Missing values in test set: {raw_test.isna().sum().sum()}\")\n",
    "print(f\"Missing values in actuals: {actuals.isna().sum().sum()}\")"
   ]
  },
  {
   "attachments": {},
   "cell_type": "markdown",
   "metadata": {},
   "source": [
    "### Preprocessing"
   ]
  },
  {
   "cell_type": "code",
   "execution_count": 10,
   "metadata": {},
   "outputs": [],
   "source": [
    "# Transform data to accesible format and add actuals\n",
    "train = transform_data(raw_train)\n",
    "train = add_actuals(train, actuals)\n",
    "test = transform_data(raw_test)\n",
    "test = add_actuals(test, actuals)\n",
    "\n",
    "# get target variable\n",
    "y_train = train[\"cancer\"]\n",
    "y_test = test[\"cancer\"]\n",
    "\n",
    "# Data with 80/20 split\n",
    "full_df = pd.concat([train, test])\n",
    "train80, test20 = train_test_split(full_df, test_size=0.2, random_state=SEED)\n",
    "\n",
    "# Get target for 80/20 split\n",
    "y_train_80, y_test_20 = train80['cancer'], test20['cancer']"
   ]
  },
  {
   "cell_type": "code",
   "execution_count": 87,
   "metadata": {},
   "outputs": [],
   "source": [
    "preprocessing_pipe = Pipeline([\n",
    "    # Step 0:\n",
    "        # Drop constant and duplicate features\n",
    "        ('drop_features', DropFeatures(features_to_drop=[\"cancer\"])),\n",
    "        ('drop_constant', DropConstantFeatures(tol=0.98)),\n",
    "    \n",
    "    # Step 1:\n",
    "        # Apply scaling to data as it is a requirement for the variance maximization procedure of PCA\n",
    "        ('scaler', StandardScaler()),\n",
    "])\n",
    "\n",
    "X_train = preprocessing_pipe.fit_transform(train)\n",
    "X_test = preprocessing_pipe.fit_transform(test)\n",
    "\n",
    "X_train_80 = preprocessing_pipe.fit_transform(train80)\n",
    "X_test_20 = preprocessing_pipe.fit_transform(test20)"
   ]
  },
  {
   "attachments": {},
   "cell_type": "markdown",
   "metadata": {},
   "source": [
    "### PCA and SparsePCA"
   ]
  },
  {
   "cell_type": "code",
   "execution_count": 12,
   "metadata": {},
   "outputs": [],
   "source": [
    "pca_pipe = Pipeline([\n",
    "    # Step 0:\n",
    "        # Drop constant and duplicate features\n",
    "        ('drop_features', DropFeatures(features_to_drop=[\"cancer\"])),\n",
    "        ('drop_constant', DropConstantFeatures(tol=0.98)),\n",
    "    \n",
    "    # Step 1:\n",
    "        # Apply scaling to data as it is a requirement for the variance maximization procedure of PCA\n",
    "        ('scaler', StandardScaler()),\n",
    "    # Step 2:\n",
    "        # Apply PCA\n",
    "        ('pca', PCA(n_components=N_COMPONENTS, random_state=SEED)),\n",
    "    # Step 3:\n",
    "        # Add feature names\n",
    "        ('add_features_names', AddFeatureNames(prefix=\"cmpnt_\"))\n",
    "])\n",
    "\n",
    "def get_spca_pipeline(n_comps = N_COMPONENTS):\n",
    "    return Pipeline([\n",
    "        # Step 0:\n",
    "            # Drop constant and duplicate features\n",
    "            ('drop_features', DropFeatures(features_to_drop=[\"cancer\"])),\n",
    "            ('drop_constant', DropConstantFeatures(tol=0.98)),\n",
    "        \n",
    "        # Step 1:\n",
    "            # Apply scaling to data as it is a requirement for the variance maximization procedure of PCA\n",
    "            ('scaler', StandardScaler()),\n",
    "        # Step 2:\n",
    "            # Apply SPCA\n",
    "            ('spca', SparsePCA(n_components=n_comps, random_state=SEED, alpha=2, max_iter=1000)),\n",
    "        # Step 3:\n",
    "            # Add feature names\n",
    "            ('add_features_names', AddFeatureNames(prefix=\"cmpnt_\"))\n",
    "    ])\n",
    "\n",
    "# spca_pipe_30 = get_spca_pipeline()\n",
    "spca_pipe_40 = get_spca_pipeline(n_comps=40)"
   ]
  },
  {
   "cell_type": "code",
   "execution_count": 14,
   "metadata": {},
   "outputs": [],
   "source": [
    "# Fit and save SPCA pipelines\n",
    "# Normal data, spca, 30 features\n",
    "# spca_pipe_30.fit(train)\n",
    "spca_filename_30 = config['LOGGING']['PIPE_DIR'] + 'spca_pipe_' + str(N_COMPONENTS) +  'comp.lib'\n",
    "# dump(spca_pipe30, spca_filename)\n",
    "spca_pipe_30 = load(spca_filename_30)"
   ]
  },
  {
   "cell_type": "code",
   "execution_count": 15,
   "metadata": {},
   "outputs": [],
   "source": [
    "# spca_pipe_40.fit(train80)\n",
    "# spca_filename = config['LOGGING']['PIPE_DIR'] + 'spca_pipe_8020_' + str(50) +  'comp.lib'\n",
    "# dump(spca_pipe_40.fit(train80)\n",
    "# , spca_filename)"
   ]
  },
  {
   "cell_type": "code",
   "execution_count": 18,
   "metadata": {},
   "outputs": [],
   "source": [
    "X_train_pca = pca_pipe.fit_transform(train)\n",
    "X_train_spca = spca_pipe_30.transform(train)\n",
    "\n",
    "X_test_pca = pca_pipe.transform(test)\n",
    "X_test_spca = spca_pipe_30.transform(test)"
   ]
  },
  {
   "attachments": {},
   "cell_type": "markdown",
   "metadata": {},
   "source": [
    "### Model fitting\n",
    "#### Implemented models\n",
    "- Logistic regression\n",
    "- LightGBM (Gradient Tree Boosting)\n",
    "- SVC (Support Vector Classifier)"
   ]
  },
  {
   "attachments": {},
   "cell_type": "markdown",
   "metadata": {},
   "source": [
    "#### Logistic Regression"
   ]
  },
  {
   "cell_type": "code",
   "execution_count": 19,
   "metadata": {},
   "outputs": [],
   "source": [
    "lr_pipe = Pipeline([\n",
    "        # Apply logistic regression\n",
    "        ('logistic_regression', LogisticRegression(random_state=SEED))\n",
    "])"
   ]
  },
  {
   "cell_type": "code",
   "execution_count": 20,
   "metadata": {},
   "outputs": [
    {
     "name": "stdout",
     "output_type": "stream",
     "text": [
      "Score with Logistic Regression and PCA:            0.8235294117647058\n",
      "Score with Logistic Regression and SPCA:           0.8529411764705882\n"
     ]
    }
   ],
   "source": [
    "# Fit and score PCA with Logistic Regression\n",
    "lr_pipe.fit(X_train_pca, y_train)\n",
    "print(f\"{'Score with Logistic Regression and PCA:':<50} {lr_pipe.score(X_test_pca, y_test)}\")\n",
    "\n",
    "# Fit and score SPCA with Logistic Regression\n",
    "lr_pipe.fit(X_train_spca, y_train)\n",
    "print(f\"{'Score with Logistic Regression and SPCA:':<50} {lr_pipe.score(X_test_spca, y_test)}\")"
   ]
  },
  {
   "attachments": {},
   "cell_type": "markdown",
   "metadata": {},
   "source": [
    "### LightGBM (Gradient Tree Boosting)"
   ]
  },
  {
   "cell_type": "code",
   "execution_count": 26,
   "metadata": {},
   "outputs": [],
   "source": [
    "lgbm_pipe = Pipeline([\n",
    "    # Step 4:\n",
    "        # Apply LGBM\n",
    "        ('lgbm_classifier', LGBMClassifier(random_state=SEED))\n",
    "\n",
    "])"
   ]
  },
  {
   "cell_type": "code",
   "execution_count": 27,
   "metadata": {},
   "outputs": [
    {
     "name": "stdout",
     "output_type": "stream",
     "text": [
      "Score with LGBM and PCA:                           0.5882352941176471\n",
      "Score with LGBM and SPCA:                          0.5882352941176471\n"
     ]
    }
   ],
   "source": [
    "# Fit and score PCA with Logistic Regression\n",
    "lgbm_pipe.fit(X_train_pca, y_train)\n",
    "print(f\"{'Score with LGBM and PCA:':<50} {lgbm_pipe.score(X_test_pca, y_test)}\")\n",
    "\n",
    "# Fit and score SPCA with Logistic Regression\n",
    "lgbm_pipe.fit(X_train_spca, y_train)\n",
    "print(f\"{'Score with LGBM and SPCA:':<50} {lgbm_pipe.score(X_test_spca, y_test)}\")"
   ]
  },
  {
   "attachments": {},
   "cell_type": "markdown",
   "metadata": {},
   "source": [
    "#### LightGBM tuning with optuna"
   ]
  },
  {
   "cell_type": "code",
   "execution_count": 23,
   "metadata": {},
   "outputs": [],
   "source": [
    "def objective(trial):\n",
    "    boost_type = trial.suggest_categorical(\"boosting_type\", [\"gbdt\", \"dart\"])\n",
    "    dataset = trial.suggest_categorical(\"data\", [\"spca\", \"pca\"])\n",
    "    if dataset == 'spca':\n",
    "        data_cur = X_train_spca\n",
    "    else:\n",
    "        data_cur = X_train_pca\n",
    "\n",
    "    n_leaves = trial.suggest_int('num_leaves', 3, 40)\n",
    "    n_est = trial.suggest_int('n_estimators', 30, 400)\n",
    "    max_d = trial.suggest_int('max_depth', 2, 50)\n",
    "\n",
    "    clf = LGBMClassifier(random_state=SEED,\n",
    "                        boosting_type = boost_type, \n",
    "                        num_leaves = n_leaves,\n",
    "                        n_estimators = n_est,\n",
    "                        max_depth = max_d)\n",
    "\n",
    "    score = cross_val_score(clf, data_cur, y_train, n_jobs = -1, cv = 3)\n",
    "    f1 = score.mean()\n",
    "    return f1"
   ]
  },
  {
   "cell_type": "code",
   "execution_count": 30,
   "metadata": {},
   "outputs": [
    {
     "name": "stdout",
     "output_type": "stream",
     "text": [
      "FrozenTrial(number=0, values=[0.7115384615384616], datetime_start=datetime.datetime(2023, 1, 17, 22, 52, 48, 824876), datetime_complete=datetime.datetime(2023, 1, 17, 22, 52, 51, 176861), params={'boosting_type': 'dart', 'data': 'spca', 'num_leaves': 23, 'n_estimators': 232, 'max_depth': 24}, distributions={'boosting_type': CategoricalDistribution(choices=('gbdt', 'dart')), 'data': CategoricalDistribution(choices=('spca', 'pca')), 'num_leaves': IntDistribution(high=40, log=False, low=3, step=1), 'n_estimators': IntDistribution(high=400, log=False, low=30, step=1), 'max_depth': IntDistribution(high=50, log=False, low=2, step=1)}, user_attrs={}, system_attrs={}, intermediate_values={}, trial_id=0, state=TrialState.COMPLETE, value=None)\n"
     ]
    }
   ],
   "source": [
    "study = optuna.create_study(direction = 'maximize')\n",
    "study.optimize(objective, n_trials = 100)\n",
    "print(study.best_trial)"
   ]
  },
  {
   "attachments": {},
   "cell_type": "markdown",
   "metadata": {},
   "source": [
    "No difference between the trials, might be due to a very small training set (score is calculated using cross validation). TODO: change train/test to 80/20 split."
   ]
  },
  {
   "cell_type": "code",
   "execution_count": 35,
   "metadata": {},
   "outputs": [
    {
     "name": "stdout",
     "output_type": "stream",
     "text": [
      "              precision    recall  f1-score   support\n",
      "\n",
      "           0       1.00      0.64      0.78        14\n",
      "           1       0.80      1.00      0.89        20\n",
      "\n",
      "    accuracy                           0.85        34\n",
      "   macro avg       0.90      0.82      0.84        34\n",
      "weighted avg       0.88      0.85      0.85        34\n",
      "\n",
      "[[ 9  5]\n",
      " [ 0 20]]\n"
     ]
    }
   ],
   "source": [
    "y_pred_test = lr_pipe.predict(X_test_spca)\n",
    "\n",
    "print(classification_report(y_test, y_pred_test))\n",
    "print(confusion_matrix(y_test, y_pred_test))"
   ]
  },
  {
   "cell_type": "code",
   "execution_count": 60,
   "metadata": {},
   "outputs": [],
   "source": [
    "def classification_report_extensive(classifier, X_test, y_true):\n",
    "    y_pred = classifier.predict(X_test)\n",
    "    print(classification_report(y_true, y_pred))\n",
    "    conf_mat = confusion_matrix(y_true, y_pred)\n",
    "    disp = ConfusionMatrixDisplay(conf_mat)\n",
    "    disp.plot()"
   ]
  },
  {
   "cell_type": "code",
   "execution_count": 61,
   "metadata": {},
   "outputs": [
    {
     "name": "stdout",
     "output_type": "stream",
     "text": [
      "              precision    recall  f1-score   support\n",
      "\n",
      "           0       1.00      0.64      0.78        14\n",
      "           1       0.80      1.00      0.89        20\n",
      "\n",
      "    accuracy                           0.85        34\n",
      "   macro avg       0.90      0.82      0.84        34\n",
      "weighted avg       0.88      0.85      0.85        34\n",
      "\n"
     ]
    },
    {
     "data": {
      "image/png": "[encoded data removed]",
      "text/plain": [
       "<Figure size 640x480 with 2 Axes>"
      ]
     },
     "metadata": {},
     "output_type": "display_data"
    }
   ],
   "source": [
    "classification_report_extensive(lr_pipe, X_test_spca, y_test)"
   ]
  },
  {
   "cell_type": "code",
   "execution_count": null,
   "metadata": {},
   "outputs": [],
   "source": []
  }
 ],
 "metadata": {
  "kernelspec": {
   "display_name": "Python 3.10.7 ('venv': venv)",
   "language": "python",
   "name": "python3"
  },
  "language_info": {
   "codemirror_mode": {
    "name": "ipython",
    "version": 3
   },
   "file_extension": ".py",
   "mimetype": "text/x-python",
   "name": "python",
   "nbconvert_exporter": "python",
   "pygments_lexer": "ipython3",
   "version": "3.10.7"
  },
  "orig_nbformat": 4,
  "vscode": {
   "interpreter": {
    "hash": "5e6bfdc5e747882d0c1236e11db0a3029a2ad21f412da50d5656bcce3e752b4d"
   }
  }
 },
 "nbformat": 4,
 "nbformat_minor": 2
}
