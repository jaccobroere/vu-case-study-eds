{
 "cells": [
  {
   "attachments": {},
   "cell_type": "markdown",
   "metadata": {},
   "source": [
    "# VU Econometics and Data Science: Case Study\n",
    "```\n",
    "Author(s): Jacco Broere\n",
    "```"
   ]
  },
  {
   "cell_type": "code",
   "execution_count": 2,
   "metadata": {},
   "outputs": [
    {
     "name": "stderr",
     "output_type": "stream",
     "text": [
      "c:\\Users\\jaccobroere\\AppData\\Local\\Programs\\Python\\Python310\\lib\\site-packages\\tqdm\\auto.py:22: TqdmWarning: IProgress not found. Please update jupyter and ipywidgets. See https://ipywidgets.readthedocs.io/en/stable/user_install.html\n",
      "  from .autonotebook import tqdm as notebook_tqdm\n"
     ]
    }
   ],
   "source": [
    "# import utility modules\n",
    "import pandas as pd\n",
    "import numpy as np\n",
    "import configparser\n",
    "import os\n",
    "from joblib import dump, load\n",
    "import datetime as dt\n",
    "\n",
    "\n",
    "# import sweetviz\n",
    "import matplotlib.pyplot as plt\n",
    "\n",
    "# import optuna\n",
    "import optuna\n",
    "optuna.logging.set_verbosity(optuna.logging.ERROR)\n",
    "\n",
    "# helper functions\n",
    "from helpers.helper_functions import transform_data, add_actuals, get_pca_pipeline, get_model\n",
    "from helpers.helper_classes import AddFeatureNames, GeneSPCA\n",
    "from helpers.config.hyperparameters import OptunaOptimzation\n",
    "from helpers.config.hyperparameters import PCA_LGBM_CFG, SPCA_LGBM_CFG, GSPCA_LGBM_CFG, PCA_LR_CFG, SPCA_LR_CFG, GSPCA_LR_CFG\n",
    "\n",
    "\n",
    "# sklearn\n",
    "from sklearn.decomposition import PCA, SparsePCA\n",
    "from sklearn.preprocessing import StandardScaler\n",
    "from sklearn.pipeline import Pipeline\n",
    "from sklearn.linear_model import LogisticRegression\n",
    "from sklearn.model_selection import cross_val_score, train_test_split, ShuffleSplit\n",
    "from sklearn.metrics import confusion_matrix, classification_report, ConfusionMatrixDisplay, roc_auc_score, roc_curve, RocCurveDisplay, f1_score\n",
    "from sklearn.svm import SVC\n",
    "from sklearn.neighbors import KNeighborsClassifier\n",
    "\n",
    "\n",
    "# LightGBM\n",
    "from lightgbm import LGBMClassifier\n",
    "\n",
    "# feature_engine\n",
    "from feature_engine.selection import DropFeatures, DropConstantFeatures, DropDuplicateFeatures"
   ]
  },
  {
   "cell_type": "code",
   "execution_count": 3,
   "metadata": {},
   "outputs": [],
   "source": [
    "# Read config.ini file\n",
    "config = configparser.ConfigParser()\n",
    "config.read('config.ini')\n",
    "\n",
    "os.chdir(config['PATH']['ROOT_DIR'])\n",
    "\n",
    "OPTUNA_DIR = config['LOGGING']['OPTUNA_DIR']\n",
    "DATA_DIR = config['PATH']['DATA_DIR']\n",
    "DATASETS = config['PARAMS']['DATASETS']\n"
   ]
  },
  {
   "cell_type": "code",
   "execution_count": 5,
   "metadata": {},
   "outputs": [
    {
     "data": {
      "text/plain": [
       "['[',\n",
       " \"'\",\n",
       " 'c',\n",
       " 'h',\n",
       " 'i',\n",
       " 'n',\n",
       " \"'\",\n",
       " ',',\n",
       " ' ',\n",
       " \"'\",\n",
       " 'c',\n",
       " 'h',\n",
       " 'o',\n",
       " 'w',\n",
       " 'd',\n",
       " 'a',\n",
       " 'r',\n",
       " 'y',\n",
       " \"'\",\n",
       " ',',\n",
       " ' ',\n",
       " \"'\",\n",
       " 'g',\n",
       " 'r',\n",
       " 'a',\n",
       " 'v',\n",
       " 'i',\n",
       " 'e',\n",
       " 'r',\n",
       " \"'\",\n",
       " ',',\n",
       " ' ',\n",
       " \"'\",\n",
       " 'w',\n",
       " 'e',\n",
       " 's',\n",
       " 't',\n",
       " \"'\",\n",
       " ']']"
      ]
     },
     "execution_count": 5,
     "metadata": {},
     "output_type": "execute_result"
    }
   ],
   "source": []
  },
  {
   "cell_type": "code",
   "execution_count": null,
   "metadata": {},
   "outputs": [],
   "source": [
    "config.get('PARAMS', 'DATASETS')"
   ]
  },
  {
   "cell_type": "code",
   "execution_count": null,
   "metadata": {},
   "outputs": [],
   "source": [
    "# Load data library\n",
    "data = load(DATA_DIR + '/microarray-data-dict.lib')"
   ]
  },
  {
   "attachments": {},
   "cell_type": "markdown",
   "metadata": {},
   "source": [
    "# Scoring the tuned models"
   ]
  },
  {
   "cell_type": "code",
   "execution_count": 6,
   "metadata": {},
   "outputs": [],
   "source": [
    "def parse_best_params_from_csv(path) -> dict:\n",
    "    df = pd.read_csv(path)\n",
    "    params = {\n",
    "        \"_\".join(col.split(\"_\")[1:]): df.loc[df.value.argmax(), col]\n",
    "        for col in df.columns\n",
    "        if \"params\" in col\n",
    "    }\n",
    "\n",
    "    return params\n",
    "\n",
    "def parse_name_from_csv(path) -> str:\n",
    "    return \"_\".join(path.split(\"/\")[-1].split(\"_\")[2:4])"
   ]
  },
  {
   "cell_type": "code",
   "execution_count": 7,
   "metadata": {},
   "outputs": [
    {
     "name": "stdout",
     "output_type": "stream",
     "text": [
      "20230131_0103_GSPCA_LR_optuna_run.csv\n",
      "1.0\n",
      "20230131_0309_PCA_LGBM_optuna_run.csv\n",
      "[LightGBM] [Warning] Unknown parameter: n_components\n",
      "0.7333333333333333\n",
      "20230131_0103_SPCA_LR_optuna_run.csv\n",
      "0.0\n",
      "0.7333333333333333\n",
      "20230131_0103_SPCA_LGBM_optuna_run.csv\n",
      "0.0\n",
      "[LightGBM] [Warning] Unknown parameter: n_components\n",
      "[LightGBM] [Warning] min_data_in_leaf is set=9700, min_child_samples=20 will be ignored. Current value: min_data_in_leaf=9700\n",
      "[LightGBM] [Warning] min_gain_to_split is set=4.135380792559136, min_split_gain=0.0 will be ignored. Current value: min_gain_to_split=4.135380792559136\n",
      "0.7333333333333333\n",
      "20230131_0103_GSPCA_LGBM_optuna_run.csv\n",
      "[LightGBM] [Warning] Unknown parameter: n_components\n",
      "[LightGBM] [Warning] min_data_in_leaf is set=200, min_child_samples=20 will be ignored. Current value: min_data_in_leaf=200\n",
      "[LightGBM] [Warning] min_gain_to_split is set=6.641598396904444, min_split_gain=0.0 will be ignored. Current value: min_gain_to_split=6.641598396904444\n",
      "0.7333333333333333\n",
      "20230131_0103_PCA_LGBM_optuna_run.csv\n",
      "[LightGBM] [Warning] Unknown parameter: n_components\n",
      "[LightGBM] [Warning] min_data_in_leaf is set=2800, min_child_samples=9700 will be ignored. Current value: min_data_in_leaf=2800\n",
      "[LightGBM] [Warning] min_gain_to_split is set=4.127711096539998, min_split_gain=7.59141455105056 will be ignored. Current value: min_gain_to_split=4.127711096539998\n",
      "0.7333333333333333\n",
      "20230131_0103_PCA_LR_optuna_run.csv\n",
      "1.0\n"
     ]
    },
    {
     "name": "stderr",
     "output_type": "stream",
     "text": [
      "/Users/jacco/Documents/repos/vu-case-study-eds/venv/lib/python3.10/site-packages/sklearn/linear_model/_sag.py:350: ConvergenceWarning: The max_iter was reached which means the coef_ did not converge\n",
      "  warnings.warn(\n"
     ]
    }
   ],
   "source": [
    "hyperparameter_configs = {\n",
    "    'PCA_LGBM': PCA_LGBM_CFG(),\n",
    "    'SPCA_LGBM': SPCA_LGBM_CFG(),\n",
    "    'GSPCA_LGBM': GSPCA_LGBM_CFG(),\n",
    "    'PCA_LR': PCA_LR_CFG(),\n",
    "    'SPCA_LR': SPCA_LR_CFG(),\n",
    "    'GSPCA_LR': GSPCA_LR_CFG(),\n",
    "}\n",
    "\n",
    "for file in os.listdir(OPTUNA_DIR):\n",
    "    if not file.endswith(\".csv\"):\n",
    "        continue\n",
    "    \n",
    "    print(file)\n",
    "    path = os.path.join(OPTUNA_DIR, file)\n",
    "    \n",
    "    name = parse_name_from_csv(path)\n",
    "    best_params = parse_best_params_from_csv(path)\n",
    "    cfg = hyperparameter_configs[name]\n",
    "    \n",
    "    pipe = Pipeline([\n",
    "        (\"pca\", get_pca_pipeline(cfg.get_params()[\"pca\"][\"method\"], **best_params)),\n",
    "        (\"model\", get_model(cfg.get_model(static=True), **cfg.get_params()[\"static\"], **best_params)),\n",
    "    ])\n",
    "    \n",
    "    pipe.fit(X_train, y_train)\n",
    "    print(pipe.score(X_test, y_test))"
   ]
  },
  {
   "cell_type": "code",
   "execution_count": 13,
   "metadata": {},
   "outputs": [],
   "source": [
    "pipe = Pipeline([\n",
    "        (\"pca\", get_pca_pipeline(cfg.get_params()[\"pca\"][\"method\"], **best_params)),\n",
    "        (\"model\", get_model(cfg.get_model(static=True), **cfg.get_params()[\"static\"], **best_params)),\n",
    "])\n",
    "    \n",
    "# pipe.fit(X_train, y_train)\n",
    "# print(pipe.score(X_test, y_test))"
   ]
  }
 ],
 "metadata": {
  "kernelspec": {
   "display_name": "Python 3",
   "language": "python",
   "name": "python3"
  },
  "language_info": {
   "codemirror_mode": {
    "name": "ipython",
    "version": 3
   },
   "file_extension": ".py",
   "mimetype": "text/x-python",
   "name": "python",
   "nbconvert_exporter": "python",
   "pygments_lexer": "ipython3",
   "version": "3.10.4"
  },
  "orig_nbformat": 4,
  "vscode": {
   "interpreter": {
    "hash": "47fc3cfc3bb9b67a77dec08463907c26f06c76f6150a520c7ec8ce1466106299"
   }
  }
 },
 "nbformat": 4,
 "nbformat_minor": 2
}
