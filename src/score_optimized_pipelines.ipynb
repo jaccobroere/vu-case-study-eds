{
 "cells": [
  {
   "attachments": {},
   "cell_type": "markdown",
   "metadata": {},
   "source": [
    "# VU Econometics and Data Science: Case Study\n",
    "```\n",
    "Author(s): Jacco Broere\n",
    "```"
   ]
  },
  {
   "cell_type": "code",
   "execution_count": 1,
   "metadata": {},
   "outputs": [
    {
     "name": "stderr",
     "output_type": "stream",
     "text": [
      "c:\\Users\\jaccobroere\\AppData\\Local\\Programs\\Python\\Python310\\lib\\site-packages\\tqdm\\auto.py:22: TqdmWarning: IProgress not found. Please update jupyter and ipywidgets. See https://ipywidgets.readthedocs.io/en/stable/user_install.html\n",
      "  from .autonotebook import tqdm as notebook_tqdm\n"
     ]
    }
   ],
   "source": [
    "# import utility modules\n",
    "import pandas as pd\n",
    "import numpy as np\n",
    "import configparser\n",
    "import os\n",
    "from joblib import dump, load\n",
    "import datetime as dt\n",
    "import json\n",
    "import copy\n",
    "\n",
    "\n",
    "# import sweetviz\n",
    "import matplotlib.pyplot as plt\n",
    "\n",
    "# import optuna\n",
    "import optuna\n",
    "optuna.logging.set_verbosity(optuna.logging.ERROR)\n",
    "\n",
    "# helper functions\n",
    "from helpers.helper_functions import transform_data, add_actuals, get_pca_pipeline, get_model\n",
    "from helpers.helper_classes import AddFeatureNames, GeneSPCA\n",
    "from helpers.config.hyperparameters import OptunaOptimzation\n",
    "from helpers.config.hyperparameters import PCA_LGBM_CFG, SPCA_LGBM_CFG, GSPCA_LGBM_CFG, PCA_LR_CFG, SPCA_LR_CFG, GSPCA_LR_CFG\n",
    "\n",
    "\n",
    "# sklearn\n",
    "from sklearn.decomposition import PCA, SparsePCA\n",
    "from sklearn.preprocessing import StandardScaler\n",
    "from sklearn.pipeline import Pipeline\n",
    "from sklearn.linear_model import LogisticRegression\n",
    "from sklearn.model_selection import cross_val_score, train_test_split, ShuffleSplit\n",
    "from sklearn.metrics import confusion_matrix, classification_report, ConfusionMatrixDisplay, roc_auc_score, roc_curve, RocCurveDisplay, f1_score\n",
    "from sklearn.svm import SVC\n",
    "from sklearn.neighbors import KNeighborsClassifier\n",
    "\n",
    "\n",
    "# LightGBM\n",
    "from lightgbm import LGBMClassifier\n",
    "\n",
    "# feature_engine\n",
    "from feature_engine.selection import DropFeatures, DropConstantFeatures, DropDuplicateFeatures"
   ]
  },
  {
   "cell_type": "code",
   "execution_count": 25,
   "metadata": {},
   "outputs": [],
   "source": [
    "# Read config.ini file\n",
    "config = configparser.ConfigParser()\n",
    "config.read('config.ini')\n",
    "\n",
    "os.chdir(config['PATH']['ROOT_DIR'])\n",
    "\n",
    "OPTUNA_DIR = config['LOGGING']['OPTUNA_DIR']\n",
    "DATA_DIR = config['PATH']['DATA_DIR']\n",
    "DATASETS = json.loads(config.get('PARAMS', 'DATASETS'))\n",
    "PIPE_DIR = config['LOGGING']['PIPE_DIR']"
   ]
  },
  {
   "attachments": {},
   "cell_type": "markdown",
   "metadata": {},
   "source": [
    "# Scoring the tuned models"
   ]
  },
  {
   "cell_type": "code",
   "execution_count": 26,
   "metadata": {},
   "outputs": [],
   "source": [
    "def parse_best_params_from_csv(path) -> dict:\n",
    "    df = pd.read_csv(path)\n",
    "    params = {\n",
    "        \"_\".join(col.split(\"_\")[1:]): df.loc[df.value.argmax(), col]\n",
    "        for col in df.columns\n",
    "        if \"params\" in col\n",
    "    }\n",
    "\n",
    "    return params\n",
    "\n",
    "def parse_name_from_csv(path) -> str:\n",
    "    return \"_\".join(path.split(\"/\")[-1].split(\"_\")[2:4])\n",
    "\n",
    "def init_hyperparameter_configs():\n",
    "    hyperparameter_configs = {\n",
    "        \"PCA_LGBM\": PCA_LGBM_CFG(),\n",
    "        \"SPCA_LGBM\": SPCA_LGBM_CFG(),\n",
    "        \"GSPCA_LGBM\": GSPCA_LGBM_CFG(),\n",
    "        \"PCA_LR\": PCA_LR_CFG(),\n",
    "        \"SPCA_LR\": SPCA_LR_CFG(),\n",
    "        \"GSPCA_LR\": GSPCA_LR_CFG(),\n",
    "    }\n",
    "    return hyperparameter_configs"
   ]
  },
  {
   "cell_type": "code",
   "execution_count": 27,
   "metadata": {},
   "outputs": [],
   "source": [
    "fitted_pipelines = dict.fromkeys(DATASETS, {})"
   ]
  },
  {
   "cell_type": "code",
   "execution_count": null,
   "metadata": {},
   "outputs": [],
   "source": []
  },
  {
   "cell_type": "code",
   "execution_count": 28,
   "metadata": {},
   "outputs": [
    {
     "name": "stderr",
     "output_type": "stream",
     "text": [
      "c:\\Users\\jaccobroere\\AppData\\Local\\Programs\\Python\\Python310\\lib\\site-packages\\sklearn\\preprocessing\\_label.py:98: DataConversionWarning: A column-vector y was passed when a 1d array was expected. Please change the shape of y to (n_samples, ), for example using ravel().\n",
      "  y = column_or_1d(y, warn=True)\n",
      "c:\\Users\\jaccobroere\\AppData\\Local\\Programs\\Python\\Python310\\lib\\site-packages\\sklearn\\preprocessing\\_label.py:133: DataConversionWarning: A column-vector y was passed when a 1d array was expected. Please change the shape of y to (n_samples, ), for example using ravel().\n",
      "  y = column_or_1d(y, warn=True)\n",
      "c:\\Users\\jaccobroere\\AppData\\Local\\Programs\\Python\\Python310\\lib\\site-packages\\sklearn\\preprocessing\\_label.py:98: DataConversionWarning: A column-vector y was passed when a 1d array was expected. Please change the shape of y to (n_samples, ), for example using ravel().\n",
      "  y = column_or_1d(y, warn=True)\n",
      "c:\\Users\\jaccobroere\\AppData\\Local\\Programs\\Python\\Python310\\lib\\site-packages\\sklearn\\preprocessing\\_label.py:133: DataConversionWarning: A column-vector y was passed when a 1d array was expected. Please change the shape of y to (n_samples, ), for example using ravel().\n",
      "  y = column_or_1d(y, warn=True)\n",
      "c:\\Users\\jaccobroere\\AppData\\Local\\Programs\\Python\\Python310\\lib\\site-packages\\sklearn\\preprocessing\\_label.py:98: DataConversionWarning: A column-vector y was passed when a 1d array was expected. Please change the shape of y to (n_samples, ), for example using ravel().\n",
      "  y = column_or_1d(y, warn=True)\n",
      "c:\\Users\\jaccobroere\\AppData\\Local\\Programs\\Python\\Python310\\lib\\site-packages\\sklearn\\preprocessing\\_label.py:133: DataConversionWarning: A column-vector y was passed when a 1d array was expected. Please change the shape of y to (n_samples, ), for example using ravel().\n",
      "  y = column_or_1d(y, warn=True)\n",
      "c:\\Users\\jaccobroere\\AppData\\Local\\Programs\\Python\\Python310\\lib\\site-packages\\sklearn\\preprocessing\\_label.py:98: DataConversionWarning: A column-vector y was passed when a 1d array was expected. Please change the shape of y to (n_samples, ), for example using ravel().\n",
      "  y = column_or_1d(y, warn=True)\n",
      "c:\\Users\\jaccobroere\\AppData\\Local\\Programs\\Python\\Python310\\lib\\site-packages\\sklearn\\preprocessing\\_label.py:133: DataConversionWarning: A column-vector y was passed when a 1d array was expected. Please change the shape of y to (n_samples, ), for example using ravel().\n",
      "  y = column_or_1d(y, warn=True)\n",
      "c:\\Users\\jaccobroere\\AppData\\Local\\Programs\\Python\\Python310\\lib\\site-packages\\sklearn\\preprocessing\\_label.py:98: DataConversionWarning: A column-vector y was passed when a 1d array was expected. Please change the shape of y to (n_samples, ), for example using ravel().\n",
      "  y = column_or_1d(y, warn=True)\n",
      "c:\\Users\\jaccobroere\\AppData\\Local\\Programs\\Python\\Python310\\lib\\site-packages\\sklearn\\preprocessing\\_label.py:133: DataConversionWarning: A column-vector y was passed when a 1d array was expected. Please change the shape of y to (n_samples, ), for example using ravel().\n",
      "  y = column_or_1d(y, warn=True)\n",
      "c:\\Users\\jaccobroere\\AppData\\Local\\Programs\\Python\\Python310\\lib\\site-packages\\sklearn\\preprocessing\\_label.py:98: DataConversionWarning: A column-vector y was passed when a 1d array was expected. Please change the shape of y to (n_samples, ), for example using ravel().\n",
      "  y = column_or_1d(y, warn=True)\n",
      "c:\\Users\\jaccobroere\\AppData\\Local\\Programs\\Python\\Python310\\lib\\site-packages\\sklearn\\preprocessing\\_label.py:133: DataConversionWarning: A column-vector y was passed when a 1d array was expected. Please change the shape of y to (n_samples, ), for example using ravel().\n",
      "  y = column_or_1d(y, warn=True)\n"
     ]
    },
    {
     "data": {
      "text/plain": [
       "['./logs/pipelines/fitted-pipelines.lib']"
      ]
     },
     "execution_count": 28,
     "metadata": {},
     "output_type": "execute_result"
    }
   ],
   "source": [
    "# Load data library\n",
    "data = load(DATA_DIR + '/microarray-data-dict.lib')\n",
    "\n",
    "hyperparameter_configs = init_hyperparameter_configs()\n",
    "fitted_pipelines = dict.fromkeys(DATASETS, {})\n",
    "\n",
    "for dataset in DATASETS:\n",
    "    X_train, X_test = data[dataset][\"none\"][\"X_train\"], data[dataset][\"none\"][\"X_test\"]\n",
    "    y_train, y_test = data[dataset][\"none\"][\"y_train\"], data[dataset][\"none\"][\"y_test\"]\n",
    "    \n",
    "    for file in os.listdir(os.path.join(OPTUNA_DIR, dataset)):\n",
    "        if not file.endswith(\".csv\"):\n",
    "            continue\n",
    "        \n",
    "        path = os.path.join(OPTUNA_DIR, dataset, file)\n",
    "        \n",
    "        name = parse_name_from_csv(path)\n",
    "        best_params = parse_best_params_from_csv(path)\n",
    "        cfg = hyperparameter_configs[name]\n",
    "        \n",
    "        pipe = Pipeline([\n",
    "            (\"pca\", get_pca_pipeline(cfg.get_params()[\"pca\"][\"method\"], **best_params)),\n",
    "            (\"model\", get_model(cfg.get_model(static=True), **cfg.get_params()[\"static\"], **best_params)),\n",
    "        ])\n",
    "        \n",
    "        pipe.fit(X_train, y_train)\n",
    "        \n",
    "        # Save pipeline in dictionary\n",
    "        fitted_pipelines[dataset][name] = copy.deepcopy(pipe)\n",
    "        \n",
    "# dump to joblib\n",
    "dump(fitted_pipelines, os.path.join(PIPE_DIR, 'fitted-pipelines.lib'))"
   ]
  },
  {
   "cell_type": "code",
   "execution_count": 31,
   "metadata": {},
   "outputs": [
    {
     "name": "stdout",
     "output_type": "stream",
     "text": [
      "yeoh\n",
      "(166, 12625)\n",
      "nakayama\n",
      "(70, 22283)\n",
      "golub\n",
      "(48, 7129)\n",
      "khan\n",
      "(42, 2308)\n",
      "west\n",
      "(32, 7129)\n",
      "alon\n",
      "(41, 2000)\n",
      "subramanian\n",
      "(33, 10100)\n",
      "burczynski\n",
      "(85, 22283)\n",
      "chin\n",
      "(79, 22215)\n",
      "borovecki\n",
      "(20, 22283)\n",
      "shipp\n",
      "(51, 7129)\n",
      "tian\n",
      "(115, 12625)\n",
      "gordon\n",
      "(121, 12533)\n",
      "chiaretti\n",
      "(85, 12625)\n",
      "sorlie\n",
      "(56, 456)\n",
      "chowdary\n",
      "(69, 22283)\n",
      "sun\n",
      "(120, 54613)\n",
      "pomeroy\n",
      "(40, 7128)\n",
      "gravier\n",
      "(112, 2905)\n",
      "su\n",
      "(68, 5556)\n",
      "christensen\n",
      "(145, 1413)\n",
      "singh\n",
      "(68, 12600)\n"
     ]
    }
   ],
   "source": [
    "for datasets in data:\n",
    "    print(datasets)\n",
    "    X_train = data[datasets][\"none\"][\"X_train\"]\n",
    "    print(X_train.shape)"
   ]
  },
  {
   "cell_type": "code",
   "execution_count": null,
   "metadata": {},
   "outputs": [],
   "source": []
  }
 ],
 "metadata": {
  "kernelspec": {
   "display_name": "Python 3",
   "language": "python",
   "name": "python3"
  },
  "language_info": {
   "codemirror_mode": {
    "name": "ipython",
    "version": 3
   },
   "file_extension": ".py",
   "mimetype": "text/x-python",
   "name": "python",
   "nbconvert_exporter": "python",
   "pygments_lexer": "ipython3",
   "version": "3.10.4"
  },
  "orig_nbformat": 4,
  "vscode": {
   "interpreter": {
    "hash": "47fc3cfc3bb9b67a77dec08463907c26f06c76f6150a520c7ec8ce1466106299"
   }
  }
 },
 "nbformat": 4,
 "nbformat_minor": 2
}
