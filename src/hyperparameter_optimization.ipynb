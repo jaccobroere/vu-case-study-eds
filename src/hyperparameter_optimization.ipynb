{
 "cells": [
  {
   "attachments": {},
   "cell_type": "markdown",
   "metadata": {},
   "source": [
    "# VU Econometics and Data Science: Case Study\n",
    "```\n",
    "Author(s): Jacco Broere\n",
    "```\n",
    "\n",
    "\n",
    "### Setup\n",
    "- Setup config.ini file\n",
    "- Install necessary packages\n",
    "- Download and unpack data\n",
    "\n"
   ]
  },
  {
   "cell_type": "code",
   "execution_count": 1,
   "metadata": {},
   "outputs": [
    {
     "name": "stderr",
     "output_type": "stream",
     "text": [
      "c:\\Users\\jaccobroere\\AppData\\Local\\Programs\\Python\\Python310\\lib\\site-packages\\tqdm\\auto.py:22: TqdmWarning: IProgress not found. Please update jupyter and ipywidgets. See https://ipywidgets.readthedocs.io/en/stable/user_install.html\n",
      "  from .autonotebook import tqdm as notebook_tqdm\n"
     ]
    }
   ],
   "source": [
    "# import utility modules\n",
    "import pandas as pd\n",
    "import numpy as np\n",
    "import configparser\n",
    "import os\n",
    "from joblib import dump, load\n",
    "import datetime as dt\n",
    "from tqdm import tqdm\n",
    "\n",
    "\n",
    "# import sweetviz\n",
    "import matplotlib.pyplot as plt\n",
    "\n",
    "# import optuna\n",
    "import optuna\n",
    "optuna.logging.set_verbosity(optuna.logging.ERROR)\n",
    "\n",
    "# helper functions\n",
    "from helpers.helper_functions import transform_data, add_actuals, get_pca_pipeline, get_model\n",
    "from helpers.helper_classes import AddFeatureNames, GeneSPCA\n",
    "from helpers.config.hyperparameters import OptunaOptimzation\n",
    "from helpers.config.hyperparameters import PCA_LGBM_CFG, SPCA_LGBM_CFG, GSPCA_LGBM_CFG, PCA_LR_CFG, SPCA_LR_CFG, GSPCA_LR_CFG\n",
    "\n",
    "\n",
    "# sklearn\n",
    "from sklearn.decomposition import PCA, SparsePCA\n",
    "from sklearn.preprocessing import StandardScaler\n",
    "from sklearn.pipeline import Pipeline\n",
    "from sklearn.linear_model import LogisticRegression\n",
    "from sklearn.model_selection import cross_val_score, train_test_split, ShuffleSplit\n",
    "from sklearn.metrics import confusion_matrix, classification_report, ConfusionMatrixDisplay, roc_auc_score, roc_curve, RocCurveDisplay, f1_score\n",
    "from sklearn.svm import SVC\n",
    "from sklearn.neighbors import KNeighborsClassifier\n",
    "\n",
    "\n",
    "# LightGBM\n",
    "from lightgbm import LGBMClassifier\n",
    "\n",
    "# feature_engine\n",
    "from feature_engine.selection import DropFeatures, DropConstantFeatures, DropDuplicateFeatures"
   ]
  },
  {
   "cell_type": "code",
   "execution_count": 2,
   "metadata": {},
   "outputs": [],
   "source": [
    "# Read config.ini file\n",
    "config = configparser.ConfigParser()\n",
    "config.read('config.ini')\n",
    "\n",
    "os.chdir(config['PATH']['ROOT_DIR'])\n",
    "\n",
    "OPTUNA_DIR = config['LOGGING']['OPTUNA_DIR']\n",
    "DATA_DIR = config['PATH']['DATA_DIR']\n"
   ]
  },
  {
   "cell_type": "code",
   "execution_count": 3,
   "metadata": {},
   "outputs": [],
   "source": [
    "# Load data library\n",
    "data = load(DATA_DIR + '/microarray-data-dict.lib')"
   ]
  },
  {
   "attachments": {},
   "cell_type": "markdown",
   "metadata": {},
   "source": [
    "# Hyperparameter Optimization"
   ]
  },
  {
   "cell_type": "code",
   "execution_count": 4,
   "metadata": {},
   "outputs": [],
   "source": [
    "def init_hyperparameter_configs():\n",
    "    hyperparameter_configs = {\n",
    "        'PCA_LGBM': PCA_LGBM_CFG(),\n",
    "        'SPCA_LGBM': SPCA_LGBM_CFG(),\n",
    "        'GSPCA_LGBM': GSPCA_LGBM_CFG(),\n",
    "        'PCA_LR': PCA_LR_CFG(),\n",
    "        'SPCA_LR': SPCA_LR_CFG(),\n",
    "        'GSPCA_LR': GSPCA_LR_CFG(),\n",
    "    }\n",
    "    return hyperparameter_configs\n",
    "\n",
    "def run_all_optimizations(X_train, y_train, hyperparameter_configs, dataset, n_trials=50):\n",
    "    study_dict = {}\n",
    "    timestamp = dt.datetime.now().strftime(\"%Y%m%d_%H%M\")\n",
    "    \n",
    "    for name, cfg in hyperparameter_configs.items():\n",
    "        optimizer = OptunaOptimzation(\n",
    "            X_train,\n",
    "            y_train,\n",
    "            n_trials=n_trials,\n",
    "            hyperparameter_config=cfg,\n",
    "            name=name,\n",
    "        )\n",
    "        optimizer.run()\n",
    "        \n",
    "        # Save study object\n",
    "        if not os.path.exists(f\"{OPTUNA_DIR}{dataset}\"):\n",
    "            os.makedirs(f\"{OPTUNA_DIR}{dataset}\")\n",
    "            \n",
    "        optimizer.save_study(path=f\"{OPTUNA_DIR}{dataset}/{timestamp}_{name}_optuna_run.csv\")\n",
    "        study_dict[name] = optimizer.study\n",
    "        \n",
    "    return study_dict"
   ]
  },
  {
   "cell_type": "code",
   "execution_count": 5,
   "metadata": {},
   "outputs": [
    {
     "name": "stderr",
     "output_type": "stream",
     "text": [
      "  0%|          | 0/4 [00:00<?, ?it/s]"
     ]
    },
    {
     "name": "stdout",
     "output_type": "stream",
     "text": [
      "Dataset: chin\n",
      "X_train shape: (79, 22215)\n"
     ]
    }
   ],
   "source": [
    "dataset_list = ['chin', 'chowdary', 'gravier', 'west']\n",
    "\n",
    "for dataset in tqdm(dataset_list):\n",
    "    print(f\"Dataset: {dataset}\")\n",
    "    X_train = data[dataset]['none']['X_train']\n",
    "    y_train = data[dataset]['none']['y_train'].to_numpy().ravel()\n",
    "    print(f\"X_train shape: {X_train.shape}\")\n",
    "    \n",
    "    run_all_optimizations(X_train, y_train, init_hyperparameter_configs(), dataset,  n_trials=5)"
   ]
  }
 ],
 "metadata": {
  "kernelspec": {
   "display_name": "Python 3",
   "language": "python",
   "name": "python3"
  },
  "language_info": {
   "codemirror_mode": {
    "name": "ipython",
    "version": 3
   },
   "file_extension": ".py",
   "mimetype": "text/x-python",
   "name": "python",
   "nbconvert_exporter": "python",
   "pygments_lexer": "ipython3",
   "version": "3.10.4"
  },
  "orig_nbformat": 4,
  "vscode": {
   "interpreter": {
    "hash": "47fc3cfc3bb9b67a77dec08463907c26f06c76f6150a520c7ec8ce1466106299"
   }
  }
 },
 "nbformat": 4,
 "nbformat_minor": 2
}
