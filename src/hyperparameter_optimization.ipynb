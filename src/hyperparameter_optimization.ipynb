{
 "cells": [
  {
   "attachments": {},
   "cell_type": "markdown",
   "metadata": {},
   "source": [
    "# VU Econometics and Data Science: Case Study\n",
    "```\n",
    "Author(s): Jacco Broere\n",
    "```\n",
    "\n",
    "\n",
    "### Setup\n",
    "- Setup config.ini file\n",
    "- Install necessary packages\n",
    "- Download and unpack data\n",
    "\n"
   ]
  },
  {
   "cell_type": "code",
   "execution_count": 1,
   "metadata": {},
   "outputs": [
    {
     "name": "stderr",
     "output_type": "stream",
     "text": [
      "c:\\Users\\jaccobroere\\AppData\\Local\\Programs\\Python\\Python310\\lib\\site-packages\\tqdm\\auto.py:22: TqdmWarning: IProgress not found. Please update jupyter and ipywidgets. See https://ipywidgets.readthedocs.io/en/stable/user_install.html\n",
      "  from .autonotebook import tqdm as notebook_tqdm\n"
     ]
    }
   ],
   "source": [
    "# import utility modules\n",
    "import pandas as pd\n",
    "import numpy as np\n",
    "import configparser\n",
    "import os\n",
    "from joblib import dump, load\n",
    "import datetime as dt\n",
    "from tqdm import tqdm\n",
    "\n",
    "\n",
    "# import sweetviz\n",
    "import matplotlib.pyplot as plt\n",
    "\n",
    "# import optuna\n",
    "import optuna\n",
    "optuna.logging.set_verbosity(optuna.logging.ERROR)\n",
    "\n",
    "# helper functions\n",
    "from helpers.helper_functions import transform_data, add_actuals, get_pca_pipeline, get_model\n",
    "from helpers.helper_classes import AddFeatureNames, GeneSPCA\n",
    "from helpers.config.hyperparameters import OptunaOptimzation\n",
    "from helpers.config.hyperparameters import PCA_LGBM_CFG, SPCA_LGBM_CFG, GSPCA_LGBM_CFG, PCA_LR_CFG, SPCA_LR_CFG, GSPCA_LR_CFG\n",
    "\n",
    "\n",
    "# sklearn\n",
    "from sklearn.decomposition import PCA, SparsePCA\n",
    "from sklearn.preprocessing import StandardScaler\n",
    "from sklearn.pipeline import Pipeline\n",
    "from sklearn.linear_model import LogisticRegression\n",
    "from sklearn.model_selection import cross_val_score, train_test_split, ShuffleSplit\n",
    "from sklearn.metrics import confusion_matrix, classification_report, ConfusionMatrixDisplay, roc_auc_score, roc_curve, RocCurveDisplay, f1_score\n",
    "from sklearn.svm import SVC\n",
    "from sklearn.neighbors import KNeighborsClassifier\n",
    "\n",
    "\n",
    "# LightGBM\n",
    "from lightgbm import LGBMClassifier\n",
    "\n",
    "# feature_engine\n",
    "from feature_engine.selection import DropFeatures, DropConstantFeatures, DropDuplicateFeatures"
   ]
  },
  {
   "cell_type": "code",
   "execution_count": 2,
   "metadata": {},
   "outputs": [],
   "source": [
    "# Read config.ini file\n",
    "config = configparser.ConfigParser()\n",
    "config.read('config.ini')\n",
    "\n",
    "os.chdir(config['PATH']['ROOT_DIR'])\n",
    "\n",
    "OPTUNA_DIR = config['LOGGING']['OPTUNA_DIR']\n",
    "DATA_DIR = config['PATH']['DATA_DIR']\n"
   ]
  },
  {
   "cell_type": "code",
   "execution_count": 3,
   "metadata": {},
   "outputs": [],
   "source": [
    "# Load data library\n",
    "data = load(DATA_DIR + '/microarray-data-dict.lib')"
   ]
  },
  {
   "attachments": {},
   "cell_type": "markdown",
   "metadata": {},
   "source": [
    "# Hyperparameter Optimization"
   ]
  },
  {
   "cell_type": "code",
   "execution_count": 4,
   "metadata": {},
   "outputs": [],
   "source": [
    "def init_hyperparameter_configs():\n",
    "    hyperparameter_configs = {\n",
    "        'PCA_LGBM': PCA_LGBM_CFG(),\n",
    "        'SPCA_LGBM': SPCA_LGBM_CFG(),\n",
    "        'GSPCA_LGBM': GSPCA_LGBM_CFG(),\n",
    "        'PCA_LR': PCA_LR_CFG(),\n",
    "        'SPCA_LR': SPCA_LR_CFG(),\n",
    "        'GSPCA_LR': GSPCA_LR_CFG(),\n",
    "    }\n",
    "    return hyperparameter_configs\n",
    "\n",
    "def run_all_optimizations(X_train, y_train, hyperparameter_configs, dataset, n_trials=50):\n",
    "    study_dict = {}\n",
    "    timestamp = dt.datetime.now().strftime(\"%Y%m%d_%H%M\")\n",
    "    \n",
    "    for name, cfg in hyperparameter_configs.items():\n",
    "        optimizer = OptunaOptimzation(\n",
    "            X_train,\n",
    "            y_train,\n",
    "            n_trials=n_trials,\n",
    "            hyperparameter_config=cfg,\n",
    "            name=name,\n",
    "        )\n",
    "        optimizer.run()\n",
    "        \n",
    "        # Save study object\n",
    "        if not os.path.exists(f\"{OPTUNA_DIR}{dataset}\"):\n",
    "            os.makedirs(f\"{OPTUNA_DIR}{dataset}\")\n",
    "            \n",
    "        optimizer.save_study(path=f\"{OPTUNA_DIR}{dataset}/{timestamp}_{name}_optuna_run.csv\")\n",
    "        study_dict[name] = optimizer.study\n",
    "        \n",
    "    return study_dict"
   ]
  },
  {
   "cell_type": "code",
   "execution_count": 5,
   "metadata": {},
   "outputs": [
    {
     "name": "stderr",
     "output_type": "stream",
     "text": [
      "  0%|          | 0/4 [00:00<?, ?it/s]"
     ]
    },
    {
     "name": "stdout",
     "output_type": "stream",
     "text": [
      "Dataset: chin\n",
      "X_train shape: (79, 22215)\n"
     ]
    },
    {
     "name": "stderr",
     "output_type": "stream",
     "text": [
      "  0%|          | 0/4 [08:47<?, ?it/s]\n"
     ]
    },
    {
     "ename": "TypeError",
     "evalue": "_ArrayMemoryError.__init__() missing 1 required positional argument: 'dtype'",
     "output_type": "error",
     "traceback": [
      "\u001b[1;31m---------------------------------------------------------------------------\u001b[0m",
      "\u001b[1;31mMemoryError\u001b[0m                               Traceback (most recent call last)",
      "\u001b[1;31mMemoryError\u001b[0m: Unable to allocate 3.68 GiB for an array with shape (22215, 22215) and data type float64",
      "\nThe above exception was the direct cause of the following exception:\n",
      "\u001b[1;31mTypeError\u001b[0m                                 Traceback (most recent call last)",
      "Cell \u001b[1;32mIn [5], line 9\u001b[0m\n\u001b[0;32m      6\u001b[0m y_train \u001b[39m=\u001b[39m data[dataset][\u001b[39m'\u001b[39m\u001b[39mnone\u001b[39m\u001b[39m'\u001b[39m][\u001b[39m'\u001b[39m\u001b[39my_train\u001b[39m\u001b[39m'\u001b[39m]\u001b[39m.\u001b[39mto_numpy()\u001b[39m.\u001b[39mravel()\n\u001b[0;32m      7\u001b[0m \u001b[39mprint\u001b[39m(\u001b[39mf\u001b[39m\u001b[39m\"\u001b[39m\u001b[39mX_train shape: \u001b[39m\u001b[39m{\u001b[39;00mX_train\u001b[39m.\u001b[39mshape\u001b[39m}\u001b[39;00m\u001b[39m\"\u001b[39m)\n\u001b[1;32m----> 9\u001b[0m run_all_optimizations(X_train, y_train, init_hyperparameter_configs(), dataset,  n_trials\u001b[39m=\u001b[39m\u001b[39m5\u001b[39m)\n",
      "Cell \u001b[1;32mIn [4], line 24\u001b[0m, in \u001b[0;36mrun_all_optimizations\u001b[1;34m(X_train, y_train, hyperparameter_configs, dataset, n_trials)\u001b[0m\n\u001b[0;32m     16\u001b[0m \u001b[39mfor\u001b[39;00m name, cfg \u001b[39min\u001b[39;00m hyperparameter_configs\u001b[39m.\u001b[39mitems():\n\u001b[0;32m     17\u001b[0m     optimizer \u001b[39m=\u001b[39m OptunaOptimzation(\n\u001b[0;32m     18\u001b[0m         X_train,\n\u001b[0;32m     19\u001b[0m         y_train,\n\u001b[1;32m   (...)\u001b[0m\n\u001b[0;32m     22\u001b[0m         name\u001b[39m=\u001b[39mname,\n\u001b[0;32m     23\u001b[0m     )\n\u001b[1;32m---> 24\u001b[0m     optimizer\u001b[39m.\u001b[39;49mrun()\n\u001b[0;32m     26\u001b[0m     \u001b[39m# Save study object\u001b[39;00m\n\u001b[0;32m     27\u001b[0m     \u001b[39mif\u001b[39;00m \u001b[39mnot\u001b[39;00m os\u001b[39m.\u001b[39mpath\u001b[39m.\u001b[39mexists(\u001b[39mf\u001b[39m\u001b[39m\"\u001b[39m\u001b[39m{\u001b[39;00mOPTUNA_DIR\u001b[39m}\u001b[39;00m\u001b[39m{\u001b[39;00mdataset\u001b[39m}\u001b[39;00m\u001b[39m\"\u001b[39m):\n",
      "File \u001b[1;32mc:\\Users\\jaccobroere\\Documents\\personal\\vu-case-study-eds\\src\\helpers\\config\\hyperparameters.py:59\u001b[0m, in \u001b[0;36mOptunaOptimzation.run\u001b[1;34m(self)\u001b[0m\n\u001b[0;32m     57\u001b[0m params \u001b[39m=\u001b[39m \u001b[39mself\u001b[39m\u001b[39m.\u001b[39mcfg\u001b[39m.\u001b[39mget_params()\n\u001b[0;32m     58\u001b[0m pca \u001b[39m=\u001b[39m get_pca_pipeline(\u001b[39m*\u001b[39m\u001b[39m*\u001b[39mparams\u001b[39m.\u001b[39mget(\u001b[39m\"\u001b[39m\u001b[39mpca\u001b[39m\u001b[39m\"\u001b[39m))\n\u001b[1;32m---> 59\u001b[0m \u001b[39mself\u001b[39m\u001b[39m.\u001b[39mX_train \u001b[39m=\u001b[39m pca\u001b[39m.\u001b[39;49mfit_transform(\u001b[39mself\u001b[39;49m\u001b[39m.\u001b[39;49mX_train)\n\u001b[0;32m     61\u001b[0m \u001b[39m# Optimize model parameters\u001b[39;00m\n\u001b[0;32m     62\u001b[0m \u001b[39mself\u001b[39m\u001b[39m.\u001b[39mstudy\u001b[39m.\u001b[39moptimize(\n\u001b[0;32m     63\u001b[0m     \u001b[39mlambda\u001b[39;00m trial: \u001b[39mself\u001b[39m\u001b[39m.\u001b[39m_objective(\n\u001b[0;32m     64\u001b[0m         trial,\n\u001b[1;32m   (...)\u001b[0m\n\u001b[0;32m     68\u001b[0m     n_trials\u001b[39m=\u001b[39m\u001b[39mself\u001b[39m\u001b[39m.\u001b[39mn_trials,\n\u001b[0;32m     69\u001b[0m )\n",
      "File \u001b[1;32mc:\\Users\\jaccobroere\\AppData\\Local\\Programs\\Python\\Python310\\lib\\site-packages\\sklearn\\pipeline.py:414\u001b[0m, in \u001b[0;36mPipeline.fit_transform\u001b[1;34m(self, X, y, **fit_params)\u001b[0m\n\u001b[0;32m    387\u001b[0m \u001b[39m\"\"\"Fit the model and transform with the final estimator.\u001b[39;00m\n\u001b[0;32m    388\u001b[0m \n\u001b[0;32m    389\u001b[0m \u001b[39mFits all the transformers one after the other and transform the\u001b[39;00m\n\u001b[1;32m   (...)\u001b[0m\n\u001b[0;32m    411\u001b[0m \u001b[39m    Transformed samples.\u001b[39;00m\n\u001b[0;32m    412\u001b[0m \u001b[39m\"\"\"\u001b[39;00m\n\u001b[0;32m    413\u001b[0m fit_params_steps \u001b[39m=\u001b[39m \u001b[39mself\u001b[39m\u001b[39m.\u001b[39m_check_fit_params(\u001b[39m*\u001b[39m\u001b[39m*\u001b[39mfit_params)\n\u001b[1;32m--> 414\u001b[0m Xt \u001b[39m=\u001b[39m \u001b[39mself\u001b[39m\u001b[39m.\u001b[39m_fit(X, y, \u001b[39m*\u001b[39m\u001b[39m*\u001b[39mfit_params_steps)\n\u001b[0;32m    416\u001b[0m last_step \u001b[39m=\u001b[39m \u001b[39mself\u001b[39m\u001b[39m.\u001b[39m_final_estimator\n\u001b[0;32m    417\u001b[0m \u001b[39mwith\u001b[39;00m _print_elapsed_time(\u001b[39m\"\u001b[39m\u001b[39mPipeline\u001b[39m\u001b[39m\"\u001b[39m, \u001b[39mself\u001b[39m\u001b[39m.\u001b[39m_log_message(\u001b[39mlen\u001b[39m(\u001b[39mself\u001b[39m\u001b[39m.\u001b[39msteps) \u001b[39m-\u001b[39m \u001b[39m1\u001b[39m)):\n",
      "File \u001b[1;32mc:\\Users\\jaccobroere\\AppData\\Local\\Programs\\Python\\Python310\\lib\\site-packages\\sklearn\\pipeline.py:336\u001b[0m, in \u001b[0;36mPipeline._fit\u001b[1;34m(self, X, y, **fit_params_steps)\u001b[0m\n\u001b[0;32m    334\u001b[0m     cloned_transformer \u001b[39m=\u001b[39m clone(transformer)\n\u001b[0;32m    335\u001b[0m \u001b[39m# Fit or load from cache the current transformer\u001b[39;00m\n\u001b[1;32m--> 336\u001b[0m X, fitted_transformer \u001b[39m=\u001b[39m fit_transform_one_cached(\n\u001b[0;32m    337\u001b[0m     cloned_transformer,\n\u001b[0;32m    338\u001b[0m     X,\n\u001b[0;32m    339\u001b[0m     y,\n\u001b[0;32m    340\u001b[0m     \u001b[39mNone\u001b[39;00m,\n\u001b[0;32m    341\u001b[0m     message_clsname\u001b[39m=\u001b[39m\u001b[39m\"\u001b[39m\u001b[39mPipeline\u001b[39m\u001b[39m\"\u001b[39m,\n\u001b[0;32m    342\u001b[0m     message\u001b[39m=\u001b[39m\u001b[39mself\u001b[39m\u001b[39m.\u001b[39m_log_message(step_idx),\n\u001b[0;32m    343\u001b[0m     \u001b[39m*\u001b[39m\u001b[39m*\u001b[39mfit_params_steps[name],\n\u001b[0;32m    344\u001b[0m )\n\u001b[0;32m    345\u001b[0m \u001b[39m# Replace the transformer of the step with the fitted\u001b[39;00m\n\u001b[0;32m    346\u001b[0m \u001b[39m# transformer. This is necessary when loading the transformer\u001b[39;00m\n\u001b[0;32m    347\u001b[0m \u001b[39m# from the cache.\u001b[39;00m\n\u001b[0;32m    348\u001b[0m \u001b[39mself\u001b[39m\u001b[39m.\u001b[39msteps[step_idx] \u001b[39m=\u001b[39m (name, fitted_transformer)\n",
      "File \u001b[1;32mc:\\Users\\jaccobroere\\AppData\\Local\\Programs\\Python\\Python310\\lib\\site-packages\\joblib\\memory.py:349\u001b[0m, in \u001b[0;36mNotMemorizedFunc.__call__\u001b[1;34m(self, *args, **kwargs)\u001b[0m\n\u001b[0;32m    348\u001b[0m \u001b[39mdef\u001b[39;00m \u001b[39m__call__\u001b[39m(\u001b[39mself\u001b[39m, \u001b[39m*\u001b[39margs, \u001b[39m*\u001b[39m\u001b[39m*\u001b[39mkwargs):\n\u001b[1;32m--> 349\u001b[0m     \u001b[39mreturn\u001b[39;00m \u001b[39mself\u001b[39m\u001b[39m.\u001b[39mfunc(\u001b[39m*\u001b[39margs, \u001b[39m*\u001b[39m\u001b[39m*\u001b[39mkwargs)\n",
      "File \u001b[1;32mc:\\Users\\jaccobroere\\AppData\\Local\\Programs\\Python\\Python310\\lib\\site-packages\\sklearn\\pipeline.py:870\u001b[0m, in \u001b[0;36m_fit_transform_one\u001b[1;34m(transformer, X, y, weight, message_clsname, message, **fit_params)\u001b[0m\n\u001b[0;32m    868\u001b[0m \u001b[39mwith\u001b[39;00m _print_elapsed_time(message_clsname, message):\n\u001b[0;32m    869\u001b[0m     \u001b[39mif\u001b[39;00m \u001b[39mhasattr\u001b[39m(transformer, \u001b[39m\"\u001b[39m\u001b[39mfit_transform\u001b[39m\u001b[39m\"\u001b[39m):\n\u001b[1;32m--> 870\u001b[0m         res \u001b[39m=\u001b[39m transformer\u001b[39m.\u001b[39mfit_transform(X, y, \u001b[39m*\u001b[39m\u001b[39m*\u001b[39mfit_params)\n\u001b[0;32m    871\u001b[0m     \u001b[39melse\u001b[39;00m:\n\u001b[0;32m    872\u001b[0m         res \u001b[39m=\u001b[39m transformer\u001b[39m.\u001b[39mfit(X, y, \u001b[39m*\u001b[39m\u001b[39m*\u001b[39mfit_params)\u001b[39m.\u001b[39mtransform(X)\n",
      "File \u001b[1;32mc:\\Users\\jaccobroere\\AppData\\Local\\Programs\\Python\\Python310\\lib\\site-packages\\sklearn\\base.py:867\u001b[0m, in \u001b[0;36mTransformerMixin.fit_transform\u001b[1;34m(self, X, y, **fit_params)\u001b[0m\n\u001b[0;32m    863\u001b[0m \u001b[39m# non-optimized default implementation; override when a better\u001b[39;00m\n\u001b[0;32m    864\u001b[0m \u001b[39m# method is possible for a given clustering algorithm\u001b[39;00m\n\u001b[0;32m    865\u001b[0m \u001b[39mif\u001b[39;00m y \u001b[39mis\u001b[39;00m \u001b[39mNone\u001b[39;00m:\n\u001b[0;32m    866\u001b[0m     \u001b[39m# fit method of arity 1 (unsupervised transformation)\u001b[39;00m\n\u001b[1;32m--> 867\u001b[0m     \u001b[39mreturn\u001b[39;00m \u001b[39mself\u001b[39m\u001b[39m.\u001b[39mfit(X, \u001b[39m*\u001b[39m\u001b[39m*\u001b[39mfit_params)\u001b[39m.\u001b[39mtransform(X)\n\u001b[0;32m    868\u001b[0m \u001b[39melse\u001b[39;00m:\n\u001b[0;32m    869\u001b[0m     \u001b[39m# fit method of arity 2 (supervised transformation)\u001b[39;00m\n\u001b[0;32m    870\u001b[0m     \u001b[39mreturn\u001b[39;00m \u001b[39mself\u001b[39m\u001b[39m.\u001b[39mfit(X, y, \u001b[39m*\u001b[39m\u001b[39m*\u001b[39mfit_params)\u001b[39m.\u001b[39mtransform(X)\n",
      "File \u001b[1;32mc:\\Users\\jaccobroere\\Documents\\personal\\vu-case-study-eds\\src\\helpers\\helper_classes.py:68\u001b[0m, in \u001b[0;36mEnetSPCA.fit\u001b[1;34m(self, X, y, verbose)\u001b[0m\n\u001b[0;32m     66\u001b[0m B \u001b[39m=\u001b[39m np\u001b[39m.\u001b[39mzeros((A[:, \u001b[39m0\u001b[39m]\u001b[39m.\u001b[39mshape[\u001b[39m0\u001b[39m], \u001b[39mself\u001b[39m\u001b[39m.\u001b[39mn_components))\n\u001b[0;32m     67\u001b[0m XtX \u001b[39m=\u001b[39m X\u001b[39m.\u001b[39mT \u001b[39m@\u001b[39m X\n\u001b[1;32m---> 68\u001b[0m Sig_root \u001b[39m=\u001b[39m sqrtm(XtX)\n\u001b[0;32m     69\u001b[0m Sig_root \u001b[39m=\u001b[39m Sig_root\u001b[39m.\u001b[39mreal\n\u001b[0;32m     71\u001b[0m \u001b[39m# ElasticNET() is not suitable for alpha = 0, return PCA results\u001b[39;00m\n",
      "File \u001b[1;32mc:\\Users\\jaccobroere\\AppData\\Local\\Programs\\Python\\Python310\\lib\\site-packages\\scipy\\linalg\\_matfuncs_sqrtm.py:168\u001b[0m, in \u001b[0;36msqrtm\u001b[1;34m(A, disp, blocksize)\u001b[0m\n\u001b[0;32m    166\u001b[0m keep_it_real \u001b[39m=\u001b[39m np\u001b[39m.\u001b[39misrealobj(A)\n\u001b[0;32m    167\u001b[0m \u001b[39mif\u001b[39;00m keep_it_real:\n\u001b[1;32m--> 168\u001b[0m     T, Z \u001b[39m=\u001b[39m schur(A)\n\u001b[0;32m    169\u001b[0m     \u001b[39mif\u001b[39;00m \u001b[39mnot\u001b[39;00m np\u001b[39m.\u001b[39marray_equal(T, np\u001b[39m.\u001b[39mtriu(T)):\n\u001b[0;32m    170\u001b[0m         T, Z \u001b[39m=\u001b[39m rsf2csf(T, Z)\n",
      "File \u001b[1;32mc:\\Users\\jaccobroere\\AppData\\Local\\Programs\\Python\\Python310\\lib\\site-packages\\scipy\\linalg\\_decomp_schur.py:158\u001b[0m, in \u001b[0;36mschur\u001b[1;34m(a, output, lwork, overwrite_a, sort, check_finite)\u001b[0m\n\u001b[0;32m    154\u001b[0m     \u001b[39melse\u001b[39;00m:\n\u001b[0;32m    155\u001b[0m         \u001b[39mraise\u001b[39;00m \u001b[39mValueError\u001b[39;00m(\u001b[39m\"\u001b[39m\u001b[39m'\u001b[39m\u001b[39msort\u001b[39m\u001b[39m'\u001b[39m\u001b[39m parameter must either be \u001b[39m\u001b[39m'\u001b[39m\u001b[39mNone\u001b[39m\u001b[39m'\u001b[39m\u001b[39m, or a \u001b[39m\u001b[39m\"\u001b[39m\n\u001b[0;32m    156\u001b[0m                          \u001b[39m\"\u001b[39m\u001b[39mcallable, or one of (\u001b[39m\u001b[39m'\u001b[39m\u001b[39mlhp\u001b[39m\u001b[39m'\u001b[39m\u001b[39m,\u001b[39m\u001b[39m'\u001b[39m\u001b[39mrhp\u001b[39m\u001b[39m'\u001b[39m\u001b[39m,\u001b[39m\u001b[39m'\u001b[39m\u001b[39miuc\u001b[39m\u001b[39m'\u001b[39m\u001b[39m,\u001b[39m\u001b[39m'\u001b[39m\u001b[39mouc\u001b[39m\u001b[39m'\u001b[39m\u001b[39m)\u001b[39m\u001b[39m\"\u001b[39m)\n\u001b[1;32m--> 158\u001b[0m result \u001b[39m=\u001b[39m gees(sfunction, a1, lwork\u001b[39m=\u001b[39;49mlwork, overwrite_a\u001b[39m=\u001b[39;49moverwrite_a,\n\u001b[0;32m    159\u001b[0m               sort_t\u001b[39m=\u001b[39;49msort_t)\n\u001b[0;32m    161\u001b[0m info \u001b[39m=\u001b[39m result[\u001b[39m-\u001b[39m\u001b[39m1\u001b[39m]\n\u001b[0;32m    162\u001b[0m \u001b[39mif\u001b[39;00m info \u001b[39m<\u001b[39m \u001b[39m0\u001b[39m:\n",
      "\u001b[1;31mTypeError\u001b[0m: _ArrayMemoryError.__init__() missing 1 required positional argument: 'dtype'"
     ]
    }
   ],
   "source": [
    "dataset_list = ['chin', 'chowdary', 'gravier', 'west']\n",
    "\n",
    "for dataset in tqdm(dataset_list):\n",
    "    print(f\"Dataset: {dataset}\")\n",
    "    X_train = data[dataset]['none']['X_train']\n",
    "    y_train = data[dataset]['none']['y_train'].to_numpy().ravel()\n",
    "    print(f\"X_train shape: {X_train.shape}\")\n",
    "    \n",
    "    run_all_optimizations(X_train, y_train, init_hyperparameter_configs(), dataset,  n_trials=5)"
   ]
  }
 ],
 "metadata": {
  "kernelspec": {
   "display_name": "Python 3",
   "language": "python",
   "name": "python3"
  },
  "language_info": {
   "codemirror_mode": {
    "name": "ipython",
    "version": 3
   },
   "file_extension": ".py",
   "mimetype": "text/x-python",
   "name": "python",
   "nbconvert_exporter": "python",
   "pygments_lexer": "ipython3",
   "version": "3.10.4"
  },
  "orig_nbformat": 4,
  "vscode": {
   "interpreter": {
    "hash": "47fc3cfc3bb9b67a77dec08463907c26f06c76f6150a520c7ec8ce1466106299"
   }
  }
 },
 "nbformat": 4,
 "nbformat_minor": 2
}
