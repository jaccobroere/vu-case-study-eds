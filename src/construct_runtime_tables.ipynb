{
 "cells": [
  {
   "cell_type": "code",
   "execution_count": 2,
   "metadata": {},
   "outputs": [],
   "source": [
    "# import utility modules\n",
    "import pandas as pd\n",
    "import numpy as np\n",
    "import configparser\n",
    "import os\n",
    "import time\n",
    "\n",
    "# helper functions\n",
    "from helpers.helper_classes import Gene_SPCA\n",
    "\n",
    "# sklearn\n",
    "from sklearn.decomposition import PCA, SparsePCA\n",
    "\n",
    "# joblib\n",
    "from joblib import dump, load\n",
    "\n",
    "# Read config.ini file\n",
    "config = configparser.ConfigParser()\n",
    "config.read('src/config.ini')\n",
    "os.chdir(config['PATH']['ROOT_DIR'])\n",
    "\n",
    "# Read parameters\n",
    "SEED = config.getint('PARAMS', 'SEED')\n",
    "N_COMPONENTS = config.getint('PARAMS', 'N_COMPONENTS')\n",
    "\n",
    "# Load in data\n",
    "data = load(config['PATH']['DATA_DIR'] + '/microarray-data-dict.lib')"
   ]
  },
  {
   "cell_type": "code",
   "execution_count": null,
   "metadata": {},
   "outputs": [],
   "source": [
    "# Relevant transformations\n",
    "    # TODO: make spca and gene spca a fair comparison by making them use \n",
    "    # the same number of non-zero loadings\n",
    "\n",
    "def get_gene_spca(n_components, random_state):\n",
    "    return Gene_SPCA(n_comps = n_components, l1= 400)\n",
    "\n",
    "def get_spca(n_components, random_state):\n",
    "    return SparsePCA(n_components=n_components, random_state=random_state)\n",
    "\n",
    "def get_pca(n_components, random_state):\n",
    "    return PCA(n_components=n_components, random_state=random_state)"
   ]
  },
  {
   "cell_type": "code",
   "execution_count": 2,
   "metadata": {},
   "outputs": [],
   "source": [
    "### Config for runtime tables\n",
    "\n",
    "## Which datasets to run\n",
    "\n",
    "# Golub because original, Christensen because of small dataset, Chin because of large dataset, Nakayama because of large number of classes\n",
    "# dataset_list = ['golub', 'christensen', 'chin', 'nakayama']\n",
    "\n",
    "# Easy running datasets\n",
    "dataset_list = ['sorlie', 'christensen', 'alon']\n",
    "\n",
    "## Which transformations to run\n",
    "transforms_dict = {'pca': get_pca, 'spca': get_spca, 'gene_spca': get_gene_spca}"
   ]
  },
  {
   "cell_type": "code",
   "execution_count": 3,
   "metadata": {},
   "outputs": [
    {
     "name": "stdout",
     "output_type": "stream",
     "text": [
      "sorlie pca\n",
      "9.73 ms ± 1.03 ms per loop (mean ± std. dev. of 7 runs, 100 loops each)\n",
      "--- 0.00972821125003975 seconds ---\n",
      "sorlie gene_spca\n",
      "50.7 ms ± 2.75 ms per loop (mean ± std. dev. of 7 runs, 10 loops each)\n",
      "--- 0.05072041605682378 seconds ---\n",
      "christensen pca\n",
      "185 ms ± 14.3 ms per loop (mean ± std. dev. of 7 runs, 10 loops each)\n",
      "--- 0.18537338035613565 seconds ---\n",
      "christensen gene_spca\n",
      "4.89 s ± 495 ms per loop (mean ± std. dev. of 7 runs, 1 loop each)\n",
      "--- 4.891852499850627 seconds ---\n",
      "alon pca\n",
      "199 ms ± 39 ms per loop (mean ± std. dev. of 7 runs, 10 loops each)\n",
      "--- 0.1988741101273003 seconds ---\n",
      "alon gene_spca\n",
      "7.72 s ± 2.88 s per loop (mean ± std. dev. of 7 runs, 1 loop each)\n",
      "--- 7.720449595429402 seconds ---\n"
     ]
    }
   ],
   "source": [
    "# Loop to construct table of runtimes\n",
    "\n",
    "# Initialize dictionary to store results\n",
    "timed_results_dict = {}\n",
    "\n",
    "# Loop through datasets\n",
    "for data_name in dataset_list:\n",
    "    \n",
    "    X = data[data_name]['none']['X_train']\n",
    "    timed_results_dict[data_name] = {}\n",
    "\n",
    "    for transform_name, transform_fn in transforms_dict.items():\n",
    "        print(f'{data_name} {transform_name}')\n",
    "\n",
    "        # Instantiate transformer\n",
    "        transformer_cur = transform_fn(N_COMPONENTS, SEED)\n",
    "\n",
    "        # Time execution of fitting transformer\n",
    "        timed_result = %timeit -o transformer_cur.fit(X)\n",
    "        timed_results_dict[data_name][transform_name] = (timed_result.average, timed_result.stdev)\n",
    "\n",
    "        \n"
   ]
  },
  {
   "cell_type": "code",
   "execution_count": 14,
   "metadata": {},
   "outputs": [
    {
     "data": {
      "text/html": [
       "<div>\n",
       "<style scoped>\n",
       "    .dataframe tbody tr th:only-of-type {\n",
       "        vertical-align: middle;\n",
       "    }\n",
       "\n",
       "    .dataframe tbody tr th {\n",
       "        vertical-align: top;\n",
       "    }\n",
       "\n",
       "    .dataframe thead th {\n",
       "        text-align: right;\n",
       "    }\n",
       "</style>\n",
       "<table border=\"1\" class=\"dataframe\">\n",
       "  <thead>\n",
       "    <tr style=\"text-align: right;\">\n",
       "      <th></th>\n",
       "      <th></th>\n",
       "      <th>pca</th>\n",
       "      <th>gene_spca</th>\n",
       "    </tr>\n",
       "  </thead>\n",
       "  <tbody>\n",
       "    <tr>\n",
       "      <th rowspan=\"2\" valign=\"top\">sorlie</th>\n",
       "      <th>avg</th>\n",
       "      <td>0.009728</td>\n",
       "      <td>0.050720</td>\n",
       "    </tr>\n",
       "    <tr>\n",
       "      <th>stdev</th>\n",
       "      <td>0.001029</td>\n",
       "      <td>0.002748</td>\n",
       "    </tr>\n",
       "    <tr>\n",
       "      <th rowspan=\"2\" valign=\"top\">christensen</th>\n",
       "      <th>avg</th>\n",
       "      <td>0.185373</td>\n",
       "      <td>4.891852</td>\n",
       "    </tr>\n",
       "    <tr>\n",
       "      <th>stdev</th>\n",
       "      <td>0.014255</td>\n",
       "      <td>0.495207</td>\n",
       "    </tr>\n",
       "    <tr>\n",
       "      <th rowspan=\"2\" valign=\"top\">alon</th>\n",
       "      <th>avg</th>\n",
       "      <td>0.198874</td>\n",
       "      <td>7.720450</td>\n",
       "    </tr>\n",
       "    <tr>\n",
       "      <th>stdev</th>\n",
       "      <td>0.039008</td>\n",
       "      <td>2.882258</td>\n",
       "    </tr>\n",
       "  </tbody>\n",
       "</table>\n",
       "</div>"
      ],
      "text/plain": [
       "                        pca  gene_spca\n",
       "sorlie      avg    0.009728   0.050720\n",
       "            stdev  0.001029   0.002748\n",
       "christensen avg    0.185373   4.891852\n",
       "            stdev  0.014255   0.495207\n",
       "alon        avg    0.198874   7.720450\n",
       "            stdev  0.039008   2.882258"
      ]
     },
     "execution_count": 14,
     "metadata": {},
     "output_type": "execute_result"
    }
   ],
   "source": [
    "# Reform created dictionary into right format for dataframe\n",
    "reform = {}\n",
    "\n",
    "for dname, res_dict in timed_results_dict.items():\n",
    "    tnames = []\n",
    "    reform[(dname, 'avg')] = []\n",
    "    reform[(dname, 'stdev')] = []\n",
    "    for tname, res in res_dict.items():\n",
    "        tnames.append(tname)\n",
    "        reform[(dname, 'avg')].append(res[0])\n",
    "        reform[(dname, 'stdev')].append(res[1])\n",
    "\n",
    "# Create dataframe\n",
    "res_runtimes = pd.DataFrame.from_dict(reform).T\n",
    "res_runtimes.columns = tnames\n",
    "res_runtimes    \n",
    "\n",
    "\n",
    "\n"
   ]
  },
  {
   "cell_type": "code",
   "execution_count": null,
   "metadata": {},
   "outputs": [],
   "source": [
    "print(res_runtimes.to_latex())"
   ]
  }
 ],
 "metadata": {
  "kernelspec": {
   "display_name": "venv",
   "language": "python",
   "name": "python3"
  },
  "language_info": {
   "codemirror_mode": {
    "name": "ipython",
    "version": 3
   },
   "file_extension": ".py",
   "mimetype": "text/x-python",
   "name": "python",
   "nbconvert_exporter": "python",
   "pygments_lexer": "ipython3",
   "version": "3.10.7 (v3.10.7:6cc6b13308, Sep  5 2022, 14:02:52) [Clang 13.0.0 (clang-1300.0.29.30)]"
  },
  "orig_nbformat": 4,
  "vscode": {
   "interpreter": {
    "hash": "5e6bfdc5e747882d0c1236e11db0a3029a2ad21f412da50d5656bcce3e752b4d"
   }
  }
 },
 "nbformat": 4,
 "nbformat_minor": 2
}
